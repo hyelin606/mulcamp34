{
 "cells": [
  {
   "cell_type": "markdown",
   "id": "3edcb0b1-7d41-45a4-a4cc-b66802fc310a",
   "metadata": {},
   "source": [
    "## Numpy\n",
    "- 선형대수, 행렬 수치연산과 관련된 라이브러리리"
   ]
  },
  {
   "cell_type": "code",
   "execution_count": 1,
   "id": "ef342adb-365d-4a00-8ccc-b9e82b96bc27",
   "metadata": {
    "tags": []
   },
   "outputs": [
    {
     "name": "stdout",
     "output_type": "stream",
     "text": [
      "Requirement already satisfied: numpy in c:\\users\\imhye\\anaconda3\\lib\\site-packages (1.24.3)Note: you may need to restart the kernel to use updated packages.\n",
      "\n"
     ]
    }
   ],
   "source": [
    "pip install numpy"
   ]
  },
  {
   "cell_type": "code",
   "execution_count": 31,
   "id": "d6c8af23-dd36-40b4-aa2d-14bc4f13f691",
   "metadata": {
    "tags": []
   },
   "outputs": [
    {
     "name": "stdout",
     "output_type": "stream",
     "text": [
      "1.29.0\n"
     ]
    }
   ],
   "source": [
    "import streamlit as st\n",
    "\n",
    "print(st.__version__)"
   ]
  },
  {
   "cell_type": "code",
   "execution_count": 4,
   "id": "a57038b9-a9ee-4504-81eb-e8a685d9e4c2",
   "metadata": {
    "tags": []
   },
   "outputs": [
    {
     "name": "stdout",
     "output_type": "stream",
     "text": [
      "1.24.3\n"
     ]
    }
   ],
   "source": [
    "import numpy as np # Numpy 라이브러리 불러오기\n",
    "\n",
    "print(np.__version__)"
   ]
  },
  {
   "cell_type": "code",
   "execution_count": 5,
   "id": "6b535cb6-3529-4fa5-9c28-3997afa70f14",
   "metadata": {
    "tags": []
   },
   "outputs": [
    {
     "data": {
      "text/plain": [
       "[1, 2, 3, 4, 3, 4, 5, 6]"
      ]
     },
     "execution_count": 5,
     "metadata": {},
     "output_type": "execute_result"
    }
   ],
   "source": [
    "num1 = [1, 2, 3, 4]\n",
    "num2 = [3, 4, 5, 6]\n",
    "\n",
    "num1 + num2"
   ]
  },
  {
   "cell_type": "code",
   "execution_count": 6,
   "id": "3936d795-a9ba-43fb-a614-d6a3ad6185f9",
   "metadata": {
    "tags": []
   },
   "outputs": [],
   "source": [
    "arr1 = np.array(num1)\n",
    "arr2 = np.array(num2)"
   ]
  },
  {
   "cell_type": "code",
   "execution_count": 7,
   "id": "6f4ed06b-e26b-406e-b5d7-a71098c11a5b",
   "metadata": {
    "tags": []
   },
   "outputs": [
    {
     "data": {
      "text/plain": [
       "array([1, 2, 3, 4])"
      ]
     },
     "execution_count": 7,
     "metadata": {},
     "output_type": "execute_result"
    }
   ],
   "source": [
    "arr1"
   ]
  },
  {
   "cell_type": "code",
   "execution_count": 8,
   "id": "94aed26d-ff4c-4305-adf4-a2fa3875849d",
   "metadata": {
    "tags": []
   },
   "outputs": [
    {
     "data": {
      "text/plain": [
       "array([3, 4, 5, 6])"
      ]
     },
     "execution_count": 8,
     "metadata": {},
     "output_type": "execute_result"
    }
   ],
   "source": [
    "arr2"
   ]
  },
  {
   "cell_type": "code",
   "execution_count": 9,
   "id": "ff1fef13-7022-42ac-a69c-5d5eb72a5078",
   "metadata": {
    "tags": []
   },
   "outputs": [
    {
     "data": {
      "text/plain": [
       "array([ 4,  6,  8, 10])"
      ]
     },
     "execution_count": 9,
     "metadata": {},
     "output_type": "execute_result"
    }
   ],
   "source": [
    "arr1 + arr2"
   ]
  },
  {
   "cell_type": "code",
   "execution_count": 10,
   "id": "0c09a8a2-438e-4a6a-9c70-cd7ad748c81a",
   "metadata": {
    "tags": []
   },
   "outputs": [
    {
     "data": {
      "text/plain": [
       "array([0, 1, 2, 3, 4, 5])"
      ]
     },
     "execution_count": 10,
     "metadata": {},
     "output_type": "execute_result"
    }
   ],
   "source": [
    "data1 = [0, 1, 2, 3, 4, 5]\n",
    "a1 = np.array(data1)\n",
    "a1"
   ]
  },
  {
   "cell_type": "code",
   "execution_count": 13,
   "id": "61d130b6-4e3a-4d3c-80da-0cdeae2a1e30",
   "metadata": {
    "tags": []
   },
   "outputs": [
    {
     "data": {
      "text/plain": [
       "dtype('int32')"
      ]
     },
     "execution_count": 13,
     "metadata": {},
     "output_type": "execute_result"
    }
   ],
   "source": [
    "a1.dtype # Python int # Numpy int8, int6, int 32, int64"
   ]
  },
  {
   "cell_type": "code",
   "execution_count": 17,
   "id": "819d8ed9-5f03-4f97-b805-c157757a073f",
   "metadata": {
    "tags": []
   },
   "outputs": [
    {
     "data": {
      "text/plain": [
       "dtype('float64')"
      ]
     },
     "execution_count": 17,
     "metadata": {},
     "output_type": "execute_result"
    }
   ],
   "source": [
    "np.array([0.5, 2, 0.01, 8]).dtype"
   ]
  },
  {
   "cell_type": "code",
   "execution_count": 20,
   "id": "c8120101-bf65-4d00-9b65-bbd14ee844a9",
   "metadata": {
    "tags": []
   },
   "outputs": [
    {
     "data": {
      "text/plain": [
       "array([0, 2, 4, 6, 8])"
      ]
     },
     "execution_count": 20,
     "metadata": {},
     "output_type": "execute_result"
    }
   ],
   "source": [
    "np.arange(0, 10, 2)"
   ]
  },
  {
   "cell_type": "code",
   "execution_count": 23,
   "id": "1c524d66-0294-464a-8dc3-5b24b763be9d",
   "metadata": {
    "tags": []
   },
   "outputs": [
    {
     "data": {
      "text/plain": [
       "array([1, 2, 3, 4, 5, 6, 7, 8, 9])"
      ]
     },
     "execution_count": 23,
     "metadata": {},
     "output_type": "execute_result"
    }
   ],
   "source": [
    "np.arange(1, 10)"
   ]
  },
  {
   "cell_type": "code",
   "execution_count": 24,
   "id": "4b30513f-7b4c-4903-95f0-b02d4ba9b914",
   "metadata": {
    "tags": []
   },
   "outputs": [
    {
     "data": {
      "text/plain": [
       "array([0, 1, 2, 3, 4, 5, 6, 7, 8, 9])"
      ]
     },
     "execution_count": 24,
     "metadata": {},
     "output_type": "execute_result"
    }
   ],
   "source": [
    "np.arange(10) # 1차원 배열, 2차원 또는 3차원으로 변경"
   ]
  },
  {
   "cell_type": "code",
   "execution_count": 27,
   "id": "c8114d11-3e01-4171-acd2-d50022b817c2",
   "metadata": {
    "tags": []
   },
   "outputs": [
    {
     "data": {
      "text/plain": [
       "array([[ 0,  1,  2],\n",
       "       [ 3,  4,  5],\n",
       "       [ 6,  7,  8],\n",
       "       [ 9, 10, 11]])"
      ]
     },
     "execution_count": 27,
     "metadata": {},
     "output_type": "execute_result"
    }
   ],
   "source": [
    "np.arange(12).reshape(4,3)"
   ]
  },
  {
   "cell_type": "code",
   "execution_count": 30,
   "id": "65438286-43d9-4cb3-8261-284853e11d05",
   "metadata": {
    "tags": []
   },
   "outputs": [
    {
     "data": {
      "text/plain": [
       "array([[[ 0,  1,  2],\n",
       "        [ 3,  4,  5]],\n",
       "\n",
       "       [[ 6,  7,  8],\n",
       "        [ 9, 10, 11]]])"
      ]
     },
     "execution_count": 30,
     "metadata": {},
     "output_type": "execute_result"
    }
   ],
   "source": [
    "np.arange(12).reshape(2, 2, 3)"
   ]
  },
  {
   "cell_type": "code",
   "execution_count": 25,
   "id": "cab6ef20-111b-4917-8114-791ced9e0d45",
   "metadata": {
    "tags": []
   },
   "outputs": [
    {
     "data": {
      "text/plain": [
       "array([ 0,  1,  2,  3,  4,  5,  6,  7,  8,  9, 10, 11])"
      ]
     },
     "execution_count": 25,
     "metadata": {},
     "output_type": "execute_result"
    }
   ],
   "source": [
    "np.arange(12)"
   ]
  },
  {
   "cell_type": "code",
   "execution_count": 35,
   "id": "267c40c3-71ff-479d-ab3a-eb7263435fd7",
   "metadata": {
    "tags": []
   },
   "outputs": [
    {
     "data": {
      "text/plain": [
       "(4, 3)"
      ]
     },
     "execution_count": 35,
     "metadata": {},
     "output_type": "execute_result"
    }
   ],
   "source": [
    "b1 = np.arange(12).reshape(4, 3)\n",
    "b1.shape"
   ]
  },
  {
   "cell_type": "code",
   "execution_count": 36,
   "id": "11053611-f92d-4801-ac3e-c663beab2c6a",
   "metadata": {
    "tags": []
   },
   "outputs": [
    {
     "data": {
      "text/plain": [
       "(5,)"
      ]
     },
     "execution_count": 36,
     "metadata": {},
     "output_type": "execute_result"
    }
   ],
   "source": [
    "b2 = np.arange(5)\n",
    "b2.shape"
   ]
  },
  {
   "cell_type": "code",
   "execution_count": 39,
   "id": "a546b8e2-b174-40f1-89e1-c7092ee158d9",
   "metadata": {
    "tags": []
   },
   "outputs": [
    {
     "data": {
      "text/plain": [
       "array([ 3.  ,  4.75,  6.5 ,  8.25, 10.  ])"
      ]
     },
     "execution_count": 39,
     "metadata": {},
     "output_type": "execute_result"
    }
   ],
   "source": [
    "# 범위의 시작과 끝 정하기 배열 생성\n",
    "np.linspace(3, 10, 5)"
   ]
  },
  {
   "cell_type": "code",
   "execution_count": 41,
   "id": "c4dba843-9573-4fc9-b737-0e4c9de650d9",
   "metadata": {
    "tags": []
   },
   "outputs": [
    {
     "data": {
      "text/plain": [
       "array([0.        , 0.16534698, 0.33069396, 0.49604095, 0.66138793,\n",
       "       0.82673491, 0.99208189, 1.15742887, 1.32277585, 1.48812284,\n",
       "       1.65346982, 1.8188168 , 1.98416378, 2.14951076, 2.31485774,\n",
       "       2.48020473, 2.64555171, 2.81089869, 2.97624567, 3.14159265])"
      ]
     },
     "execution_count": 41,
     "metadata": {},
     "output_type": "execute_result"
    }
   ],
   "source": [
    "np.linspace(0, np.pi, 20)"
   ]
  },
  {
   "cell_type": "code",
   "execution_count": 43,
   "id": "666e8e79-0fbe-45a6-a92c-08f7311e0c80",
   "metadata": {
    "tags": []
   },
   "outputs": [
    {
     "data": {
      "text/plain": [
       "array([0., 0., 0., 0., 0., 0., 0., 0., 0., 0.])"
      ]
     },
     "execution_count": 43,
     "metadata": {},
     "output_type": "execute_result"
    }
   ],
   "source": [
    "np.zeros(10)"
   ]
  },
  {
   "cell_type": "code",
   "execution_count": 45,
   "id": "4318b2ac-0353-4505-b085-1c82ce0372f1",
   "metadata": {
    "tags": []
   },
   "outputs": [
    {
     "data": {
      "text/plain": [
       "array([[0., 0.],\n",
       "       [0., 0.]])"
      ]
     },
     "execution_count": 45,
     "metadata": {},
     "output_type": "execute_result"
    }
   ],
   "source": [
    "np.zeros((2, 2))"
   ]
  },
  {
   "cell_type": "code",
   "execution_count": 47,
   "id": "3703a3dd-ed33-4157-b65c-f22d755cf9c0",
   "metadata": {
    "tags": []
   },
   "outputs": [
    {
     "data": {
      "text/plain": [
       "array([1., 1., 1., 1., 1., 1., 1., 1., 1., 1.])"
      ]
     },
     "execution_count": 47,
     "metadata": {},
     "output_type": "execute_result"
    }
   ],
   "source": [
    "np.ones(10)"
   ]
  },
  {
   "cell_type": "code",
   "execution_count": 49,
   "id": "db371398-6425-41b5-979b-d7d92269cc2a",
   "metadata": {
    "tags": []
   },
   "outputs": [
    {
     "data": {
      "text/plain": [
       "array([[1., 1.],\n",
       "       [1., 1.]])"
      ]
     },
     "execution_count": 49,
     "metadata": {},
     "output_type": "execute_result"
    }
   ],
   "source": [
    "np.ones((2, 2))"
   ]
  },
  {
   "cell_type": "code",
   "execution_count": 51,
   "id": "0a59ddfc-8128-4ae3-8e58-7e5f5a270f77",
   "metadata": {
    "tags": []
   },
   "outputs": [
    {
     "data": {
      "text/plain": [
       "array([[1., 0., 0.],\n",
       "       [0., 1., 0.],\n",
       "       [0., 0., 1.]])"
      ]
     },
     "execution_count": 51,
     "metadata": {},
     "output_type": "execute_result"
    }
   ],
   "source": [
    "# 단위행렬\n",
    "arr_I = np.eye(3)\n",
    "arr_I"
   ]
  },
  {
   "cell_type": "code",
   "execution_count": 53,
   "id": "f3d78dd1-3b8b-4a14-9411-a6d9fc09aaad",
   "metadata": {
    "tags": []
   },
   "outputs": [
    {
     "data": {
      "text/plain": [
       "(3, 3)"
      ]
     },
     "execution_count": 53,
     "metadata": {},
     "output_type": "execute_result"
    }
   ],
   "source": [
    "arr_I.shape"
   ]
  },
  {
   "cell_type": "code",
   "execution_count": 56,
   "id": "19c961e6-99db-49ed-ae97-f37a5142f229",
   "metadata": {
    "tags": []
   },
   "outputs": [
    {
     "data": {
      "text/plain": [
       "array(['1.5', '0.62'], dtype='<U4')"
      ]
     },
     "execution_count": 56,
     "metadata": {},
     "output_type": "execute_result"
    }
   ],
   "source": [
    "np.array(['1.5', '0.62']) # 데이터 형변환"
   ]
  },
  {
   "cell_type": "code",
   "execution_count": 60,
   "id": "96fbe885-a783-4127-8b49-2420aa0e98aa",
   "metadata": {
    "tags": []
   },
   "outputs": [
    {
     "data": {
      "text/plain": [
       "dtype('float64')"
      ]
     },
     "execution_count": 60,
     "metadata": {},
     "output_type": "execute_result"
    }
   ],
   "source": [
    "# astype() # pandas에서도 사용 가능\n",
    "arr = np.array(['1.5', '0.62'])\n",
    "num_arr = arr.astype(float)\n",
    "num_arr.dtype"
   ]
  },
  {
   "cell_type": "code",
   "execution_count": 62,
   "id": "f3833999-4120-446a-a90d-63dece297762",
   "metadata": {
    "tags": []
   },
   "outputs": [
    {
     "data": {
      "text/plain": [
       "array([10, 21,  0,  4,  5])"
      ]
     },
     "execution_count": 62,
     "metadata": {},
     "output_type": "execute_result"
    }
   ],
   "source": [
    "num_f1 = np.array([10, 21, 0.549, 4.75, 5.98])\n",
    "num_f1 = num_f1.astype(int)\n",
    "num_f1"
   ]
  },
  {
   "cell_type": "code",
   "execution_count": 64,
   "id": "1ea29b1a-8f69-45de-a4b7-13e79ee97248",
   "metadata": {
    "tags": []
   },
   "outputs": [
    {
     "data": {
      "text/plain": [
       "array([10.   , 21.   ,  0.549,  4.75 ,  5.98 ])"
      ]
     },
     "execution_count": 64,
     "metadata": {},
     "output_type": "execute_result"
    }
   ],
   "source": [
    "num_f1 = np.array([10, 21, 0.549, 4.75, 5.98])\n",
    "num_f1 = num_f1.astype(float)\n",
    "num_f1"
   ]
  },
  {
   "cell_type": "code",
   "execution_count": 66,
   "id": "fec09e7b-6404-482c-bddc-c658c4dd0989",
   "metadata": {
    "tags": []
   },
   "outputs": [
    {
     "data": {
      "text/plain": [
       "array([[0.47292595, 0.57392055, 0.57216566],\n",
       "       [0.07749174, 0.95906272, 0.18439392]])"
      ]
     },
     "execution_count": 66,
     "metadata": {},
     "output_type": "execute_result"
    }
   ],
   "source": [
    "# p. 224\n",
    "# 난수란 무작위로 추출한 수를 의미함\n",
    "\n",
    "np.random.rand(2, 3) # 2x3 배열로 생성 # rand는 0~1 사이의 실수 난수를 갖음"
   ]
  },
  {
   "cell_type": "code",
   "execution_count": 69,
   "id": "0fbaed45-dd86-4660-b559-aa72f8716692",
   "metadata": {
    "tags": []
   },
   "outputs": [
    {
     "data": {
      "text/plain": [
       "array([25, 11, 40, 18, 25,  2, 29, 56, 72, 56])"
      ]
     },
     "execution_count": 69,
     "metadata": {},
     "output_type": "execute_result"
    }
   ],
   "source": [
    "np.random.randint(1, 100, 10) # randit는 1과 100사이의 정수 10개 추출로 설정했음"
   ]
  },
  {
   "cell_type": "code",
   "execution_count": 116,
   "id": "bcb938c5-a9a5-480c-8ba2-573231a4cb80",
   "metadata": {
    "tags": []
   },
   "outputs": [
    {
     "name": "stdout",
     "output_type": "stream",
     "text": [
      "로또번호: [35, 18, 39, 45, 11, 44]\n"
     ]
    }
   ],
   "source": [
    "# 로또번호 생성하기\n",
    "import random\n",
    "\n",
    "lotto = random.sample(range(1, 46), 6)\n",
    "print(\"로또번호: {}\".format(lotto)) # print(\"로또번호는 :\", lotto,\"입니다\")"
   ]
  },
  {
   "cell_type": "markdown",
   "id": "194976db-6268-463e-95c4-b7f3a12c1a44",
   "metadata": {},
   "source": [
    "## 배열의 연산\n",
    "- p.225"
   ]
  },
  {
   "cell_type": "code",
   "execution_count": 120,
   "id": "48c27f0f-640b-443a-b8a7-d37b719eb67a",
   "metadata": {
    "tags": []
   },
   "outputs": [
    {
     "name": "stdout",
     "output_type": "stream",
     "text": [
      "[11 22 33 44]\n",
      "[ 9 18 27 36]\n",
      "[ 10  40  90 160]\n",
      "[10. 10. 10. 10.]\n"
     ]
    }
   ],
   "source": [
    "arr1 = np.array([10, 20, 30, 40])\n",
    "arr2 = np.array([1, 2, 3, 4])\n",
    "\n",
    "print(arr1 + arr2)\n",
    "print(arr1 - arr2)\n",
    "print(arr1 * arr2)\n",
    "print(arr1 / arr2)"
   ]
  },
  {
   "cell_type": "markdown",
   "id": "faaed0d6-93b3-4475-a682-8ad19cf0c519",
   "metadata": {},
   "source": [
    "## 비교연산 "
   ]
  },
  {
   "cell_type": "code",
   "execution_count": 122,
   "id": "8ed35268-e417-47b3-96de-5224114b7270",
   "metadata": {
    "tags": []
   },
   "outputs": [
    {
     "data": {
      "text/plain": [
       "array([False, False,  True,  True])"
      ]
     },
     "execution_count": 122,
     "metadata": {},
     "output_type": "execute_result"
    }
   ],
   "source": [
    "arr1 > 20"
   ]
  },
  {
   "cell_type": "markdown",
   "id": "49e5ad46-bd62-42b4-9a89-89160ba98fb5",
   "metadata": {},
   "source": [
    "## 통계 연산\n",
    "- Numpy, 합, 평균, 표준편차, 최솟값, 최댓값, 누적합, 누적곱 메서드가 존재한다.\n",
    " +기술통계량 (Descriptive Statistics) : 현재 데이터 상태를 표현(묘사)한다. \n",
    "- 통계 : 평균이 전부다! (Mean is everything)"
   ]
  },
  {
   "cell_type": "code",
   "execution_count": 134,
   "id": "cbc31d88-a1d3-4178-8faf-0830751e2f15",
   "metadata": {
    "tags": []
   },
   "outputs": [
    {
     "data": {
      "text/plain": [
       "array(['1.5', '0.62'], dtype='<U4')"
      ]
     },
     "execution_count": 134,
     "metadata": {},
     "output_type": "execute_result"
    }
   ],
   "source": [
    "arr3 = np.arange(5)\n",
    "arr"
   ]
  },
  {
   "cell_type": "code",
   "execution_count": 126,
   "id": "c1112d3d-40ba-402d-9970-ae8328851000",
   "metadata": {
    "tags": []
   },
   "outputs": [
    {
     "data": {
      "text/plain": [
       "10"
      ]
     },
     "execution_count": 126,
     "metadata": {},
     "output_type": "execute_result"
    }
   ],
   "source": [
    "arr3.sum()"
   ]
  },
  {
   "cell_type": "code",
   "execution_count": 129,
   "id": "0d7b45e3-6487-479c-8642-c1910474995e",
   "metadata": {
    "tags": []
   },
   "outputs": [
    {
     "data": {
      "text/plain": [
       "2.0"
      ]
     },
     "execution_count": 129,
     "metadata": {},
     "output_type": "execute_result"
    }
   ],
   "source": [
    "arr3.mean()"
   ]
  },
  {
   "cell_type": "code",
   "execution_count": 132,
   "id": "bf45b81d-58ca-4e27-b2b1-c54bcc299677",
   "metadata": {
    "tags": []
   },
   "outputs": [
    {
     "data": {
      "text/plain": [
       "2.0"
      ]
     },
     "execution_count": 132,
     "metadata": {},
     "output_type": "execute_result"
    }
   ],
   "source": [
    "arr3.var() # 분산"
   ]
  },
  {
   "cell_type": "code",
   "execution_count": 131,
   "id": "fb064757-0995-46f9-a069-ee98d9550c43",
   "metadata": {
    "tags": []
   },
   "outputs": [
    {
     "data": {
      "text/plain": [
       "1.4142135623730951"
      ]
     },
     "execution_count": 131,
     "metadata": {},
     "output_type": "execute_result"
    }
   ],
   "source": [
    "arr3.std() # 표준편차"
   ]
  },
  {
   "cell_type": "markdown",
   "id": "7669c491-cafb-4bfe-84d5-e5b32095f31c",
   "metadata": {},
   "source": [
    "## 누적합과 누적곱\n",
    "- cumsum(): 누적합\n",
    "- cumprod(): 누적곱"
   ]
  },
  {
   "cell_type": "code",
   "execution_count": 136,
   "id": "207c71de-c579-4e0f-9233-087f6a6c7792",
   "metadata": {
    "tags": []
   },
   "outputs": [
    {
     "data": {
      "text/plain": [
       "array([0, 1, 2, 3, 4])"
      ]
     },
     "execution_count": 136,
     "metadata": {},
     "output_type": "execute_result"
    }
   ],
   "source": [
    "arr = np.arange(1, 5)\n",
    "arr4"
   ]
  },
  {
   "cell_type": "markdown",
   "id": "d48f5a1d-1774-46ee-9ec6-69d9b6540cc4",
   "metadata": {},
   "source": [
    "## 행렬연산\n",
    "- 선형 대수(Linear Algebra)를 위한 2차원 배열 연산도 지원\n",
    "- p229, 행렬곱, 전치행렬, 역행렬, 행렬식 사용 예시"
   ]
  },
  {
   "cell_type": "code",
   "execution_count": 139,
   "id": "002acdc5-9340-4de0-af36-2115c0c1b952",
   "metadata": {
    "tags": []
   },
   "outputs": [
    {
     "data": {
      "text/plain": [
       "array([[0, 1],\n",
       "       [2, 3]])"
      ]
     },
     "execution_count": 139,
     "metadata": {},
     "output_type": "execute_result"
    }
   ],
   "source": [
    "A = np.array([0, 1, 2, 3]).reshape(2,2)\n",
    "A"
   ]
  },
  {
   "cell_type": "code",
   "execution_count": 145,
   "id": "ef41a83f-9a28-48fe-995a-54245156c0f0",
   "metadata": {
    "tags": []
   },
   "outputs": [
    {
     "data": {
      "text/plain": [
       "array([[3, 2],\n",
       "       [0, 1]])"
      ]
     },
     "execution_count": 145,
     "metadata": {},
     "output_type": "execute_result"
    }
   ],
   "source": [
    "B = np.array([3, 2, 0, 1]).reshape(2, 2)\n",
    "B"
   ]
  },
  {
   "cell_type": "code",
   "execution_count": 147,
   "id": "b3cabfaf-2ec6-4d86-8e7e-d5c10b30205c",
   "metadata": {
    "tags": []
   },
   "outputs": [
    {
     "data": {
      "text/plain": [
       "array([[0, 1],\n",
       "       [6, 7]])"
      ]
     },
     "execution_count": 147,
     "metadata": {},
     "output_type": "execute_result"
    }
   ],
   "source": [
    "A.dot(B)"
   ]
  },
  {
   "cell_type": "code",
   "execution_count": 149,
   "id": "175bfc37-fdf9-40cd-89e6-9c916d70b545",
   "metadata": {
    "tags": []
   },
   "outputs": [
    {
     "data": {
      "text/plain": [
       "array([[0, 2],\n",
       "       [1, 3]])"
      ]
     },
     "execution_count": 149,
     "metadata": {},
     "output_type": "execute_result"
    }
   ],
   "source": [
    "A.transpose() # 전치행렬"
   ]
  },
  {
   "cell_type": "code",
   "execution_count": 151,
   "id": "d7ebdcdd-da54-46f5-8910-b6a9c289cf73",
   "metadata": {
    "tags": []
   },
   "outputs": [
    {
     "data": {
      "text/plain": [
       "array([[-1.5,  0.5],\n",
       "       [ 1. ,  0. ]])"
      ]
     },
     "execution_count": 151,
     "metadata": {},
     "output_type": "execute_result"
    }
   ],
   "source": [
    "np.linalg.inv(A) # 역행렬"
   ]
  },
  {
   "cell_type": "markdown",
   "id": "5fda8bca-894e-4167-8611-cd77a2d97082",
   "metadata": {},
   "source": [
    "## 배열의 인덱싱과 슬라이싱(p.230)\n",
    "- string, list, tuple과 동일한 방법으로 접근 "
   ]
  },
  {
   "cell_type": "code",
   "execution_count": 153,
   "id": "0103a679-7fcb-4744-a4a0-641a3693786e",
   "metadata": {
    "tags": []
   },
   "outputs": [
    {
     "data": {
      "text/plain": [
       "array([ 0, 10, 20, 30, 40, 50])"
      ]
     },
     "execution_count": 153,
     "metadata": {},
     "output_type": "execute_result"
    }
   ],
   "source": [
    "a1 = np.array([0,10, 20, 30, 40, 50])\n",
    "a1"
   ]
  },
  {
   "cell_type": "code",
   "execution_count": 156,
   "id": "735cd00d-e3f1-4daa-82ab-a0624b9d9a44",
   "metadata": {
    "tags": []
   },
   "outputs": [
    {
     "data": {
      "text/plain": [
       "40"
      ]
     },
     "execution_count": 156,
     "metadata": {},
     "output_type": "execute_result"
    }
   ],
   "source": [
    "a1[4]"
   ]
  },
  {
   "cell_type": "code",
   "execution_count": 162,
   "id": "a0a7ba91-53bd-4fff-a7bb-87fa9c75c7d9",
   "metadata": {
    "tags": []
   },
   "outputs": [
    {
     "data": {
      "text/plain": [
       "array([ 0, 10, 20, 30, 40, 70])"
      ]
     },
     "execution_count": 162,
     "metadata": {},
     "output_type": "execute_result"
    }
   ],
   "source": [
    "# 50을 70으로 변경하고 싶음\n",
    "a1[5] = 70\n",
    "a1"
   ]
  },
  {
   "cell_type": "code",
   "execution_count": 165,
   "id": "1fed9cad-8d36-4de6-b989-37b14d8d174f",
   "metadata": {
    "tags": []
   },
   "outputs": [
    {
     "data": {
      "text/plain": [
       "array([ 0, 20, 40])"
      ]
     },
     "execution_count": 165,
     "metadata": {},
     "output_type": "execute_result"
    }
   ],
   "source": [
    "# 리스트를 통해서 추출\n",
    "a1[[0, 2, 4]]"
   ]
  },
  {
   "cell_type": "code",
   "execution_count": 167,
   "id": "6b065cd6-ab85-460c-8072-d79d328a36db",
   "metadata": {
    "tags": []
   },
   "outputs": [
    {
     "data": {
      "text/plain": [
       "array([ 0, 20, 40])"
      ]
     },
     "execution_count": 167,
     "metadata": {},
     "output_type": "execute_result"
    }
   ],
   "source": [
    "idx_list = [0, 2, 4]\n",
    "a1[idx_list]"
   ]
  },
  {
   "cell_type": "code",
   "execution_count": 168,
   "id": "006c41ae-f7c0-4fd9-bcdd-979b979dac4c",
   "metadata": {
    "tags": []
   },
   "outputs": [
    {
     "data": {
      "text/plain": [
       "array([[10, 20, 30],\n",
       "       [40, 50, 60],\n",
       "       [70, 80, 90]])"
      ]
     },
     "execution_count": 168,
     "metadata": {},
     "output_type": "execute_result"
    }
   ],
   "source": [
    "a2 = np.arange(10, 100, 10).reshape(3, 3)\n",
    "a2"
   ]
  },
  {
   "cell_type": "code",
   "execution_count": 170,
   "id": "645ed99c-93a7-4379-8394-e70fbf8973b8",
   "metadata": {
    "tags": []
   },
   "outputs": [
    {
     "data": {
      "text/plain": [
       "20"
      ]
     },
     "execution_count": 170,
     "metadata": {},
     "output_type": "execute_result"
    }
   ],
   "source": [
    "a2[0,1]"
   ]
  },
  {
   "cell_type": "code",
   "execution_count": 172,
   "id": "22b3f31d-49f1-45a5-840b-ac749683ac13",
   "metadata": {
    "tags": []
   },
   "outputs": [
    {
     "data": {
      "text/plain": [
       "90"
      ]
     },
     "execution_count": 172,
     "metadata": {},
     "output_type": "execute_result"
    }
   ],
   "source": [
    "a2[2,2]"
   ]
  },
  {
   "cell_type": "code",
   "execution_count": 174,
   "id": "51d14201-8d2a-4e9e-9e6b-ab5d6b75dadd",
   "metadata": {
    "tags": []
   },
   "outputs": [
    {
     "data": {
      "text/plain": [
       "array([[10, 20, 30],\n",
       "       [40, 50, 60],\n",
       "       [70, 80, 95]])"
      ]
     },
     "execution_count": 174,
     "metadata": {},
     "output_type": "execute_result"
    }
   ],
   "source": [
    "# 90을 95로 변경\n",
    "a2[2,2] = 95\n",
    "a2"
   ]
  },
  {
   "cell_type": "code",
   "execution_count": 184,
   "id": "7b221972-7666-4f10-a2f6-51f603f27af1",
   "metadata": {
    "tags": []
   },
   "outputs": [
    {
     "data": {
      "text/plain": [
       "array([[ 1,  2,  3],\n",
       "       [40, 50, 60],\n",
       "       [ 1,  2, 95]])"
      ]
     },
     "execution_count": 184,
     "metadata": {},
     "output_type": "execute_result"
    }
   ],
   "source": [
    "a2[2,2] = 95\n",
    "a2"
   ]
  },
  {
   "cell_type": "code",
   "execution_count": 185,
   "id": "06006e6a-6eac-4e1c-a6b8-228bdf5d2fde",
   "metadata": {
    "tags": []
   },
   "outputs": [
    {
     "data": {
      "text/plain": [
       "array([1, 2, 3])"
      ]
     },
     "execution_count": 185,
     "metadata": {},
     "output_type": "execute_result"
    }
   ],
   "source": [
    "a2[0]"
   ]
  },
  {
   "cell_type": "code",
   "execution_count": 187,
   "id": "3e89ec58-7332-4c06-9c1b-cec30c0ecb57",
   "metadata": {
    "tags": []
   },
   "outputs": [
    {
     "data": {
      "text/plain": [
       "array([[ 1,  2,  3],\n",
       "       [40, 50, 60],\n",
       "       [ 1,  2, 95]])"
      ]
     },
     "execution_count": 187,
     "metadata": {},
     "output_type": "execute_result"
    }
   ],
   "source": [
    "a2[0] = [1, 2, 3]\n",
    "a2"
   ]
  },
  {
   "cell_type": "code",
   "execution_count": 190,
   "id": "3241c2a7-70e1-41c0-a237-1278c9632cb2",
   "metadata": {
    "tags": []
   },
   "outputs": [
    {
     "data": {
      "text/plain": [
       "array([[ 1,  2,  3],\n",
       "       [40, 50, 60],\n",
       "       [ 1,  2, 95]])"
      ]
     },
     "execution_count": 190,
     "metadata": {},
     "output_type": "execute_result"
    }
   ],
   "source": [
    "a2[0] = np.array([1, 2, 3]) # 정석\n",
    "a2"
   ]
  },
  {
   "cell_type": "code",
   "execution_count": 191,
   "id": "7dc19310-ee49-4cb4-b366-f9faf2979678",
   "metadata": {
    "tags": []
   },
   "outputs": [
    {
     "ename": "ValueError",
     "evalue": "could not broadcast input array from shape (4,) into shape (3,)",
     "output_type": "error",
     "traceback": [
      "\u001b[1;31m---------------------------------------------------------------------------\u001b[0m",
      "\u001b[1;31mValueError\u001b[0m                                Traceback (most recent call last)",
      "Cell \u001b[1;32mIn[191], line 1\u001b[0m\n\u001b[1;32m----> 1\u001b[0m a2[\u001b[38;5;241m0\u001b[39m] \u001b[38;5;241m=\u001b[39m np\u001b[38;5;241m.\u001b[39marray([\u001b[38;5;241m1\u001b[39m, \u001b[38;5;241m2\u001b[39m, \u001b[38;5;241m3\u001b[39m,\u001b[38;5;241m4\u001b[39m]) \u001b[38;5;66;03m# 정석\u001b[39;00m\n\u001b[0;32m      2\u001b[0m a2\n",
      "\u001b[1;31mValueError\u001b[0m: could not broadcast input array from shape (4,) into shape (3,)"
     ]
    }
   ],
   "source": [
    "a2[0] = np.array([1, 2, 3,4]) # 에러! 배열의 사이즈 안 맞음\n",
    "a2"
   ]
  },
  {
   "cell_type": "markdown",
   "id": "2a8f7a54-7f97-4395-bdf2-065651a2e053",
   "metadata": {},
   "source": [
    "- 2차원 배열의 행과 열 위치 지정해서 원소 추출\n",
    " +(행의 위치1, 열의 위치1)/(행의 위치2, 열의 위치2)"
   ]
  },
  {
   "cell_type": "code",
   "execution_count": 194,
   "id": "bbca86c2-8e04-425c-916c-9efc01f26cfa",
   "metadata": {
    "tags": []
   },
   "outputs": [
    {
     "data": {
      "text/plain": [
       "array([[ 1,  2,  3],\n",
       "       [40, 50, 60],\n",
       "       [ 1,  2, 95]])"
      ]
     },
     "execution_count": 194,
     "metadata": {},
     "output_type": "execute_result"
    }
   ],
   "source": [
    "a2"
   ]
  },
  {
   "cell_type": "code",
   "execution_count": 193,
   "id": "1de1fbf3-3861-4e25-be28-6a79fee21dd6",
   "metadata": {
    "tags": []
   },
   "outputs": [
    {
     "data": {
      "text/plain": [
       "array([1, 2])"
      ]
     },
     "execution_count": 193,
     "metadata": {},
     "output_type": "execute_result"
    }
   ],
   "source": [
    "a2[[0,2],[0,1]]"
   ]
  },
  {
   "cell_type": "code",
   "execution_count": 197,
   "id": "1d9b8922-48b3-45fe-8fd3-27453c867c53",
   "metadata": {
    "tags": []
   },
   "outputs": [
    {
     "data": {
      "text/plain": [
       "array([1, 2])"
      ]
     },
     "execution_count": 197,
     "metadata": {},
     "output_type": "execute_result"
    }
   ],
   "source": [
    "a2[[0,2], [0,1]]"
   ]
  },
  {
   "cell_type": "markdown",
   "id": "01a199b2-c8ed-4d01-b693-71a6adc1ac49",
   "metadata": {},
   "source": [
    "## 베열의 조건문\n",
    "- pandas 문법과 유사"
   ]
  },
  {
   "cell_type": "code",
   "execution_count": 203,
   "id": "1003255c-ff63-41cd-9d76-3fb974fea48b",
   "metadata": {
    "tags": []
   },
   "outputs": [
    {
     "data": {
      "text/plain": [
       "array([1, 2, 3, 4, 5, 6])"
      ]
     },
     "execution_count": 203,
     "metadata": {},
     "output_type": "execute_result"
    }
   ],
   "source": [
    "a = np.array([1,2,3,4,5,6])\n",
    "a"
   ]
  },
  {
   "cell_type": "code",
   "execution_count": 204,
   "id": "65499f84-39da-490f-89c2-df0f42b77340",
   "metadata": {
    "tags": []
   },
   "outputs": [
    {
     "data": {
      "text/plain": [
       "[array([False, False, False,  True,  True,  True])]"
      ]
     },
     "execution_count": 204,
     "metadata": {},
     "output_type": "execute_result"
    }
   ],
   "source": [
    "[a>3]"
   ]
  },
  {
   "cell_type": "code",
   "execution_count": 206,
   "id": "8c09420e-b5de-4b21-a8c2-c3f0eede7d90",
   "metadata": {
    "tags": []
   },
   "outputs": [
    {
     "data": {
      "text/plain": [
       "array([4, 5, 6])"
      ]
     },
     "execution_count": 206,
     "metadata": {},
     "output_type": "execute_result"
    }
   ],
   "source": [
    "a[a>3]"
   ]
  },
  {
   "cell_type": "code",
   "execution_count": 208,
   "id": "8926ee9c-d8dd-4b20-a439-dac472e19171",
   "metadata": {
    "tags": []
   },
   "outputs": [
    {
     "data": {
      "text/plain": [
       "array([False,  True, False,  True, False,  True])"
      ]
     },
     "execution_count": 208,
     "metadata": {},
     "output_type": "execute_result"
    }
   ],
   "source": [
    "a % 2 == 0 "
   ]
  },
  {
   "cell_type": "markdown",
   "id": "c0acaedd-883e-4ce2-8869-b26f1186c109",
   "metadata": {},
   "source": [
    "## 배열의 슬라이싱"
   ]
  },
  {
   "cell_type": "code",
   "execution_count": 210,
   "id": "b9e7f9fa-5c13-41f2-8f8e-724a9d81bf43",
   "metadata": {
    "tags": []
   },
   "outputs": [
    {
     "data": {
      "text/plain": [
       "array([1, 2, 3])"
      ]
     },
     "execution_count": 210,
     "metadata": {},
     "output_type": "execute_result"
    }
   ],
   "source": [
    "# p.234\n",
    "b1 = np.array([0,1,2,3,4,5])\n",
    "b1[1:4]"
   ]
  },
  {
   "cell_type": "code",
   "execution_count": 212,
   "id": "a0789703-0b6d-4a46-8f9d-de64999a09a3",
   "metadata": {
    "tags": []
   },
   "outputs": [
    {
     "data": {
      "text/plain": [
       "array([0, 1, 2])"
      ]
     },
     "execution_count": 212,
     "metadata": {},
     "output_type": "execute_result"
    }
   ],
   "source": [
    "b1[:3]"
   ]
  },
  {
   "cell_type": "code",
   "execution_count": 214,
   "id": "41a404bc-3292-455b-900d-f9f4b2da4019",
   "metadata": {
    "tags": []
   },
   "outputs": [
    {
     "data": {
      "text/plain": [
       "array([2, 3, 4, 5])"
      ]
     },
     "execution_count": 214,
     "metadata": {},
     "output_type": "execute_result"
    }
   ],
   "source": [
    "b1[2:]"
   ]
  },
  {
   "cell_type": "code",
   "execution_count": 216,
   "id": "14752d3a-ab23-45c8-aefc-28ea2b0f6b61",
   "metadata": {
    "tags": []
   },
   "outputs": [
    {
     "data": {
      "text/plain": [
       "array([0, 2])"
      ]
     },
     "execution_count": 216,
     "metadata": {},
     "output_type": "execute_result"
    }
   ],
   "source": [
    "b1[0:4:2]"
   ]
  },
  {
   "cell_type": "code",
   "execution_count": 218,
   "id": "2b29f4f3-3a50-4dff-911b-a6d77d0c0d38",
   "metadata": {
    "tags": []
   },
   "outputs": [
    {
     "data": {
      "text/plain": [
       "array([ 0,  1, 25, 35, 45,  5])"
      ]
     },
     "execution_count": 218,
     "metadata": {},
     "output_type": "execute_result"
    }
   ],
   "source": [
    "b1[2:5] = np.array([25,35,45])\n",
    "b1"
   ]
  },
  {
   "cell_type": "code",
   "execution_count": 220,
   "id": "c58d940a-15dd-49e3-b443-309276da64fc",
   "metadata": {
    "tags": []
   },
   "outputs": [
    {
     "data": {
      "text/plain": [
       "array([ 0,  1, 25, 60, 60, 60])"
      ]
     },
     "execution_count": 220,
     "metadata": {},
     "output_type": "execute_result"
    }
   ],
   "source": [
    "b1[3:6] = 60\n",
    "b1"
   ]
  },
  {
   "cell_type": "code",
   "execution_count": 223,
   "id": "116e94d5-befa-4b63-9db4-34f2b9be3fed",
   "metadata": {
    "tags": []
   },
   "outputs": [
    {
     "data": {
      "text/plain": [
       "array([[10, 20, 30],\n",
       "       [40, 50, 60],\n",
       "       [70, 80, 90]])"
      ]
     },
     "execution_count": 223,
     "metadata": {},
     "output_type": "execute_result"
    }
   ],
   "source": [
    "b2 = np.arange(10,100,10).reshape(3,3)\n",
    "b2"
   ]
  },
  {
   "cell_type": "code",
   "execution_count": 225,
   "id": "29e0680a-178d-49c9-ab5c-11c89a881b65",
   "metadata": {
    "tags": []
   },
   "outputs": [
    {
     "data": {
      "text/plain": [
       "array([[50, 60],\n",
       "       [80, 90]])"
      ]
     },
     "execution_count": 225,
     "metadata": {},
     "output_type": "execute_result"
    }
   ],
   "source": [
    "b2[1:3,1:3]"
   ]
  },
  {
   "cell_type": "code",
   "execution_count": 227,
   "id": "77467b0e-908f-4733-86ef-80e9b86d90df",
   "metadata": {
    "tags": []
   },
   "outputs": [
    {
     "data": {
      "text/plain": [
       "array([[50, 60],\n",
       "       [80, 90]])"
      ]
     },
     "execution_count": 227,
     "metadata": {},
     "output_type": "execute_result"
    }
   ],
   "source": [
    "b2[1:,1:]"
   ]
  },
  {
   "cell_type": "code",
   "execution_count": 233,
   "id": "be06fe7b-59f9-4e43-a776-316eb0949919",
   "metadata": {
    "tags": []
   },
   "outputs": [
    {
     "data": {
      "text/plain": [
       "array([50, 60])"
      ]
     },
     "execution_count": 233,
     "metadata": {},
     "output_type": "execute_result"
    }
   ],
   "source": [
    "b2[1][1:3]"
   ]
  },
  {
   "cell_type": "markdown",
   "id": "2ef401d8-ba85-4994-96c8-729f557350c9",
   "metadata": {},
   "source": [
    "## NumPy 조건문\n",
    "- np.where : 단일 조건문\n",
    "- np.select : 다중 조건문"
   ]
  },
  {
   "cell_type": "code",
   "execution_count": 237,
   "id": "4f5231e3-40be-4a12-88b8-0878714ace90",
   "metadata": {
    "tags": []
   },
   "outputs": [
    {
     "data": {
      "text/plain": [
       "array([0, 1, 2, 3, 4, 5, 6, 7, 8, 9])"
      ]
     },
     "execution_count": 237,
     "metadata": {},
     "output_type": "execute_result"
    }
   ],
   "source": [
    "arr = np.arange(10)\n",
    "arr"
   ]
  },
  {
   "cell_type": "code",
   "execution_count": 236,
   "id": "d935ced7-85d5-4591-93db-f1701a1877f1",
   "metadata": {
    "tags": []
   },
   "outputs": [
    {
     "data": {
      "text/plain": [
       "array([ 0,  1,  2,  3,  4, 50, 60, 70, 80, 90])"
      ]
     },
     "execution_count": 236,
     "metadata": {},
     "output_type": "execute_result"
    }
   ],
   "source": [
    "# 0, 1, 2, 3, 4, 50, 60, 70, 80, 90\n",
    "np.where(arr < 5, arr, arr*10)"
   ]
  },
  {
   "cell_type": "code",
   "execution_count": 238,
   "id": "56528a96-e295-454c-ba01-5033fee465b0",
   "metadata": {
    "tags": []
   },
   "outputs": [
    {
     "data": {
      "text/plain": [
       "array([0, 1, 2, 3, 4, 5, 6, 7, 8, 9])"
      ]
     },
     "execution_count": 238,
     "metadata": {},
     "output_type": "execute_result"
    }
   ],
   "source": [
    "arr = np.arange(10)\n",
    "arr"
   ]
  },
  {
   "cell_type": "code",
   "execution_count": 240,
   "id": "f8080416-f981-4a8f-a3ed-aaab42a68da9",
   "metadata": {
    "tags": []
   },
   "outputs": [
    {
     "data": {
      "text/plain": [
       "array([100, 101,   2,   3,   4,   5,  12,  14,  16,  18])"
      ]
     },
     "execution_count": 240,
     "metadata": {},
     "output_type": "execute_result"
    }
   ],
   "source": [
    "# 100, 101, 2, 3, 4, 5, 12, 14, 16, 18\n",
    "# 2미만일 때는 100을 더해라\n",
    "# 5초과일 때는 곱하기 2를 하라\n",
    "\n",
    "# 조건식과 대응되는 결과를 리스트로 만들기\n",
    "cond_list = [arr>5, arr<2]\n",
    "choice_list = [arr*2, arr +100]\n",
    "\n",
    "np.select(cond_list, choice_list, default=arr)"
   ]
  }
 ],
 "metadata": {
  "kernelspec": {
   "display_name": "Python 3 (ipykernel)",
   "language": "python",
   "name": "python3"
  },
  "language_info": {
   "codemirror_mode": {
    "name": "ipython",
    "version": 3
   },
   "file_extension": ".py",
   "mimetype": "text/x-python",
   "name": "python",
   "nbconvert_exporter": "python",
   "pygments_lexer": "ipython3",
   "version": "3.11.5"
  }
 },
 "nbformat": 4,
 "nbformat_minor": 5
}

{
  "nbformat": 4,
  "nbformat_minor": 0,
  "metadata": {
    "colab": {
      "provenance": [],
      "authorship_tag": "ABX9TyNcjsrDAEmsCgBGF+sxjlEU",
      "include_colab_link": true
    },
    "kernelspec": {
      "name": "python3",
      "display_name": "Python 3"
    },
    "language_info": {
      "name": "python"
    }
  },
  "cells": [
    {
      "cell_type": "markdown",
      "metadata": {
        "id": "view-in-github",
        "colab_type": "text"
      },
      "source": [
        "<a href=\"https://colab.research.google.com/github/hyelin606/mulcamp34/blob/main/%EA%B8%B0%EC%B4%88%EB%AC%B8%EB%B2%95_231228.ipynb\" target=\"_parent\"><img src=\"https://colab.research.google.com/assets/colab-badge.svg\" alt=\"Open In Colab\"/></a>"
      ]
    },
    {
      "cell_type": "markdown",
      "source": [
        "# 문자열 함수\n",
        "- 교재 (p.158)\n",
        "- 영어: fuction, method"
      ],
      "metadata": {
        "id": "zW7hGO4pumNp"
      }
    },
    {
      "cell_type": "markdown",
      "source": [
        "## split(): 문자열 분리"
      ],
      "metadata": {
        "id": "OnKFR4PE2q5r"
      }
    },
    {
      "cell_type": "code",
      "source": [
        "coffee_menu_str = \"에스프레소, 아메리카노, 카페라테, 카푸치노\"\n",
        "coffee_menu_str.split(',')\n",
        "\n",
        "# 결과해석\n",
        "# 내가 원하는 대로 결과가 나왔는가?\n",
        "# 반환값, Return 자료형 확인 필수"
      ],
      "metadata": {
        "colab": {
          "base_uri": "https://localhost:8080/"
        },
        "id": "b-ez8slwx93M",
        "outputId": "124ec6a7-29b8-452e-9b88-eb9f08afe158"
      },
      "execution_count": null,
      "outputs": [
        {
          "output_type": "execute_result",
          "data": {
            "text/plain": [
              "['에스프레소', ' 아메리카노', ' 카페라테', ' 카푸치노']"
            ]
          },
          "metadata": {},
          "execution_count": 1
        }
      ]
    },
    {
      "cell_type": "code",
      "source": [
        "\"에스프레소, 아메리카노, 카페라테, 카푸치노\".split(',')"
      ],
      "metadata": {
        "colab": {
          "base_uri": "https://localhost:8080/"
        },
        "id": "p1-AsVpazf9d",
        "outputId": "2028d65e-d1f2-4f0d-cef7-8d30dc66905a"
      },
      "execution_count": null,
      "outputs": [
        {
          "output_type": "execute_result",
          "data": {
            "text/plain": [
              "['에스프레소', ' 아메리카노', ' 카페라테', ' 카푸치노']"
            ]
          },
          "metadata": {},
          "execution_count": 10
        }
      ]
    },
    {
      "cell_type": "code",
      "source": [
        "\"에스프레소 아메리카노 카페라테 카푸치노\".split(' ')"
      ],
      "metadata": {
        "colab": {
          "base_uri": "https://localhost:8080/"
        },
        "id": "mGrFsUv8zuiV",
        "outputId": "f1625536-1480-4ea8-c366-7b7877a8163c"
      },
      "execution_count": null,
      "outputs": [
        {
          "output_type": "execute_result",
          "data": {
            "text/plain": [
              "['에스프레소', '아메리카노', '카페라테', '카푸치노']"
            ]
          },
          "metadata": {},
          "execution_count": 11
        }
      ]
    },
    {
      "cell_type": "code",
      "source": [
        "\"에스프레소. 아메리카노. 카페라테. 카푸치노\".split('.')"
      ],
      "metadata": {
        "colab": {
          "base_uri": "https://localhost:8080/"
        },
        "id": "-iRcsmN_0WXQ",
        "outputId": "95f5fa46-2d4c-4214-9e67-dcc01f8a6829"
      },
      "execution_count": null,
      "outputs": [
        {
          "output_type": "execute_result",
          "data": {
            "text/plain": [
              "['에스프레소', ' 아메리카노', ' 카페라테', ' 카푸치노']"
            ]
          },
          "metadata": {},
          "execution_count": 13
        }
      ]
    },
    {
      "cell_type": "code",
      "source": [
        "phone_number = \"+82-01-2345-6789\"\n",
        "\n",
        "print(phone_number[0:3])\n",
        "\n",
        "result = phone_number.split('-')\n",
        "result[0]"
      ],
      "metadata": {
        "colab": {
          "base_uri": "https://localhost:8080/",
          "height": 54
        },
        "id": "wTYYZSJP0c4L",
        "outputId": "65d823b3-5f8e-45b7-fe7c-da2f20d1c585"
      },
      "execution_count": null,
      "outputs": [
        {
          "output_type": "stream",
          "name": "stdout",
          "text": [
            "+82\n"
          ]
        },
        {
          "output_type": "execute_result",
          "data": {
            "text/plain": [
              "'+82'"
            ],
            "application/vnd.google.colaboratory.intrinsic+json": {
              "type": "string"
            }
          },
          "metadata": {},
          "execution_count": 20
        }
      ]
    },
    {
      "cell_type": "code",
      "source": [
        "# maxsplit, 매개변수 (arguments, parameters)\n",
        "phone_number.split('-', maxsplit=2)"
      ],
      "metadata": {
        "colab": {
          "base_uri": "https://localhost:8080/"
        },
        "id": "UvKgqnVV161a",
        "outputId": "48c525e5-ebbe-403d-c05e-d3eb0047a317"
      },
      "execution_count": null,
      "outputs": [
        {
          "output_type": "execute_result",
          "data": {
            "text/plain": [
              "['+82', '01', '2345-6789']"
            ]
          },
          "metadata": {},
          "execution_count": 21
        }
      ]
    },
    {
      "cell_type": "markdown",
      "source": [
        "## strip(): 필요없는 문자열 삭제\n",
        "- 잎뒤 공백 혹은 개행문자와 같이 불필요한 부분을 지우고 싶을 때 사용"
      ],
      "metadata": {
        "id": "KGC1Pt3G2yck"
      }
    },
    {
      "cell_type": "code",
      "source": [
        "tempText = '  Python '\n",
        "tempText.strip()"
      ],
      "metadata": {
        "colab": {
          "base_uri": "https://localhost:8080/",
          "height": 35
        },
        "id": "7Es96gH03gAJ",
        "outputId": "68ab1a62-cef8-4615-a4a4-5d9922f371c6"
      },
      "execution_count": null,
      "outputs": [
        {
          "output_type": "execute_result",
          "data": {
            "text/plain": [
              "'Python'"
            ],
            "application/vnd.google.colaboratory.intrinsic+json": {
              "type": "string"
            }
          },
          "metadata": {},
          "execution_count": 26
        }
      ]
    },
    {
      "cell_type": "code",
      "source": [
        "tempText = 'aaaPythonaaa'\n",
        "# tempText[3:9]\n",
        "tempText.strip('a') # 특수문자 활용도 가능"
      ],
      "metadata": {
        "colab": {
          "base_uri": "https://localhost:8080/",
          "height": 35
        },
        "id": "N1mkElYN34aX",
        "outputId": "0e3e352e-9abe-45e2-9327-497187ee5886"
      },
      "execution_count": null,
      "outputs": [
        {
          "output_type": "execute_result",
          "data": {
            "text/plain": [
              "'Python'"
            ],
            "application/vnd.google.colaboratory.intrinsic+json": {
              "type": "string"
            }
          },
          "metadata": {},
          "execution_count": 30
        }
      ]
    },
    {
      "cell_type": "code",
      "source": [
        "tempText = 'aaaaabbPythonbbaaaaaa'\n",
        "\n",
        "tempText.strip('ab')\n",
        "\n",
        "result = tempText.strip('a')\n",
        "result.strip('b')"
      ],
      "metadata": {
        "colab": {
          "base_uri": "https://localhost:8080/",
          "height": 35
        },
        "id": "5TW51pFk4evS",
        "outputId": "b64b8c0f-d955-4134-d1eb-7f15685d0781"
      },
      "execution_count": null,
      "outputs": [
        {
          "output_type": "execute_result",
          "data": {
            "text/plain": [
              "'Python'"
            ],
            "application/vnd.google.colaboratory.intrinsic+json": {
              "type": "string"
            }
          },
          "metadata": {},
          "execution_count": 34
        }
      ]
    },
    {
      "cell_type": "code",
      "source": [
        "tempText = '\\n Python \\n\\n'\n",
        "tempText.strip(' \\n ') # 공백까지 제거"
      ],
      "metadata": {
        "colab": {
          "base_uri": "https://localhost:8080/",
          "height": 35
        },
        "id": "Q7G5S85u851c",
        "outputId": "79c31213-b5b2-41d6-f9a1-4b5adb78038d"
      },
      "execution_count": null,
      "outputs": [
        {
          "output_type": "execute_result",
          "data": {
            "text/plain": [
              "'Python'"
            ],
            "application/vnd.google.colaboratory.intrinsic+json": {
              "type": "string"
            }
          },
          "metadata": {},
          "execution_count": 40
        }
      ]
    },
    {
      "cell_type": "code",
      "source": [
        "tempText.strip('\\n')"
      ],
      "metadata": {
        "colab": {
          "base_uri": "https://localhost:8080/",
          "height": 35
        },
        "id": "O7yzKqVn9dxq",
        "outputId": "10d8e171-7f63-4555-d7b4-e0b8ae420daf"
      },
      "execution_count": null,
      "outputs": [
        {
          "output_type": "execute_result",
          "data": {
            "text/plain": [
              "' Python '"
            ],
            "application/vnd.google.colaboratory.intrinsic+json": {
              "type": "string"
            }
          },
          "metadata": {},
          "execution_count": 39
        }
      ]
    },
    {
      "cell_type": "code",
      "source": [
        "tempText.strip(' \\n ')\n",
        "\n",
        "# lstrip(), 해당 텍스트의 왼쪽\n",
        "# rstrip(), 해당 텍스트의 오른쪽"
      ],
      "metadata": {
        "id": "c1dM0T519utM"
      },
      "execution_count": null,
      "outputs": []
    },
    {
      "cell_type": "markdown",
      "source": [
        "## join(): 문자열 연결\n",
        "- 더하기 연산자(+)로 두 문자열을 연결 가능"
      ],
      "metadata": {
        "id": "P57wkqaP98bO"
      }
    },
    {
      "cell_type": "code",
      "source": [
        "name1 = '철수'\n",
        "name2 = '영미'\n",
        "\n",
        "hello = '님, 주소와 전화번호를 입력해 주세요'\n",
        "print(name1 + hello)\n",
        "print(name2 + hello)"
      ],
      "metadata": {
        "colab": {
          "base_uri": "https://localhost:8080/"
        },
        "id": "mDKe_MPO-QU4",
        "outputId": "ee4a81e1-f419-4ddf-d5ee-0f1424cd5a64"
      },
      "execution_count": null,
      "outputs": [
        {
          "output_type": "stream",
          "name": "stdout",
          "text": [
            "철수님, 주소와 전화번호를 입력해 주세요\n",
            "영미님, 주소와 전화번호를 입력해 주세요\n"
          ]
        }
      ]
    },
    {
      "cell_type": "code",
      "source": [
        "address_list = ['서울시', '서초구', '반포대로', '201(반포동)']\n",
        "\n",
        "# 리스트를의 각 값을 모두 연결해서 하나의 텍스트로\n",
        "a = \"-\"\n",
        "a.join(address_list)"
      ],
      "metadata": {
        "colab": {
          "base_uri": "https://localhost:8080/",
          "height": 35
        },
        "id": "j5N-Upxz-zJv",
        "outputId": "8d3b515c-08be-4d40-d92b-2fc24d29b8c5"
      },
      "execution_count": null,
      "outputs": [
        {
          "output_type": "execute_result",
          "data": {
            "text/plain": [
              "'서울시-서초구-반포대로-201(반포동)'"
            ],
            "application/vnd.google.colaboratory.intrinsic+json": {
              "type": "string"
            }
          },
          "metadata": {},
          "execution_count": 49
        }
      ]
    },
    {
      "cell_type": "markdown",
      "source": [
        "## find(): 문자열 찾기\n",
        "- 문자열의 위치 값을 반환"
      ],
      "metadata": {
        "id": "GeelxCHl_98e"
      }
    },
    {
      "cell_type": "code",
      "source": [
        "str_f = 'Python code.'\n",
        "print(\"찾는 문자열의 위치:\", str_f.find('code'))\n",
        "\n",
        "print(\"찾는 문자열의 위치:\", str_f.find('Java')) # -1 해당되는 문자 없음"
      ],
      "metadata": {
        "colab": {
          "base_uri": "https://localhost:8080/"
        },
        "id": "L23H0pTHAuYE",
        "outputId": "ef84f79a-f05e-4961-a487-54a7d1afc53a"
      },
      "execution_count": null,
      "outputs": [
        {
          "output_type": "stream",
          "name": "stdout",
          "text": [
            "찾는 문자열의 위치: 7\n",
            "찾는 문자열의 위치: -1\n"
          ]
        }
      ]
    },
    {
      "cell_type": "markdown",
      "source": [
        "## count() : 찾고자 하는 문자열의 횟수 반환\n",
        "- 만약, 찾을 문자열이 없으면 0으로 반환"
      ],
      "metadata": {
        "id": "IgrUk0leDFwi"
      }
    },
    {
      "cell_type": "code",
      "source": [
        "str_c = \"Python is powerful. Python is easy to learn. Python is open\"\n",
        "print(\"Python의 갯수는?\", str_c.count(\"Python\"))\n",
        "print(\"is의 갯수는?\", str_c.count(\"is\"))\n",
        "print(\"easy의 갯수는?\", str_c.count(\"easy\"))"
      ],
      "metadata": {
        "colab": {
          "base_uri": "https://localhost:8080/"
        },
        "id": "1CRPoBfcDXtr",
        "outputId": "8dc8d3f9-9544-4ff9-b961-e073e40dfade"
      },
      "execution_count": null,
      "outputs": [
        {
          "output_type": "stream",
          "name": "stdout",
          "text": [
            "Python의 갯수는? 3\n",
            "is의 갯수는? 3\n",
            "easy의 갯수는? 1\n"
          ]
        }
      ]
    },
    {
      "cell_type": "markdown",
      "source": [
        "## startswith, endswith\n",
        "- 각 문자열이 지정된 문자로 시작하는지 또는 끝나는지 체크)검사)할 때 사용"
      ],
      "metadata": {
        "id": "s8iv9SIpEEN4"
      }
    },
    {
      "cell_type": "code",
      "source": [
        "str_c = \"Python is powerful. Python is easy to learn. Python is open\"\n",
        "print(\"Python으로 시작?\", str_c.startswith('Python'))\n",
        "print(\"Python으로 시작?\", str_c.startswith('is'))"
      ],
      "metadata": {
        "colab": {
          "base_uri": "https://localhost:8080/"
        },
        "id": "K_rhHnbzEnE_",
        "outputId": "0194a305-b768-43d1-c85b-bf8625efe330"
      },
      "execution_count": null,
      "outputs": [
        {
          "output_type": "stream",
          "name": "stdout",
          "text": [
            "Python으로 시작? True\n",
            "Python으로 시작? False\n"
          ]
        }
      ]
    },
    {
      "cell_type": "markdown",
      "source": [
        "## replace() : 문자열 바꾸기\n",
        "- 지정한 문자열을 찾아서 바꾸는 메서드"
      ],
      "metadata": {
        "id": "MnCcow8TE6pe"
      }
    },
    {
      "cell_type": "code",
      "source": [
        "str_a = 'Python is fast. Python is friendly. Python is open.'\n",
        "\n",
        "# Python을 IPhython 으로 변경\n",
        "print(str_a.replace('Python', 'IPython'))"
      ],
      "metadata": {
        "colab": {
          "base_uri": "https://localhost:8080/"
        },
        "id": "KUnQ8gH1FAoW",
        "outputId": "526e1a0c-4d0a-4cd4-dbb6-fff205ea74d4"
      },
      "execution_count": null,
      "outputs": [
        {
          "output_type": "stream",
          "name": "stdout",
          "text": [
            "IPython is fast. IPython is friendly. IPython is open.\n"
          ]
        }
      ]
    },
    {
      "cell_type": "code",
      "source": [
        "str_b = '[Python][is][fast]'\n",
        "str_b1 = str_b.replace('[','')\n",
        "str_b2 = str_b1.replace(']',' ')\n",
        "result = str_b2.rstrip()\n",
        "print(result)"
      ],
      "metadata": {
        "colab": {
          "base_uri": "https://localhost:8080/"
        },
        "id": "2WLZoNzTFneK",
        "outputId": "3f780406-a3e9-4135-f70a-582026dc52be"
      },
      "execution_count": null,
      "outputs": [
        {
          "output_type": "stream",
          "name": "stdout",
          "text": [
            "Python is fast\n"
          ]
        }
      ]
    },
    {
      "cell_type": "markdown",
      "source": [
        "# 리스트 함수\n",
        "- 교재(p.54)\n"
      ],
      "metadata": {
        "id": "vzXHDRQFxDva"
      }
    },
    {
      "cell_type": "markdown",
      "source": [
        "## append()\n",
        "- 리스트에서 항목 하나를 맨 마지막에 추가"
      ],
      "metadata": {
        "id": "o94Fu6kMN2Q0"
      }
    },
    {
      "cell_type": "code",
      "source": [
        "myFriends = ['James', 'Robert', 'Lisa', 'Mary']\n",
        "myFriends.append('Thomas')\n",
        "print(myFriends)\n",
        "\n",
        "# result = myFriends.append('Thomas')\n",
        "# print(result) # ==> 오류 발생, result 사용x"
      ],
      "metadata": {
        "colab": {
          "base_uri": "https://localhost:8080/"
        },
        "id": "0KlCnw5ZN7Ia",
        "outputId": "7a1a1b68-fa7f-4549-8618-667610ee5b03"
      },
      "execution_count": null,
      "outputs": [
        {
          "output_type": "stream",
          "name": "stdout",
          "text": [
            "['James', 'Robert', 'Lisa', 'Mary', 'Thomas']\n"
          ]
        }
      ]
    },
    {
      "cell_type": "markdown",
      "source": [
        "## extend() :"
      ],
      "metadata": {
        "id": "5QDj3oV-PPfu"
      }
    },
    {
      "cell_type": "code",
      "source": [
        "myFriends = ['James', 'Robert', 'Lisa', 'Mary']\n",
        "myFriends.append('Thomas')\n",
        "\n",
        "newFriends = ['A', 'B', 'C']\n",
        "# myFriends.append(newFriends)\n",
        "myFriends.extend(newFriends)\n",
        "print(myFriends)"
      ],
      "metadata": {
        "colab": {
          "base_uri": "https://localhost:8080/"
        },
        "id": "f7pVURzBPUxa",
        "outputId": "eaf2b5cc-71d7-4032-892f-c15f3c6bec16"
      },
      "execution_count": null,
      "outputs": [
        {
          "output_type": "stream",
          "name": "stdout",
          "text": [
            "['James', 'Robert', 'Lisa', 'Mary', 'Thomas', 'A', 'B', 'C']\n"
          ]
        }
      ]
    },
    {
      "cell_type": "markdown",
      "source": [
        "## insert()\n",
        "- 항목의 위치를 나타내는 인덱스 i에 data를 삽입"
      ],
      "metadata": {
        "id": "SB1uiBI-QJhm"
      }
    },
    {
      "cell_type": "code",
      "source": [
        "myFriends = ['James', 'Robert', 'Lisa', 'Mary']\n",
        "myFriends.insert(1, 'Evan')\n",
        "print(myFriends)"
      ],
      "metadata": {
        "colab": {
          "base_uri": "https://localhost:8080/"
        },
        "id": "hJlfnzWMS_yW",
        "outputId": "58c57ad2-b6df-4ba9-d45f-78987a41b9a3"
      },
      "execution_count": null,
      "outputs": [
        {
          "output_type": "stream",
          "name": "stdout",
          "text": [
            "['James', 'Evan', 'Robert', 'Lisa', 'Mary']\n"
          ]
        }
      ]
    },
    {
      "cell_type": "markdown",
      "source": [
        "# 클래스"
      ],
      "metadata": {
        "id": "AoFRr3TSxG5w"
      }
    },
    {
      "cell_type": "markdown",
      "source": [
        "## 함수\n",
        "- 다른 개발자 분들이 만들어 놓은 함수를 갖다 씀\n",
        "- 이번 시간에 해야 하는 것: 우리가 함수를 직접 만들자!\n",
        " + 의미있는 함수를 만드는 것이 프로젝트\n",
        "- 프로그래밍을 한다 ==> 재실행할 거다, 재실행 혹은 반복 실행을 하기 위한 방법론 : 함수\n",
        "- 언제 함수를 만들어야 할까?\n",
        " + 매일 반복적일 것 같은 느낌이 들 때 함수를 만들면 됨"
      ],
      "metadata": {
        "id": "djUljZuSi3il"
      }
    },
    {
      "cell_type": "code",
      "source": [
        "# 함수의 구조\n",
        "# 매개변수, 인자\n",
        "# p.116\n",
        "def 함수명([인자1, 인자2, ..., 인자n]):\n",
        "  #코드 블록\n",
        "  return 반환값 #공백 필요 indentation (space바 2번 or tab 1번)"
      ],
      "metadata": {
        "id": "BUMZjDPEpgNS"
      },
      "execution_count": null,
      "outputs": []
    },
    {
      "cell_type": "code",
      "source": [
        "def mySum(a, b):\n",
        "  c = a + b\n",
        "  return c\n",
        "\n",
        "a = 1\n",
        "b = 1\n",
        "\n",
        "result = mySum(a, b)\n",
        "print(result)"
      ],
      "metadata": {
        "colab": {
          "base_uri": "https://localhost:8080/"
        },
        "id": "SFm5-NyqqHY7",
        "outputId": "4ee86a4c-642b-4f18-bced-17f7138ce893"
      },
      "execution_count": null,
      "outputs": [
        {
          "output_type": "stream",
          "name": "stdout",
          "text": [
            "2\n"
          ]
        }
      ]
    },
    {
      "cell_type": "code",
      "source": [
        "def mySubtract(a, b):\n",
        "  c = a - b\n",
        "  return c\n",
        "a = 3\n",
        "b = 1\n",
        "\n",
        "result = mySubtract(a, b)\n",
        "print(result)"
      ],
      "metadata": {
        "colab": {
          "base_uri": "https://localhost:8080/"
        },
        "id": "ZVkQY_DJro0h",
        "outputId": "ed5d2e4c-8775-48e2-8496-df9d94be372f"
      },
      "execution_count": null,
      "outputs": [
        {
          "output_type": "stream",
          "name": "stdout",
          "text": [
            "2\n"
          ]
        }
      ]
    },
    {
      "cell_type": "code",
      "source": [
        "def mySubtract(a, b): # 무조건 a, b가 입력이 되어야 함. 필수 조건\n",
        "  c = a - b\n",
        "  return c"
      ],
      "metadata": {
        "id": "LE_Z1qEetdhT"
      },
      "execution_count": null,
      "outputs": []
    },
    {
      "cell_type": "code",
      "source": [
        "m = 1\n",
        "b = 0\n",
        "result = mySubtract(m, b)\n",
        "print(result)"
      ],
      "metadata": {
        "colab": {
          "base_uri": "https://localhost:8080/"
        },
        "id": "EfAAMqtNtUwx",
        "outputId": "400bba17-74dd-44fc-d814-e72c0dad3e96"
      },
      "execution_count": null,
      "outputs": [
        {
          "output_type": "stream",
          "name": "stdout",
          "text": [
            "1\n"
          ]
        }
      ]
    },
    {
      "cell_type": "code",
      "source": [
        "def mySubtract(a, b = 0): # b의 초깃값을 0으로 설정 or b = None\n",
        "  c = a - b\n",
        "  return c\n",
        "\n",
        "m = 10\n",
        "n = 100\n",
        "result = mySubtract(m, n) # b가 0으로 변경\n",
        "print(result)"
      ],
      "metadata": {
        "colab": {
          "base_uri": "https://localhost:8080/"
        },
        "id": "jvZBE41evIU8",
        "outputId": "0550be7c-d624-45ff-b415-e90040bae87e"
      },
      "execution_count": null,
      "outputs": [
        {
          "output_type": "stream",
          "name": "stdout",
          "text": [
            "-90\n"
          ]
        }
      ]
    },
    {
      "cell_type": "code",
      "source": [
        "def my_func():\n",
        "  print(\"My first function\")\n",
        "  print(\"This is a function!\")"
      ],
      "metadata": {
        "id": "VPJImfCfz7n3"
      },
      "execution_count": null,
      "outputs": []
    },
    {
      "cell_type": "code",
      "source": [
        "result = mySubtract(m, n) # 반환값이 있는 메서드\n",
        "my_func() # 반환값이 없는 메서드"
      ],
      "metadata": {
        "colab": {
          "base_uri": "https://localhost:8080/"
        },
        "id": "gk9f9NpB0N3X",
        "outputId": "723f9b88-589f-483c-a7f0-87dd258d3209"
      },
      "execution_count": null,
      "outputs": [
        {
          "output_type": "stream",
          "name": "stdout",
          "text": [
            "My first function\n",
            "This is a function!\n"
          ]
        }
      ]
    },
    {
      "cell_type": "code",
      "source": [
        "def mySum(a, b = 0):\n",
        "  c = a + b\n",
        "  print(f'함수 잘 작동 중? {c}')\n",
        "  return c\n",
        "\n",
        "a =1\n",
        "result = mySum(a)\n",
        "print(result)"
      ],
      "metadata": {
        "colab": {
          "base_uri": "https://localhost:8080/"
        },
        "id": "iWcOnE0d003C",
        "outputId": "9f93ae33-0550-4634-9a2d-dec7b32376de"
      },
      "execution_count": null,
      "outputs": [
        {
          "output_type": "stream",
          "name": "stdout",
          "text": [
            "함수 잘 작동 중? 1\n",
            "1\n"
          ]
        }
      ]
    },
    {
      "cell_type": "markdown",
      "source": [
        "### 변수의 유효범위\n",
        "- p.121\n",
        "- 지역 변수 & 전역 변수\n",
        "- Local Variable & Local Variable"
      ],
      "metadata": {
        "id": "DUDIg90e2G9J"
      }
    },
    {
      "cell_type": "code",
      "source": [
        "a = 5 # 전역 변수\n",
        "\n",
        "def func1():\n",
        "  a = 1 # 지역 변수\n",
        "  print(f'func1 지역 변수 a = {a}')\n",
        "\n",
        "func1()\n",
        "print(f'전역 변수 a = {a}')"
      ],
      "metadata": {
        "colab": {
          "base_uri": "https://localhost:8080/"
        },
        "id": "Cvm3yHnL2i2D",
        "outputId": "6eaf333f-52e8-4c0f-a194-2655e578baa1"
      },
      "execution_count": null,
      "outputs": [
        {
          "output_type": "stream",
          "name": "stdout",
          "text": [
            "func1 지역 변수 a = 1\n",
            "전역 변수 a = 5\n"
          ]
        }
      ]
    },
    {
      "cell_type": "code",
      "source": [
        "a = 5 # 전역 변수\n",
        "\n",
        "def func1():\n",
        "  # a = 1 # 지역 변수\n",
        "  print(f'func1 지역 변수 a = {a}')\n",
        "\n",
        "func1()\n",
        "print(f'전역 변수 a = {a}')"
      ],
      "metadata": {
        "colab": {
          "base_uri": "https://localhost:8080/"
        },
        "id": "zEZFx80_3qEA",
        "outputId": "aef8aece-45ab-4014-880a-d896f7a23a20"
      },
      "execution_count": null,
      "outputs": [
        {
          "output_type": "stream",
          "name": "stdout",
          "text": [
            "func1 지역 변수 a = 5\n",
            "전역 변수 a = 5\n"
          ]
        }
      ]
    },
    {
      "cell_type": "code",
      "source": [
        "a = 5 # 전역 변수\n",
        "\n",
        "def func1():\n",
        "  a = 1 # 지역 변수\n",
        "  print(f'func1 지역 변수 a = {a}')\n",
        "\n",
        "def func2():\n",
        "  a = 4 # 지역변수\n",
        "  print(f'func2 지역 변수 a = {a}')\n",
        "\n",
        "def func3():\n",
        "  print(f'func3 전역 변수 a = {a}')\n",
        "\n",
        "def func4():\n",
        "  global a # 함수 내에서 전역 변수를 변경하기 위함\n",
        "  a = 500\n",
        "  print(f'func4 전역 변수 a = {a}')\n",
        "\n",
        "func1()\n",
        "func2()\n",
        "func3()\n",
        "func4() # 500이 이해 완료\n",
        "\n",
        "print(f'전역 변수 a = {a}') # 여기도 500이 나오더라 이것이 포인트"
      ],
      "metadata": {
        "colab": {
          "base_uri": "https://localhost:8080/"
        },
        "id": "em934Q7T3-lo",
        "outputId": "9a3e4aa3-ac72-4ca8-c0c0-0a2fb0d4c0e7"
      },
      "execution_count": null,
      "outputs": [
        {
          "output_type": "stream",
          "name": "stdout",
          "text": [
            "func1 지역 변수 a = 1\n",
            "func2 지역 변수 a = 4\n",
            "func3 전역 변수 a = 5\n",
            "func4 전역 변수 a = 500\n",
            "전역 변수 a = 500\n"
          ]
        }
      ]
    },
    {
      "cell_type": "markdown",
      "source": [
        "### 람다 함수\n",
        "- 'def' 함수 같은 경우에는 복잡한 함수 로직을 만들 때 주로 사용\n",
        "- 단순 기능을 수행 할 때, lambda 함수\n",
        " + 함수를 한줄로 처리"
      ],
      "metadata": {
        "id": "DGP2hThP6t4L"
      }
    },
    {
      "cell_type": "code",
      "source": [
        "(lambda x : x **2)(3)"
      ],
      "metadata": {
        "colab": {
          "base_uri": "https://localhost:8080/"
        },
        "id": "eiaDn8rP7J-0",
        "outputId": "164b92e3-41fa-424b-eca4-9689fab3a486"
      },
      "execution_count": null,
      "outputs": [
        {
          "output_type": "execute_result",
          "data": {
            "text/plain": [
              "9"
            ]
          },
          "metadata": {},
          "execution_count": 52
        }
      ]
    },
    {
      "cell_type": "code",
      "source": [
        "(lambda 인자(=매개변수): 인자를 활용한 코드) (원하는 인자 코드 입력)"
      ],
      "metadata": {
        "id": "A770U5007vmR"
      },
      "execution_count": null,
      "outputs": []
    },
    {
      "cell_type": "code",
      "source": [
        "mySquare = lambda x : x ** 2\n",
        "mySquare(5)"
      ],
      "metadata": {
        "colab": {
          "base_uri": "https://localhost:8080/"
        },
        "id": "GIcoh2zQ8Oy4",
        "outputId": "20e88df2-181e-4d87-aa7a-e991228da7d3"
      },
      "execution_count": null,
      "outputs": [
        {
          "output_type": "execute_result",
          "data": {
            "text/plain": [
              "25"
            ]
          },
          "metadata": {},
          "execution_count": 58
        }
      ]
    },
    {
      "cell_type": "code",
      "source": [
        "def myPower(x):\n",
        "  y = x ** 2\n",
        "  print(y)\n",
        "#  return y\n",
        "\n",
        "myPower(3)"
      ],
      "metadata": {
        "colab": {
          "base_uri": "https://localhost:8080/"
        },
        "id": "kL9-tsZn7W8d",
        "outputId": "e35f2de9-c501-4953-a463-ec848a386ca5"
      },
      "execution_count": null,
      "outputs": [
        {
          "output_type": "stream",
          "name": "stdout",
          "text": [
            "9\n"
          ]
        }
      ]
    },
    {
      "cell_type": "markdown",
      "source": [
        "## 클래스 선언과 객체 생성\n",
        "- 교재 p.135\n",
        "- 함수의 확장\n",
        "- 함수와 클래스 비유적으로 비교\n",
        " + 함수 : 각 덧셈함수, 뺼셈함수, 곱셈함수 등\n",
        " + 클래스 : 사칙연산,  (예: 계산기)\n",
        " + 라이브러리 : 클래스들의 묶음\n",
        "     + 사칙연산 클래스\n",
        "     + 미분 클래스\n",
        "     + 적분 클래스\n",
        "     + etc..."
      ],
      "metadata": {
        "id": "bpe9T_17BDhd"
      }
    },
    {
      "cell_type": "code",
      "source": [
        "# 자전거의 속성 : data (바퀴의 크기, 자전거의 색상)\n",
        "# 자전거의 동작 : method (= function), 지정된 속도로 이동, 좌/우회전, 정지 기능"
      ],
      "metadata": {
        "id": "JoiaMLXpDc5Z"
      },
      "execution_count": null,
      "outputs": []
    },
    {
      "cell_type": "code",
      "source": [
        "class Bicycle(): # 클래스 선언\n",
        "# 클래스 변수\n",
        "데이터 1 = 바퀴의 크기\n",
        "데이터 2 = 자전거의 색상\n",
        "\n",
        "# 클래스 메서드\n",
        "def 속도():\n",
        "  pass\n",
        "\n",
        "def 방향():\n",
        "  pass\n",
        "\n",
        "def 정지():\n",
        "  pass\n",
        "\n",
        "객체명 = Bicycle(데이터1, 데이터2) # 입력한 형태로 새로운 객체가 막 생기는 것\n",
        "\n",
        "# 상상\n",
        "벤츠자전거 = Bicycle(데이터1, 데이터2) # 매장 옵션\n",
        "\n",
        "#문의\n",
        "벤츠자전거 하늘로 비행하나요? =====> 얘는 기능이 없음\n",
        "\n"
      ],
      "metadata": {
        "id": "xZ6uUfGSD_AW"
      },
      "execution_count": null,
      "outputs": []
    },
    {
      "cell_type": "markdown",
      "source": [
        "### Why Class? 프로그래밍 관점\n"
      ],
      "metadata": {
        "id": "qpjPFB06JNz5"
      }
    },
    {
      "cell_type": "code",
      "source": [
        "result = 0\n",
        "def add(num):\n",
        "  global result\n",
        "\n",
        "  result = result + num # 결과값(result)에 입력값(num) 더하기\n",
        "  return result\n",
        "print(add(3)) # + 5 ==> 8\n",
        "print(add(5))"
      ],
      "metadata": {
        "colab": {
          "base_uri": "https://localhost:8080/"
        },
        "id": "oHNZHnTwEc0J",
        "outputId": "51c2ecc3-dfc6-4e64-c82e-670585d577a1"
      },
      "execution_count": null,
      "outputs": [
        {
          "output_type": "stream",
          "name": "stdout",
          "text": [
            "3\n",
            "8\n"
          ]
        }
      ]
    },
    {
      "cell_type": "markdown",
      "source": [
        "- 계산기가 1대 더 필요한 상태"
      ],
      "metadata": {
        "id": "OIQuOYGsJ7MD"
      }
    },
    {
      "cell_type": "code",
      "source": [
        "result1 = 0\n",
        "result2 = 0\n",
        "\n",
        "def add1(num):\n",
        "  global result1\n",
        "\n",
        "  result1 = result1 + num # 결괏값(result)에 입력값(num) 더하기\n",
        "  return result1\n",
        "\n",
        "def add2(num):\n",
        "  global result2\n",
        "\n",
        "  result2 = result2 + num # 결괏값(result)에 입력값(num) 더하기\n",
        "  return result2\n",
        "\n",
        "\n",
        "print(add1(3))\n",
        "print(add1(5))\n",
        "print(add2(3))\n",
        "print(add2(8))"
      ],
      "metadata": {
        "colab": {
          "base_uri": "https://localhost:8080/"
        },
        "id": "821Fn6yHJ_x0",
        "outputId": "fbc0bd19-a015-4cc0-a44a-7fde380e7929"
      },
      "execution_count": null,
      "outputs": [
        {
          "output_type": "stream",
          "name": "stdout",
          "text": [
            "3\n",
            "8\n",
            "3\n",
            "11\n"
          ]
        }
      ]
    },
    {
      "cell_type": "markdown",
      "source": [
        "- 위 코드의 문제점 : 같은 기능(덧셈)을 수행하는 함수가 중복될 구 있음 / 코드의 가독성이 매우 급격하게 떨어지기 시작"
      ],
      "metadata": {
        "id": "t33rPPgzKdBz"
      }
    },
    {
      "cell_type": "code",
      "source": [
        "class Calculator:\n",
        "\n",
        "  def __init__(self):\n",
        "    self.result = 0 # result 값을 초기화\n",
        "\n",
        "    # 클래스 메서드\n",
        "  def add(self, num):\n",
        "      self.result = self.result + num\n",
        "      return self.result\n",
        "\n",
        "cal1 = Calculator() # 인스턴스화, 계산기 번호 1\n",
        "cal2 = Calculator()  # 인스턴스화, 계산기 번호 2\n",
        "cal3 = Calculator()\n",
        "\n",
        "# 클래스의 위대함\n",
        "# 독립적으로 구현이 되면서, 동시에 실행이 되고 있음\n",
        "# 기능은 덧셈 기능\n",
        "# 계산기 댓수를 무한으로 생성가능\n",
        "\n",
        "print(cal1.add(3))\n",
        "print(cal1.add(5))\n",
        "print(cal2.add(3))\n",
        "print(cal2.add(100))"
      ],
      "metadata": {
        "colab": {
          "base_uri": "https://localhost:8080/"
        },
        "id": "T9uBVe0qPK2h",
        "outputId": "acffafa5-bdff-4223-98db-90dc54afbcae"
      },
      "execution_count": null,
      "outputs": [
        {
          "output_type": "stream",
          "name": "stdout",
          "text": [
            "3\n",
            "8\n",
            "3\n",
            "103\n"
          ]
        }
      ]
    },
    {
      "cell_type": "code",
      "source": [
        "print(cal3.multiple(100)) # multiple 지정 안함"
      ],
      "metadata": {
        "colab": {
          "base_uri": "https://localhost:8080/",
          "height": 184
        },
        "id": "vdV4idVYS3r4",
        "outputId": "d9023520-fcfc-484b-b9e1-68b1f5b09edc"
      },
      "execution_count": null,
      "outputs": [
        {
          "output_type": "error",
          "ename": "AttributeError",
          "evalue": "ignored",
          "traceback": [
            "\u001b[0;31m---------------------------------------------------------------------------\u001b[0m",
            "\u001b[0;31mAttributeError\u001b[0m                            Traceback (most recent call last)",
            "\u001b[0;32m<ipython-input-79-da385e1c90de>\u001b[0m in \u001b[0;36m<cell line: 1>\u001b[0;34m()\u001b[0m\n\u001b[0;32m----> 1\u001b[0;31m \u001b[0mprint\u001b[0m\u001b[0;34m(\u001b[0m\u001b[0mcal3\u001b[0m\u001b[0;34m.\u001b[0m\u001b[0mmultiple\u001b[0m\u001b[0;34m(\u001b[0m\u001b[0;36m100\u001b[0m\u001b[0;34m)\u001b[0m\u001b[0;34m)\u001b[0m\u001b[0;34m\u001b[0m\u001b[0;34m\u001b[0m\u001b[0m\n\u001b[0m",
            "\u001b[0;31mAttributeError\u001b[0m: 'Calculator' object has no attribute 'multiple'"
          ]
        }
      ]
    },
    {
      "cell_type": "code",
      "source": [
        "print(cal3.Add(100)) # 대문자는 안됨"
      ],
      "metadata": {
        "colab": {
          "base_uri": "https://localhost:8080/",
          "height": 184
        },
        "id": "38NgS8yHTs1o",
        "outputId": "8ba3fd99-e3dc-4e22-dc78-0372902412fe"
      },
      "execution_count": null,
      "outputs": [
        {
          "output_type": "error",
          "ename": "AttributeError",
          "evalue": "ignored",
          "traceback": [
            "\u001b[0;31m---------------------------------------------------------------------------\u001b[0m",
            "\u001b[0;31mAttributeError\u001b[0m                            Traceback (most recent call last)",
            "\u001b[0;32m<ipython-input-80-8a2a7f147476>\u001b[0m in \u001b[0;36m<cell line: 1>\u001b[0;34m()\u001b[0m\n\u001b[0;32m----> 1\u001b[0;31m \u001b[0mprint\u001b[0m\u001b[0;34m(\u001b[0m\u001b[0mcal3\u001b[0m\u001b[0;34m.\u001b[0m\u001b[0mAdd\u001b[0m\u001b[0;34m(\u001b[0m\u001b[0;36m100\u001b[0m\u001b[0;34m)\u001b[0m\u001b[0;34m)\u001b[0m\u001b[0;34m\u001b[0m\u001b[0;34m\u001b[0m\u001b[0m\n\u001b[0m",
            "\u001b[0;31mAttributeError\u001b[0m: 'Calculator' object has no attribute 'Add'"
          ]
        }
      ]
    },
    {
      "cell_type": "markdown",
      "source": [
        "### 객체 초기화\n",
        "- '__init__()' 객체 생성과 동시에 속성값을 지정할 수 있다\n",
        " + 주로 클래스 선언 시 변수 초기화"
      ],
      "metadata": {
        "id": "-kwdLV1AU4_n"
      }
    },
    {
      "cell_type": "code",
      "source": [
        "class Bicycle():\n",
        "\n",
        "  # 변수 초기화\n",
        "  def __init__(self, wheel_size, color):\n",
        "    self. wheel_size =  wheel_size\n",
        "    self.color = color\n",
        "\n",
        "  def stop(self):\n",
        "      print('자전거({0}, {1}) : 정지'. format(self.wheel_size, self.color))"
      ],
      "metadata": {
        "id": "aYOHt7tVU_ak"
      },
      "execution_count": null,
      "outputs": []
    },
    {
      "cell_type": "code",
      "source": [
        "my_bicycle = Bicycle(26, 'black')\n",
        "your_bicycle = Bicycle(30, 'pink')\n",
        "\n",
        "my_bicycle.stop()\n",
        "your_bicycle.stop()"
      ],
      "metadata": {
        "colab": {
          "base_uri": "https://localhost:8080/"
        },
        "id": "-zbDFgU5WLt7",
        "outputId": "afb5b9b0-a953-4110-9da6-2c3bd206d0bd"
      },
      "execution_count": null,
      "outputs": [
        {
          "output_type": "stream",
          "name": "stdout",
          "text": [
            "자전거(26, black) : 정지\n",
            "자전거(30, pink) : 정지\n"
          ]
        }
      ]
    }
  ]
}

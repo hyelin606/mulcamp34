{
  "nbformat": 4,
  "nbformat_minor": 0,
  "metadata": {
    "colab": {
      "provenance": [],
      "toc_visible": true,
      "authorship_tag": "ABX9TyPJ3st6/Yh3nYP9ishMo5ih",
      "include_colab_link": true
    },
    "kernelspec": {
      "name": "python3",
      "display_name": "Python 3"
    },
    "language_info": {
      "name": "python"
    }
  },
  "cells": [
    {
      "cell_type": "markdown",
      "metadata": {
        "id": "view-in-github",
        "colab_type": "text"
      },
      "source": [
        "<a href=\"https://colab.research.google.com/github/hyelin606/mulcamp34/blob/main/%EA%B8%B0%EC%B4%88%EB%AC%B8%EB%B2%95_231227.ipynb\" target=\"_parent\"><img src=\"https://colab.research.google.com/assets/colab-badge.svg\" alt=\"Open In Colab\"/></a>"
      ]
    },
    {
      "cell_type": "markdown",
      "source": [
        "# Chapter 3. 파이썬을 계산기처럼\n",
        "\n"
      ],
      "metadata": {
        "id": "DNWcO9yUoClz"
      }
    },
    {
      "cell_type": "markdown",
      "source": [
        "## 사칙연산"
      ],
      "metadata": {
        "id": "dWknDJ3grZxh"
      }
    },
    {
      "cell_type": "code",
      "source": [
        "1+1"
      ],
      "metadata": {
        "colab": {
          "base_uri": "https://localhost:8080/"
        },
        "id": "MsfJ1q8LrXwl",
        "outputId": "2e1d4f9c-aac3-4376-b218-3058080db849"
      },
      "execution_count": 2,
      "outputs": [
        {
          "output_type": "execute_result",
          "data": {
            "text/plain": [
              "2"
            ]
          },
          "metadata": {},
          "execution_count": 2
        }
      ]
    },
    {
      "cell_type": "code",
      "execution_count": 1,
      "metadata": {
        "colab": {
          "base_uri": "https://localhost:8080/"
        },
        "id": "U63S-Vv7nwYp",
        "outputId": "92dba92a-f73a-43cc-fdc3-75ecd6b7b7da"
      },
      "outputs": [
        {
          "output_type": "execute_result",
          "data": {
            "text/plain": [
              "3"
            ]
          },
          "metadata": {},
          "execution_count": 1
        }
      ],
      "source": [
        "5-2"
      ]
    },
    {
      "cell_type": "code",
      "source": [
        "15*2"
      ],
      "metadata": {
        "colab": {
          "base_uri": "https://localhost:8080/"
        },
        "id": "m-QEaTE1rlO2",
        "outputId": "cf006b0b-70fb-4615-e0d0-4f27b593eeed"
      },
      "execution_count": 4,
      "outputs": [
        {
          "output_type": "execute_result",
          "data": {
            "text/plain": [
              "30"
            ]
          },
          "metadata": {},
          "execution_count": 4
        }
      ]
    },
    {
      "cell_type": "code",
      "source": [
        "# 나눗셈\n",
        "10/2    # 정수 / 정수 ====> 변환값은 실수형으로 반환"
      ],
      "metadata": {
        "colab": {
          "base_uri": "https://localhost:8080/"
        },
        "id": "7XQKJAUirt5l",
        "outputId": "ea91f4ef-ef78-4ff8-cede-b36ce47c8fb8"
      },
      "execution_count": 5,
      "outputs": [
        {
          "output_type": "execute_result",
          "data": {
            "text/plain": [
              "5.0"
            ]
          },
          "metadata": {},
          "execution_count": 5
        }
      ]
    },
    {
      "cell_type": "markdown",
      "source": [
        "### 실수 연산"
      ],
      "metadata": {
        "id": "yz5a9E8fsPPW"
      }
    },
    {
      "cell_type": "code",
      "source": [
        "print(1.2+5.3)\n",
        "print(6.4-1.7)\n",
        "print(1.4*3.2)\n",
        "print(9.3/3.1)"
      ],
      "metadata": {
        "colab": {
          "base_uri": "https://localhost:8080/"
        },
        "id": "hFI-mEomsS7t",
        "outputId": "f7f10e49-9ee7-4700-e527-5b56d066f5a6"
      },
      "execution_count": 9,
      "outputs": [
        {
          "output_type": "stream",
          "name": "stdout",
          "text": [
            "6.5\n",
            "4.7\n",
            "4.4799999999999995\n",
            "3.0\n"
          ]
        }
      ]
    },
    {
      "cell_type": "markdown",
      "source": [
        "### 연산규칙\n",
        "- (1) 괄호 안 계산\n",
        "- (2) 지수 계산\n",
        "- (3) 곱셈과 나눗셈 계산\n",
        "- (4) 덧셈과 뺼셈 계산\n",
        "- (5) 같은 순위 연산이면, 왼쪽에서 오른쪽으로\n",
        "- (6) 중복된 괄호가 있을 경우, 안쪽에서부터 처리"
      ],
      "metadata": {
        "id": "vxluc0k6tUgA"
      }
    },
    {
      "cell_type": "code",
      "source": [
        "print(2+3*4)"
      ],
      "metadata": {
        "colab": {
          "base_uri": "https://localhost:8080/"
        },
        "id": "QpeN5gcet3LP",
        "outputId": "34cb8fc8-3cb2-4e21-bee6-6825c0be775b"
      },
      "execution_count": 14,
      "outputs": [
        {
          "output_type": "stream",
          "name": "stdout",
          "text": [
            "14\n"
          ]
        }
      ]
    },
    {
      "cell_type": "code",
      "source": [
        "print((3+4*2)+(3-2*5/2))"
      ],
      "metadata": {
        "colab": {
          "base_uri": "https://localhost:8080/"
        },
        "id": "ky811W5Gvpr5",
        "outputId": "806f8834-84e7-4c38-85de-74abe5323283"
      },
      "execution_count": 15,
      "outputs": [
        {
          "output_type": "stream",
          "name": "stdout",
          "text": [
            "9.0\n"
          ]
        }
      ]
    },
    {
      "cell_type": "code",
      "source": [],
      "metadata": {
        "id": "TQwmm8vbvz8l"
      },
      "execution_count": null,
      "outputs": []
    },
    {
      "cell_type": "markdown",
      "source": [
        "함수의 종류\n",
        "- 내장(built-in)함수: 파이썬 설치와 함께 제공하는 기본적인 함수\n",
        " + print(), type()\n",
        " + 종류가 몇개인가요? (모른다..)\n",
        " + 5주차~8주차 Documentation : 함수를 설명해주는 문서 보는 법 익힐 것 (영어)\n",
        "- 라이브러리에서 제공하는 함수\n",
        " + R: 패키지, Python : 라이브러리\n",
        "   - 웹사이트 개발 : 웹사이트와 관련된 라이브러리를 별도 설치 필요\n",
        "   - 통계분석 : 통계분석과 관련된 라이브러리 별도 설치 필요\n",
        "   - 시각화 : 시각화와 관련된 라이브러리 설치\n",
        "   - 개임개발 : 게임개발과 관련된 라이브러리 설치\n",
        "   - 수치연산 주요 라이브러리 : numpy, scipy"
      ],
      "metadata": {
        "id": "Vc9aqtp0z0wZ"
      }
    },
    {
      "cell_type": "markdown",
      "source": [
        "## type()\n",
        "- 함수 : 특정 기능을 수행하도록 만든 매직박스\n",
        " + 특정함수를 조건만 맞춰주면 동작함\n",
        ""
      ],
      "metadata": {
        "id": "9GtDZwIlvDgf"
      }
    },
    {
      "cell_type": "code",
      "source": [
        "# 파이썬에서는 정수를 어떻게 표현할까?\n",
        "# 파이썬에서는 실수를 어떻게 표현할까?\n",
        "print(type(3))"
      ],
      "metadata": {
        "colab": {
          "base_uri": "https://localhost:8080/"
        },
        "id": "-Md3uf31urrX",
        "outputId": "45a20cab-4154-4cc7-93c1-807abafa5d0f"
      },
      "execution_count": 19,
      "outputs": [
        {
          "output_type": "stream",
          "name": "stdout",
          "text": [
            "<class 'int'>\n"
          ]
        }
      ]
    },
    {
      "cell_type": "code",
      "source": [
        "print(type(3.5))"
      ],
      "metadata": {
        "colab": {
          "base_uri": "https://localhost:8080/"
        },
        "id": "ZUc-LGa4u4C_",
        "outputId": "f2bdf1de-d592-45e0-cc7b-14e3cc8e1e63"
      },
      "execution_count": 20,
      "outputs": [
        {
          "output_type": "stream",
          "name": "stdout",
          "text": [
            "<class 'float'>\n"
          ]
        }
      ]
    },
    {
      "cell_type": "code",
      "source": [
        "print(type(~~~))"
      ],
      "metadata": {
        "colab": {
          "base_uri": "https://localhost:8080/",
          "height": 147
        },
        "id": "HYcgXHyKv83r",
        "outputId": "073bd596-6f7f-4a9b-9f04-4c520808efa5"
      },
      "execution_count": 21,
      "outputs": [
        {
          "output_type": "error",
          "ename": "SyntaxError",
          "evalue": "ignored",
          "traceback": [
            "\u001b[0;36m  File \u001b[0;32m\"<ipython-input-21-4204741c7bce>\"\u001b[0;36m, line \u001b[0;32m1\u001b[0m\n\u001b[0;31m    print(type(~~~))\u001b[0m\n\u001b[0m                  ^\u001b[0m\n\u001b[0;31mSyntaxError\u001b[0m\u001b[0;31m:\u001b[0m invalid syntax\n"
          ]
        }
      ]
    },
    {
      "cell_type": "markdown",
      "source": [
        "- 파이썬 객체지향 언어입니다."
      ],
      "metadata": {
        "id": "aUxEa5sd1wp-"
      }
    },
    {
      "cell_type": "markdown",
      "source": [
        "## 거듭 제곱과 나머지\n",
        "- 숫자 A를 n번 곱하는 거듭제곱(Power)\n",
        " + A는 밑, n은 지수라고 표현"
      ],
      "metadata": {
        "id": "Qk-ep1fF2CW4"
      }
    },
    {
      "cell_type": "code",
      "source": [
        "2 * 2 * 2 * 2 * 2"
      ],
      "metadata": {
        "colab": {
          "base_uri": "https://localhost:8080/"
        },
        "id": "EgrV-fbh2T1H",
        "outputId": "0db275f2-847b-43ce-8fd5-76eb96d7cb18"
      },
      "execution_count": 23,
      "outputs": [
        {
          "output_type": "execute_result",
          "data": {
            "text/plain": [
              "32"
            ]
          },
          "metadata": {},
          "execution_count": 23
        }
      ]
    },
    {
      "cell_type": "code",
      "source": [
        "2 ** 5 # 거듭제곱"
      ],
      "metadata": {
        "colab": {
          "base_uri": "https://localhost:8080/"
        },
        "id": "oz1IbCmyovrS",
        "outputId": "98816bed-4d49-423f-fe72-faaf8ab35cd4"
      },
      "execution_count": 24,
      "outputs": [
        {
          "output_type": "execute_result",
          "data": {
            "text/plain": [
              "32"
            ]
          },
          "metadata": {},
          "execution_count": 24
        }
      ]
    },
    {
      "cell_type": "markdown",
      "source": [
        "- 나머지 구하는 방법"
      ],
      "metadata": {
        "id": "fnamsfU82nUW"
      }
    },
    {
      "cell_type": "code",
      "source": [
        "13 % 5 # 나머지"
      ],
      "metadata": {
        "colab": {
          "base_uri": "https://localhost:8080/"
        },
        "id": "cdRaFUB72rMa",
        "outputId": "30aabb6f-7419-4a38-c43f-b03352973906"
      },
      "execution_count": 25,
      "outputs": [
        {
          "output_type": "execute_result",
          "data": {
            "text/plain": [
              "3"
            ]
          },
          "metadata": {},
          "execution_count": 25
        }
      ]
    },
    {
      "cell_type": "code",
      "source": [
        "# 몫을 구하고 싶음\n",
        "13 // 5"
      ],
      "metadata": {
        "colab": {
          "base_uri": "https://localhost:8080/"
        },
        "id": "HEDkhI_x2vD1",
        "outputId": "f9527f86-9026-4b33-d8ab-613562084b7c"
      },
      "execution_count": 27,
      "outputs": [
        {
          "output_type": "execute_result",
          "data": {
            "text/plain": [
              "2"
            ]
          },
          "metadata": {},
          "execution_count": 27
        }
      ]
    },
    {
      "cell_type": "markdown",
      "source": [
        "- 교재 표 3-1(p34), 산술연산자 표 정리"
      ],
      "metadata": {
        "id": "kClRllW33FuR"
      }
    },
    {
      "cell_type": "markdown",
      "source": [
        "## 과학적 표기법 (Scientific notation)\n",
        "- 아주 큰 수, 작은 수를 다뤄야하는 케이스\n",
        "  + 빛은 초당 30만 km\n",
        "  + 딘위를 m/s 표현하면, 300,000,000m/s\n",
        "  + 3x10^8"
      ],
      "metadata": {
        "id": "pHrD8_HH3g4A"
      }
    },
    {
      "cell_type": "code",
      "source": [
        "3*10**8"
      ],
      "metadata": {
        "colab": {
          "base_uri": "https://localhost:8080/"
        },
        "id": "rId-mYly4OZh",
        "outputId": "f06969aa-02c6-4f11-af90-d3239ef6f024"
      },
      "execution_count": 29,
      "outputs": [
        {
          "output_type": "execute_result",
          "data": {
            "text/plain": [
              "300000000"
            ]
          },
          "metadata": {},
          "execution_count": 29
        }
      ]
    },
    {
      "cell_type": "code",
      "source": [
        "3e8"
      ],
      "metadata": {
        "colab": {
          "base_uri": "https://localhost:8080/"
        },
        "id": "uQyosYOA4R5T",
        "outputId": "cb7890b0-149a-4db2-e303-97c0b8b94c68"
      },
      "execution_count": 31,
      "outputs": [
        {
          "output_type": "execute_result",
          "data": {
            "text/plain": [
              "300000000.0"
            ]
          },
          "metadata": {},
          "execution_count": 31
        }
      ]
    },
    {
      "cell_type": "code",
      "source": [
        "3e-4"
      ],
      "metadata": {
        "colab": {
          "base_uri": "https://localhost:8080/"
        },
        "id": "LVssvkGq41-A",
        "outputId": "d028f305-aa40-486c-9cdf-a5452129e40a"
      },
      "execution_count": 32,
      "outputs": [
        {
          "output_type": "execute_result",
          "data": {
            "text/plain": [
              "0.0003"
            ]
          },
          "metadata": {},
          "execution_count": 32
        }
      ]
    },
    {
      "cell_type": "markdown",
      "source": [
        "## 진수 표현과 변환\n",
        "- 우리는 일상생활에서는 10진법\n",
        "- 60진법 : 60초가 1분, 60분이 1시간\n",
        "- 12진법 : 오전 12시간, 오후 12시간, 1년 12달\n",
        "- 컴퓨터 프로그래밍, 숫자 0과 1로 이루어진 2진법 수행\n",
        "- 8진법  : 0~7까지의 숫자\n",
        "- 16진법 : 0~9, a, b, c, d, e, f\n",
        "- 매서드\n",
        " + bin() : 10진수를 2진수로\n",
        " + oct() : 10진수를 8진수로\n",
        " + hex() : 10진수를 16진수로"
      ],
      "metadata": {
        "id": "Pka8T2qQ5Vf-"
      }
    },
    {
      "cell_type": "code",
      "source": [
        "17 # 10진법"
      ],
      "metadata": {
        "colab": {
          "base_uri": "https://localhost:8080/"
        },
        "id": "vaU0wPJf6LDQ",
        "outputId": "2a8b7f4b-a15d-40fe-b94f-9564cbaf3b25"
      },
      "execution_count": 33,
      "outputs": [
        {
          "output_type": "execute_result",
          "data": {
            "text/plain": [
              "17"
            ]
          },
          "metadata": {},
          "execution_count": 33
        }
      ]
    },
    {
      "cell_type": "code",
      "source": [
        "0b10001 # 2진법"
      ],
      "metadata": {
        "colab": {
          "base_uri": "https://localhost:8080/"
        },
        "id": "2GAEasBY6OBv",
        "outputId": "9e82e320-d4a1-4d0d-8f5f-7e02ca1bdfc2"
      },
      "execution_count": 34,
      "outputs": [
        {
          "output_type": "execute_result",
          "data": {
            "text/plain": [
              "17"
            ]
          },
          "metadata": {},
          "execution_count": 34
        }
      ]
    },
    {
      "cell_type": "code",
      "source": [
        "0o21 #8진법"
      ],
      "metadata": {
        "colab": {
          "base_uri": "https://localhost:8080/"
        },
        "id": "uvhFvFoB6X5e",
        "outputId": "ee771783-5d6a-4fc5-d705-810ef7391114"
      },
      "execution_count": 35,
      "outputs": [
        {
          "output_type": "execute_result",
          "data": {
            "text/plain": [
              "17"
            ]
          },
          "metadata": {},
          "execution_count": 35
        }
      ]
    },
    {
      "cell_type": "code",
      "source": [
        "0x11 #16진법"
      ],
      "metadata": {
        "colab": {
          "base_uri": "https://localhost:8080/"
        },
        "id": "zM3-28tS6cwe",
        "outputId": "152e9b6c-9f8e-442e-bdd9-20e9b8e14fc4"
      },
      "execution_count": 36,
      "outputs": [
        {
          "output_type": "execute_result",
          "data": {
            "text/plain": [
              "17"
            ]
          },
          "metadata": {},
          "execution_count": 36
        }
      ]
    },
    {
      "cell_type": "markdown",
      "source": [
        "## 논리 연산 및 비교 연산 (매우 중요)\n",
        "- 참/거짓\n",
        "- 논리 연산을 잘 활용하는 것이 프로그랭밍의 핵심\n"
      ],
      "metadata": {
        "id": "fKgYLyoZ7G5x"
      }
    },
    {
      "cell_type": "code",
      "source": [
        "print(True)"
      ],
      "metadata": {
        "colab": {
          "base_uri": "https://localhost:8080/"
        },
        "id": "SH0tj4gP74p-",
        "outputId": "97c45240-b66d-4045-b726-fa422c280e7f"
      },
      "execution_count": 37,
      "outputs": [
        {
          "output_type": "stream",
          "name": "stdout",
          "text": [
            "True\n"
          ]
        }
      ]
    },
    {
      "cell_type": "code",
      "source": [
        "print(False)"
      ],
      "metadata": {
        "colab": {
          "base_uri": "https://localhost:8080/"
        },
        "id": "idMVO_r877m4",
        "outputId": "fcd53edc-9096-4df3-857e-ab2350e8cbf0"
      },
      "execution_count": 39,
      "outputs": [
        {
          "output_type": "stream",
          "name": "stdout",
          "text": [
            "False\n"
          ]
        }
      ]
    },
    {
      "cell_type": "code",
      "source": [
        "print(type(True))"
      ],
      "metadata": {
        "colab": {
          "base_uri": "https://localhost:8080/"
        },
        "id": "mbuNQ7j48AFL",
        "outputId": "c0637180-7d44-453c-dd68-7145c1d138a6"
      },
      "execution_count": 40,
      "outputs": [
        {
          "output_type": "stream",
          "name": "stdout",
          "text": [
            "<class 'bool'>\n"
          ]
        }
      ]
    },
    {
      "cell_type": "markdown",
      "source": [
        "### 논리 연산자\n",
        "- and : A and B : A와 B 모두 참일 때 참\n",
        "- or : A or B : A와 B 중 하나라도 참이면 참, 둘다 거짓일 때 거짓\n",
        "- not : not A : A가 참일 떄 거짓, A가 거짓이면 참\n"
      ],
      "metadata": {
        "id": "uM7bispf8YQ0"
      }
    },
    {
      "cell_type": "code",
      "source": [
        "# 교집합\n",
        "# True 또는 False 결과가 나오도록 조건식을 만들어야함\n",
        "print(True and True)\n",
        "print(True and False)\n",
        "print(False and True)\n",
        "print(False and False)"
      ],
      "metadata": {
        "colab": {
          "base_uri": "https://localhost:8080/"
        },
        "id": "UdaseBrABTa-",
        "outputId": "09fdb1d2-6877-4e6a-fa47-2e6d0f1e1fb6"
      },
      "execution_count": 43,
      "outputs": [
        {
          "output_type": "stream",
          "name": "stdout",
          "text": [
            "True\n",
            "False\n",
            "False\n",
            "False\n"
          ]
        }
      ]
    },
    {
      "cell_type": "code",
      "source": [
        "# 합집합\n",
        "print(True or True)\n",
        "print(True or False)\n",
        "print(False or True)\n",
        "print(False or False)"
      ],
      "metadata": {
        "colab": {
          "base_uri": "https://localhost:8080/"
        },
        "id": "VNTgRWuWBnXV",
        "outputId": "a1dcace1-9506-4760-8d56-165cc2b23b77"
      },
      "execution_count": 44,
      "outputs": [
        {
          "output_type": "stream",
          "name": "stdout",
          "text": [
            "True\n",
            "True\n",
            "True\n",
            "False\n"
          ]
        }
      ]
    },
    {
      "cell_type": "code",
      "source": [
        "not False"
      ],
      "metadata": {
        "colab": {
          "base_uri": "https://localhost:8080/"
        },
        "id": "VsueL7HaBtdO",
        "outputId": "0c11165a-14d1-43d3-9ef2-8970f7d09b2a"
      },
      "execution_count": 45,
      "outputs": [
        {
          "output_type": "execute_result",
          "data": {
            "text/plain": [
              "True"
            ]
          },
          "metadata": {},
          "execution_count": 45
        }
      ]
    },
    {
      "cell_type": "markdown",
      "source": [
        "### 비교연산자"
      ],
      "metadata": {
        "id": "2bzEi-6OC6QT"
      }
    },
    {
      "cell_type": "code",
      "source": [
        "# True 또는 False 결과가 나오도록 \"의도적\"으로 조건식을 만들어야함\n",
        "1 == 2 # a와 b가 같다"
      ],
      "metadata": {
        "colab": {
          "base_uri": "https://localhost:8080/"
        },
        "id": "uj9fLsRECa6Y",
        "outputId": "9ce1b5f3-cefe-4851-ec5f-36a25c734566"
      },
      "execution_count": 50,
      "outputs": [
        {
          "output_type": "execute_result",
          "data": {
            "text/plain": [
              "False"
            ]
          },
          "metadata": {},
          "execution_count": 50
        }
      ]
    },
    {
      "cell_type": "code",
      "source": [
        "1 != 2 # a와 b는 같지 않다"
      ],
      "metadata": {
        "colab": {
          "base_uri": "https://localhost:8080/"
        },
        "id": "0Bv1VfMVDDfV",
        "outputId": "20b9aab9-3fb4-4e4a-fd7d-876f2c829d6e"
      },
      "execution_count": 52,
      "outputs": [
        {
          "output_type": "execute_result",
          "data": {
            "text/plain": [
              "True"
            ]
          },
          "metadata": {},
          "execution_count": 52
        }
      ]
    },
    {
      "cell_type": "code",
      "source": [
        "1<= 2 # a는 b보다 작거나 같다"
      ],
      "metadata": {
        "colab": {
          "base_uri": "https://localhost:8080/"
        },
        "id": "oHRMY89NDNRd",
        "outputId": "503aa91f-67c6-489f-f506-e5ae08a5994d"
      },
      "execution_count": 53,
      "outputs": [
        {
          "output_type": "execute_result",
          "data": {
            "text/plain": [
              "True"
            ]
          },
          "metadata": {},
          "execution_count": 53
        }
      ]
    },
    {
      "cell_type": "code",
      "source": [
        "1 < 2 # a가 b보다 작다"
      ],
      "metadata": {
        "colab": {
          "base_uri": "https://localhost:8080/"
        },
        "id": "YB_qjgO2DTB5",
        "outputId": "46baf9a9-43f7-416e-a504-0f903f035b76"
      },
      "execution_count": 54,
      "outputs": [
        {
          "output_type": "execute_result",
          "data": {
            "text/plain": [
              "True"
            ]
          },
          "metadata": {},
          "execution_count": 54
        }
      ]
    },
    {
      "cell_type": "code",
      "source": [
        "1>= 2 # a가 b보다 크거나 같다"
      ],
      "metadata": {
        "colab": {
          "base_uri": "https://localhost:8080/"
        },
        "id": "w4O0P1n1DXwH",
        "outputId": "6bf8e76a-c670-4fa4-9a47-73994b52c97f"
      },
      "execution_count": 55,
      "outputs": [
        {
          "output_type": "execute_result",
          "data": {
            "text/plain": [
              "False"
            ]
          },
          "metadata": {},
          "execution_count": 55
        }
      ]
    },
    {
      "cell_type": "code",
      "source": [
        "1 >2 # a가 b보다 크다"
      ],
      "metadata": {
        "colab": {
          "base_uri": "https://localhost:8080/"
        },
        "id": "mVMkTA5uDgNI",
        "outputId": "71b47f4e-6583-4369-935f-72a3590b9a75"
      },
      "execution_count": 56,
      "outputs": [
        {
          "output_type": "execute_result",
          "data": {
            "text/plain": [
              "False"
            ]
          },
          "metadata": {},
          "execution_count": 56
        }
      ]
    },
    {
      "cell_type": "markdown",
      "source": [
        "### 비교연산자 + 논리연산자\n"
      ],
      "metadata": {
        "id": "R3a2x7XAD7Pe"
      }
    },
    {
      "cell_type": "code",
      "source": [
        "1 > 0 and -2 < 0 # 비교연산자(1순위) 논리연산자(2순위)"
      ],
      "metadata": {
        "colab": {
          "base_uri": "https://localhost:8080/"
        },
        "id": "6d_7gb-ED-U5",
        "outputId": "21fd018e-441c-48ba-ce2d-fd6d2453ca01"
      },
      "execution_count": 57,
      "outputs": [
        {
          "output_type": "execute_result",
          "data": {
            "text/plain": [
              "True"
            ]
          },
          "metadata": {},
          "execution_count": 57
        }
      ]
    },
    {
      "cell_type": "code",
      "source": [
        "# 괄호 안이 먼저 연산\n",
        " ((3 < 0 ) and (-5 > 0)) and (1 > 5)"
      ],
      "metadata": {
        "colab": {
          "base_uri": "https://localhost:8080/"
        },
        "id": "bSTdiIwWEDbP",
        "outputId": "5ff1828d-f916-4127-f885-7aa6936081f2"
      },
      "execution_count": 59,
      "outputs": [
        {
          "output_type": "execute_result",
          "data": {
            "text/plain": [
              "False"
            ]
          },
          "metadata": {},
          "execution_count": 59
        }
      ]
    },
    {
      "cell_type": "markdown",
      "source": [
        "# Chapter 4. 변수와 자료형"
      ],
      "metadata": {
        "id": "0OxQmuLwoqVV"
      }
    }
  ]
}
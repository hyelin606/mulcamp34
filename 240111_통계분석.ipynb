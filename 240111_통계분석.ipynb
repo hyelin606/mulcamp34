{
 "cells": [
  {
   "cell_type": "markdown",
   "id": "f7124ca8-81da-484d-a490-76e629a7b97c",
   "metadata": {},
   "source": [
    "## 통계검정\n",
    "- 교재 p.294"
   ]
  },
  {
   "cell_type": "markdown",
   "id": "cf0918b6-e69f-4cc0-a28a-48083e5fc673",
   "metadata": {},
   "source": [
    "## 문제 상황\n",
    "- 편의점. 감자튀김 무게 130g으로 알려져 있음\n",
    "- 학생이 무게 하나 잼. 122.02g 밖에 되지 않음\n",
    "- 2주간 매일 감자튀김을 사서 무게를 측정\n",
    " + 14개의 표본의 평균을 계산했는데, 128.451g ===> 학생이 편의점주에게 항의\n",
    " + 편의점주 왈: 그저 우연이다!\n",
    "- 14개의 표본의 평균이 128.451g으로 나온 건 정말 우연인가?"
   ]
  },
  {
   "cell_type": "markdown",
   "id": "71b9c624-bd6b-4247-9abf-e3abcf257cce",
   "metadata": {},
   "source": [
    "### 질문\n",
    "- 어떤 통계 검정 방법을 사용해야 할까요?\n",
    "  + t-test, One Sample T-Test\n",
    "  + 표본 14개 ==> 정규성 검정 진행 후, 정규성 검정 통과할 때, One Sample T-Test\n",
    "- 귀무가설과 대립가설을 설정해보세요\n",
    "  + 귀무가설: 모평균(130g)과 표본평균(128.451g)과 같다.\n",
    "  + 대립가설: 모평균(130g)과 표본평균(128.451g)과 같지 않다. (양측 검정)\n",
    "  + 대립가설: 모평균(130g)과 표본평균(128.451g)보다 크다. (단측 검정)\n",
    "+ 교재 p302 단측검정과 양측검정 설명"
   ]
  },
  {
   "cell_type": "code",
   "execution_count": 53,
   "id": "1bb9bbd2-56db-49b1-b074-fd1699e1b635",
   "metadata": {},
   "outputs": [
    {
     "name": "stdout",
     "output_type": "stream",
     "text": [
      "Requirement already satisfied: scipy in c:\\projectds\\venv\\lib\\site-packages (1.11.4)\n",
      "Requirement already satisfied: numpy<1.28.0,>=1.21.6 in c:\\projectds\\venv\\lib\\site-packages (from scipy) (1.26.2)\n"
     ]
    }
   ],
   "source": [
    "!pip install scipy"
   ]
  },
  {
   "cell_type": "code",
   "execution_count": 54,
   "id": "741e2c27-c144-4217-a0d9-3d51771be4cb",
   "metadata": {},
   "outputs": [],
   "source": [
    "# 294\n",
    "import numpy as np\n",
    "import pandas as pd\n",
    "from scipy import stats"
   ]
  },
  {
   "cell_type": "code",
   "execution_count": 55,
   "id": "ec8eb236-7a73-4c4f-a602-e236e2cd5dbd",
   "metadata": {},
   "outputs": [],
   "source": [
    "%precision 3\n",
    "np.random.seed(1111)"
   ]
  },
  {
   "cell_type": "code",
   "execution_count": 56,
   "id": "71ee010a-2bdc-4f27-b0b7-5dbfc5f8cb97",
   "metadata": {},
   "outputs": [
    {
     "data": {
      "text/plain": [
       "'1.11.4'"
      ]
     },
     "execution_count": 56,
     "metadata": {},
     "output_type": "execute_result"
    }
   ],
   "source": [
    "import scipy\n",
    "scipy.__version__"
   ]
  },
  {
   "cell_type": "code",
   "execution_count": 57,
   "id": "c7df713a-9f08-49a1-97f9-819d2c7c9060",
   "metadata": {},
   "outputs": [
    {
     "data": {
      "text/plain": [
       "array([122.02, 131.73, 130.6 , 131.82, 132.05, 126.12, 124.43, 132.89,\n",
       "       122.79, 129.95, 126.14, 134.45, 127.64, 125.68])"
      ]
     },
     "execution_count": 57,
     "metadata": {},
     "output_type": "execute_result"
    }
   ],
   "source": [
    "df = pd.read_csv('data/ch11_potato.csv')\n",
    "sample = np.array(df['무게'])\n",
    "sample"
   ]
  },
  {
   "cell_type": "code",
   "execution_count": 58,
   "id": "214ef57b-8ab4-4167-9928-66c7e8f1b422",
   "metadata": {},
   "outputs": [
    {
     "data": {
      "text/plain": [
       "128.451"
      ]
     },
     "execution_count": 58,
     "metadata": {},
     "output_type": "execute_result"
    }
   ],
   "source": [
    "# 표본평균\n",
    "s_mean = np.mean(sample)\n",
    "s_mean"
   ]
  },
  {
   "cell_type": "markdown",
   "id": "7d20b302-9c01-4229-b055-bd53df1da680",
   "metadata": {},
   "source": [
    "## A 학생의 관심\n",
    "- (14개의) 표본평균이 모평균 130g보다 더 적은지 여부\n",
    "- 여기서는 감자튀김의 표본집단이 정규분포를 따르고 있고 ==> 정규성 검정을 할 필요가 없음\n",
    "  + 비모수 검정을 할 필요가 없음\n",
    "  + 바로 모수 검정을 하면 된다\n",
    "- 모분산이 9임을 알고 있다고 전제한다. "
   ]
  },
  {
   "cell_type": "code",
   "execution_count": 59,
   "id": "8c0cb675-b7c0-450c-8bb6-3851ff613936",
   "metadata": {},
   "outputs": [
    {
     "data": {
      "text/plain": [
       "128.681"
      ]
     },
     "execution_count": 59,
     "metadata": {},
     "output_type": "execute_result"
    }
   ],
   "source": [
    "rv = stats.norm(130, #모평균\n",
    "                np.sqrt(9/14)) # 9 모분산, 14 표본의 개수\n",
    "rv.isf(0.95) # 0.95 신뢰구간 95%"
   ]
  },
  {
   "cell_type": "code",
   "execution_count": 60,
   "id": "c5405eb0-b0f0-4e69-830c-dc181e5c680a",
   "metadata": {},
   "outputs": [
    {
     "data": {
      "text/plain": [
       "129.099"
      ]
     },
     "execution_count": 60,
     "metadata": {},
     "output_type": "execute_result"
    }
   ],
   "source": [
    "rv = stats.norm(130, #모평균\n",
    "                np.sqrt(9/30)) # 9 모분산, 30 표본의 개수\n",
    "rv.isf(0.95) # 0.95 신뢰구간 95%"
   ]
  },
  {
   "cell_type": "markdown",
   "id": "8cd58aa7-a928-46c5-a57e-bac1f27fcb53",
   "metadata": {},
   "source": [
    "### 검정통계량"
   ]
  },
  {
   "cell_type": "code",
   "execution_count": 61,
   "id": "248dae3e-7047-458f-8f0e-c24c6527a194",
   "metadata": {},
   "outputs": [
    {
     "data": {
      "text/plain": [
       "-1.932"
      ]
     },
     "execution_count": 61,
     "metadata": {},
     "output_type": "execute_result"
    }
   ],
   "source": [
    "# 130 모평균\n",
    "z = (s_mean - 130) / np.sqrt(9/14)\n",
    "z # t 통계량, 즉 검정통계량을 구한 것"
   ]
  },
  {
   "cell_type": "code",
   "execution_count": 62,
   "id": "0bdd831a-a967-4d7f-a2ea-fbd2bf89b6a3",
   "metadata": {},
   "outputs": [
    {
     "data": {
      "text/plain": [
       "-1.645"
      ]
     },
     "execution_count": 62,
     "metadata": {},
     "output_type": "execute_result"
    }
   ],
   "source": [
    "# 검정통계량에 관한 임계값을 구하기\n",
    "rv = stats.norm()\n",
    "rv.isf(0.95)"
   ]
  },
  {
   "cell_type": "code",
   "execution_count": 63,
   "id": "523ffd2d-09f8-44f8-b14a-01894c05748c",
   "metadata": {},
   "outputs": [
    {
     "data": {
      "text/plain": [
       "0.027"
      ]
     },
     "execution_count": 63,
     "metadata": {},
     "output_type": "execute_result"
    }
   ],
   "source": [
    "rv.cdf(z) # 유의수준 0.05보다 작음\n",
    "\n",
    "# 귀무가설: 모평균 130g 표본평균 128.451g과 같다\n",
    "# 대립가설: 모평균 130g 표본평균 128.451g과 다르다.\n",
    "\n",
    "# 대립가설 채택을 한다는 말은 통계에서는 존재하지 않음\n",
    "# 귀무가설을 채택 or 귀무가설을 기각(=대립가설 채택) 이라는 말 사용"
   ]
  },
  {
   "cell_type": "code",
   "execution_count": 64,
   "id": "5b1a1a60-e83a-4cc2-9aa6-eeea1efc481d",
   "metadata": {},
   "outputs": [
    {
     "data": {
      "text/plain": [
       "(-1.960, 1.960)"
      ]
     },
     "execution_count": 64,
     "metadata": {},
     "output_type": "execute_result"
    }
   ],
   "source": [
    "# 양측검정\n",
    "z = (s_mean - 130) / np.sqrt(9/14)\n",
    "rv = stats.norm()\n",
    "rv.interval(0.95) # 신뢰구간 95%"
   ]
  },
  {
   "cell_type": "code",
   "execution_count": 65,
   "id": "df1fd74a-f0e0-477a-9d05-4d8edb7cb831",
   "metadata": {},
   "outputs": [
    {
     "data": {
      "text/plain": [
       "0.027"
      ]
     },
     "execution_count": 65,
     "metadata": {},
     "output_type": "execute_result"
    }
   ],
   "source": [
    "rv.cdf(z)"
   ]
  },
  {
   "cell_type": "markdown",
   "id": "e7642ecc-6fe4-47f2-bc47-a4fddad80f9a",
   "metadata": {},
   "source": [
    "## 양측검정, 단측검정 구분\n",
    "- 양측검정: A 와 B가 Not Same\n",
    "- 단측검정: A>B, B>A"
   ]
  },
  {
   "cell_type": "markdown",
   "id": "fe890aa1-8a96-411e-bb0f-7d40f5b9f7a5",
   "metadata": {},
   "source": [
    "## 가설검정의 두가지 오류\n",
    "- 제 1종 오류: 귀무가설이 옳을 때, 귀무가설을 기각하는 오류\n",
    "- 제 2종 오류: 대립가설이 옳을 때, 귀무가설을 채택하는 오류"
   ]
  },
  {
   "cell_type": "markdown",
   "id": "182eb2a4-4674-4be9-968e-b03663419192",
   "metadata": {},
   "source": [
    "### 제 1종 오류\n",
    "- 실제로 평균이 130g인데도 불구하고 평균은 130g보다 작다라고 결론을 내리는 상황\n",
    " + False Positive (오탐)"
   ]
  },
  {
   "cell_type": "code",
   "execution_count": 66,
   "id": "06a85d32-3ab4-4174-a875-bb0b12aeeee5",
   "metadata": {},
   "outputs": [
    {
     "data": {
      "text/plain": [
       "0.053"
      ]
     },
     "execution_count": 66,
     "metadata": {},
     "output_type": "execute_result"
    }
   ],
   "source": [
    "rv = stats.norm(130,3)\n",
    "c = stats.norm().isf(0.95)\n",
    "n_samples = 10000\n",
    "cnt = 0\n",
    "for _ in range(n_samples):\n",
    "    sample_ = np.round(rv.rvs(14), 2)\n",
    "    s_mean_ = np.mean(sample_)\n",
    "    z = (s_mean_ - 130) / np.sqrt(9/14)\n",
    "    if z < c:\n",
    "        cnt += 1\n",
    "cnt / n_samples"
   ]
  },
  {
   "cell_type": "markdown",
   "id": "177b749a-eb91-4d29-8c87-34d223e0e847",
   "metadata": {},
   "source": [
    "- 1종 오류를 범활 비율은 0.053 / 약 5%의 비율로 130g보다 작다라고 잘못 참지하는 것과 같다.\n",
    "- 1종 오류를 범할 확률을 위험률\n",
    "- 좀 더 엄격하게 적용하고 싶다면 유의수준 1%에서 가설검정을 수헹"
   ]
  },
  {
   "cell_type": "markdown",
   "id": "97b75727-6430-4b9c-94f7-9485c92cb3f4",
   "metadata": {},
   "source": [
    "### 제 2종 오류\n",
    "- 실제로 표본평균이 130g보다 작음에도 불구하고 표본평균은 130g보다 작다라는 결론을 얻을 수 없는 상황\n",
    "  + 본레 검출해야 하는 것을 검출하지 못했으므로 False Negative (미탐)"
   ]
  },
  {
   "cell_type": "code",
   "execution_count": 67,
   "id": "08e1afa0-3c28-4c9a-9b60-4d4e0a18dc86",
   "metadata": {},
   "outputs": [],
   "source": [
    "# p.306\n",
    "rv = stats.norm(128, 3) # A 학생이 편의점에서 비밀문서, 실제로는 감자튀김 평균이 128g\n"
   ]
  },
  {
   "cell_type": "code",
   "execution_count": 70,
   "id": "b23be8d9-f5e7-4fc3-9a4b-542c26864a59",
   "metadata": {},
   "outputs": [
    {
     "data": {
      "text/plain": [
       "0.190"
      ]
     },
     "execution_count": 70,
     "metadata": {},
     "output_type": "execute_result"
    }
   ],
   "source": [
    "rv = stats.norm(128, 3)\n",
    "c = stats.norm().isf(0.95)\n",
    "n_samples = 10000\n",
    "cnt = 0\n",
    "for _ in range(n_samples):\n",
    "    sample_ = np.round(rv.rvs(14), 2)\n",
    "    s_mean_ = np.mean(sample_)\n",
    "    z = (s_mean_ - 130) / np.sqrt(9/14)\n",
    "    if z >= c:\n",
    "        cnt += 1\n",
    "        \n",
    "cnt / n_samples"
   ]
  },
  {
   "cell_type": "code",
   "execution_count": 69,
   "id": "54958aa0-9760-4e2e-b827-8abf2fa10b6c",
   "metadata": {},
   "outputs": [
    {
     "ename": "SyntaxError",
     "evalue": "invalid decimal literal (1513059036.py, line 1)",
     "output_type": "error",
     "traceback": [
      "\u001b[1;36m  Cell \u001b[1;32mIn[69], line 1\u001b[1;36m\u001b[0m\n\u001b[1;33m    - 0.190의 의미는 검정력 / 제대로 탐지하지 못할 확률이 약 20% 되더라\u001b[0m\n\u001b[1;37m          ^\u001b[0m\n\u001b[1;31mSyntaxError\u001b[0m\u001b[1;31m:\u001b[0m invalid decimal literal\n"
     ]
    }
   ],
   "source": [
    "- 0.190의 의미는 검정력 / 제대로 탐지하지 못할 확률이 약 20% 되더라\n",
    "- 제 2종 오류는 언제나 모집단의 정보에 의존한다. \n",
    " + 중요한 포인트: 분석가는 모집단의 구체적인 정보를 알 방법이 없음"
   ]
  },
  {
   "cell_type": "markdown",
   "id": "7eda9113-104c-43bb-9e4c-7cbaa96039ba",
   "metadata": {},
   "source": [
    "## 모분산을 안다!\n",
    "- 현실적으로 모집단을 아는 것은 불가능\n",
    "  + 건강보험 관련 통계/ 전국민 데이터가 있는 자료 (국가 관련)\n",
    "- 모분산을 알고 있다는 뜻은 모집단을 알고 있다 ==> 모평균도 구할 수 있음 ==> 모평균에 대한 검정을 우리가 굳이 할 필요가 없다"
   ]
  },
  {
   "cell_type": "code",
   "execution_count": null,
   "id": "a0be87bc-6574-4938-86a6-313a529a62ba",
   "metadata": {},
   "outputs": [],
   "source": [
    "def pmean_test(sample, mean0, alpha=0.05):\n",
    "    '''\n",
    "    sample : 표본 샘플 데이터\n",
    "    mean0 : 모평균을 제안(감자칩의 무게와 같이 이미 기제안이 된 것)\n",
    "    alpha : 신뢰구간 95% 수준의 신뢰구간\n",
    "    '''\n",
    "    s_mean = np.mean(sample)\n",
    "    u_var = np.var(sample, ddof=1)\n",
    "    n = len(sample)\n",
    "    rv = stats.t(df=n-1)\n",
    "    interval = rv.interval(1-alpha)\n",
    "\n",
    "    t = (s_mean - mean0) / np.sqrt(u_var/n)\n",
    "    print(f't통계량 값: {t:.3f}')\n",
    "    if interval[0] <= t <= interval[1]:\n",
    "        print('귀무가설을 채택')\n",
    "    else:\n",
    "        print('귀무가설을 기각')\n",
    "\n",
    "    if t < 0:\n",
    "        p = rv.cdf(t) * 2\n",
    "    else:\n",
    "        p = (1 - rv.cdf(t)) * 2\n",
    "    print(f'p값은 {p:.3f}')"
   ]
  },
  {
   "cell_type": "code",
   "execution_count": 71,
   "id": "6474663e-980e-4407-be9e-2ee713e30324",
   "metadata": {},
   "outputs": [
    {
     "name": "stdout",
     "output_type": "stream",
     "text": [
      "t통계량 값: -1.455\n",
      "귀무가설을 채택\n",
      "p값은 0.169\n"
     ]
    }
   ],
   "source": [
    "pmean_test(sample,130)"
   ]
  },
  {
   "cell_type": "code",
   "execution_count": 72,
   "id": "bd213e49-6f1b-4983-a446-4ac8f931b214",
   "metadata": {},
   "outputs": [
    {
     "data": {
      "text/plain": [
       "(-1.455, 0.169)"
      ]
     },
     "execution_count": 72,
     "metadata": {},
     "output_type": "execute_result"
    }
   ],
   "source": [
    "t, p = stats.ttest_1samp(sample, 130)\n",
    "t, p"
   ]
  },
  {
   "cell_type": "markdown",
   "id": "0d0a6374-e2ee-4fd6-816a-778435b499a7",
   "metadata": {},
   "source": [
    "### z 통계량 / t 통계량\n",
    "- 모집단을 알고, 모평균을 알고, 모분산을 알고 있다.\n",
    "  + z-검정 : z-통계량\n",
    " \n",
    "- 표본을 추출한다. 표본 평균을 알고, 표본 분산을 알고 있다.\n",
    "  + t-검정 : t-통계량"
   ]
  },
  {
   "cell_type": "markdown",
   "id": "cfecd034-c7f7-40ba-a896-3bb87b10b7b9",
   "metadata": {},
   "source": [
    "# 2표본 문제에 관한 가설검정\n",
    "- 대응표본: 정규분포를 가정할 수 있음 \n",
    "  + 정규성 검정 통과 : 대응표본 t-검정\n",
    "  + 정규성 검정 통과 실패 : 비모수 검정, 윌콕슨의 부호순위검정\n",
    "\n",
    "    \n",
    "- 독립표본 : 정규분포를 가정할 수 있음\n",
    "  + 정규성 검정 통과 : 독립비교 t-검정\n",
    "  + 정규성 검정 통과 실패 : 맨-위트니의 U검정"
   ]
  },
  {
   "cell_type": "markdown",
   "id": "8ef10d7d-1e43-4866-ad32-5dc824e1b895",
   "metadata": {},
   "source": [
    "### 대응표본 t-검정\n",
    "- A학생은 친구 20명에게 1주일간 근력 운동을 하게 함 (intervention, 개입)\n",
    "- 운동 전후에 집중력을 측정하는 테스트를 받게 됨\n",
    "\n",
    "  + 귀무가설: 근력운동 후 평균 집중력은 근력운동 전 평균 집중력과 같다.\n",
    "  + 대립가설: 근력운동 후 평균 집중력은 근력운동 전 평균 집중력과 다르다."
   ]
  },
  {
   "cell_type": "code",
   "execution_count": 76,
   "id": "5ef21f85-b57e-4964-bb40-0293b7d09409",
   "metadata": {},
   "outputs": [
    {
     "data": {
      "text/html": [
       "<div>\n",
       "<style scoped>\n",
       "    .dataframe tbody tr th:only-of-type {\n",
       "        vertical-align: middle;\n",
       "    }\n",
       "\n",
       "    .dataframe tbody tr th {\n",
       "        vertical-align: top;\n",
       "    }\n",
       "\n",
       "    .dataframe thead th {\n",
       "        text-align: right;\n",
       "    }\n",
       "</style>\n",
       "<table border=\"1\" class=\"dataframe\">\n",
       "  <thead>\n",
       "    <tr style=\"text-align: right;\">\n",
       "      <th></th>\n",
       "      <th>전</th>\n",
       "      <th>후</th>\n",
       "      <th>차</th>\n",
       "    </tr>\n",
       "  </thead>\n",
       "  <tbody>\n",
       "    <tr>\n",
       "      <th>0</th>\n",
       "      <td>59</td>\n",
       "      <td>41</td>\n",
       "      <td>-18</td>\n",
       "    </tr>\n",
       "    <tr>\n",
       "      <th>1</th>\n",
       "      <td>52</td>\n",
       "      <td>63</td>\n",
       "      <td>11</td>\n",
       "    </tr>\n",
       "    <tr>\n",
       "      <th>2</th>\n",
       "      <td>55</td>\n",
       "      <td>68</td>\n",
       "      <td>13</td>\n",
       "    </tr>\n",
       "    <tr>\n",
       "      <th>3</th>\n",
       "      <td>61</td>\n",
       "      <td>59</td>\n",
       "      <td>-2</td>\n",
       "    </tr>\n",
       "    <tr>\n",
       "      <th>4</th>\n",
       "      <td>59</td>\n",
       "      <td>84</td>\n",
       "      <td>25</td>\n",
       "    </tr>\n",
       "    <tr>\n",
       "      <th>5</th>\n",
       "      <td>45</td>\n",
       "      <td>37</td>\n",
       "      <td>-8</td>\n",
       "    </tr>\n",
       "    <tr>\n",
       "      <th>6</th>\n",
       "      <td>55</td>\n",
       "      <td>60</td>\n",
       "      <td>5</td>\n",
       "    </tr>\n",
       "    <tr>\n",
       "      <th>7</th>\n",
       "      <td>49</td>\n",
       "      <td>52</td>\n",
       "      <td>3</td>\n",
       "    </tr>\n",
       "    <tr>\n",
       "      <th>8</th>\n",
       "      <td>49</td>\n",
       "      <td>68</td>\n",
       "      <td>19</td>\n",
       "    </tr>\n",
       "    <tr>\n",
       "      <th>9</th>\n",
       "      <td>52</td>\n",
       "      <td>70</td>\n",
       "      <td>18</td>\n",
       "    </tr>\n",
       "    <tr>\n",
       "      <th>10</th>\n",
       "      <td>51</td>\n",
       "      <td>57</td>\n",
       "      <td>6</td>\n",
       "    </tr>\n",
       "    <tr>\n",
       "      <th>11</th>\n",
       "      <td>57</td>\n",
       "      <td>65</td>\n",
       "      <td>8</td>\n",
       "    </tr>\n",
       "    <tr>\n",
       "      <th>12</th>\n",
       "      <td>54</td>\n",
       "      <td>51</td>\n",
       "      <td>-3</td>\n",
       "    </tr>\n",
       "    <tr>\n",
       "      <th>13</th>\n",
       "      <td>51</td>\n",
       "      <td>38</td>\n",
       "      <td>-13</td>\n",
       "    </tr>\n",
       "    <tr>\n",
       "      <th>14</th>\n",
       "      <td>52</td>\n",
       "      <td>54</td>\n",
       "      <td>2</td>\n",
       "    </tr>\n",
       "    <tr>\n",
       "      <th>15</th>\n",
       "      <td>52</td>\n",
       "      <td>58</td>\n",
       "      <td>6</td>\n",
       "    </tr>\n",
       "    <tr>\n",
       "      <th>16</th>\n",
       "      <td>57</td>\n",
       "      <td>73</td>\n",
       "      <td>16</td>\n",
       "    </tr>\n",
       "    <tr>\n",
       "      <th>17</th>\n",
       "      <td>49</td>\n",
       "      <td>65</td>\n",
       "      <td>16</td>\n",
       "    </tr>\n",
       "    <tr>\n",
       "      <th>18</th>\n",
       "      <td>52</td>\n",
       "      <td>54</td>\n",
       "      <td>2</td>\n",
       "    </tr>\n",
       "    <tr>\n",
       "      <th>19</th>\n",
       "      <td>46</td>\n",
       "      <td>48</td>\n",
       "      <td>2</td>\n",
       "    </tr>\n",
       "  </tbody>\n",
       "</table>\n",
       "</div>"
      ],
      "text/plain": [
       "     전   후   차\n",
       "0   59  41 -18\n",
       "1   52  63  11\n",
       "2   55  68  13\n",
       "3   61  59  -2\n",
       "4   59  84  25\n",
       "5   45  37  -8\n",
       "6   55  60   5\n",
       "7   49  52   3\n",
       "8   49  68  19\n",
       "9   52  70  18\n",
       "10  51  57   6\n",
       "11  57  65   8\n",
       "12  54  51  -3\n",
       "13  51  38 -13\n",
       "14  52  54   2\n",
       "15  52  58   6\n",
       "16  57  73  16\n",
       "17  49  65  16\n",
       "18  52  54   2\n",
       "19  46  48   2"
      ]
     },
     "execution_count": 76,
     "metadata": {},
     "output_type": "execute_result"
    }
   ],
   "source": [
    "import pandas as pd\n",
    "\n",
    "training_rel = pd.read_csv('data/ch11_training_rel.csv')\n",
    "training_rel['차'] = training_rel['후'] - training_rel['전']\n",
    "training_rel"
   ]
  },
  {
   "cell_type": "code",
   "execution_count": 79,
   "id": "85a28262-7e38-45e4-8a97-c2ea3161f5cb",
   "metadata": {},
   "outputs": [
    {
     "data": {
      "text/plain": [
       "(2.204, 0.040)"
      ]
     },
     "execution_count": 79,
     "metadata": {},
     "output_type": "execute_result"
    }
   ],
   "source": [
    "t, p = stats.ttest_1samp(training_rel['차'], 0)\n",
    "t, p"
   ]
  },
  {
   "cell_type": "code",
   "execution_count": 81,
   "id": "938adee9-65ad-4750-9175-cb499c4d7093",
   "metadata": {},
   "outputs": [
    {
     "data": {
      "text/plain": [
       "(2.204, 0.040)"
      ]
     },
     "execution_count": 81,
     "metadata": {},
     "output_type": "execute_result"
    }
   ],
   "source": [
    "t, p = stats.ttest_rel(training_rel['후'], training_rel['전'])\n",
    "t, p"
   ]
  },
  {
   "cell_type": "markdown",
   "id": "66de3160-49f9-420c-9c1d-51b201ab12f9",
   "metadata": {},
   "source": [
    "## 보고서 작성\n",
    "- t-통계량 / p-value 값\n",
    "- 전 / 후 시각화 코드\n",
    "- 전 / 후 평균값"
   ]
  },
  {
   "cell_type": "markdown",
   "id": "aa4c4d2d-686e-42d8-ad50-f064fa70ff55",
   "metadata": {},
   "source": [
    "## 독립비교 t-검정\n",
    "- p.318\n",
    "- 학생이 부쩍 늘음\n",
    "  + A 학생 그룹은 인문계열\n",
    "  + B 학생 그룹은 체육계열, 운동을 많이 함\n",
    "- A 그룹, B 그룹 사이에 집중력 테스트 평균에서 차이가 나지 않을까 생각하여 테스트를 함\n",
    "- 이 데이터로부터 어떤 검정을 수행해야 A 학생과 B 학생 학급의 집중력에 유의미한 차이가 있는지 확인\n",
    "- 가설설정\n",
    " + 귀무가설: A 그룹 평균 점수는 B그룹 평균 점수와 같다.\n",
    " + 대립가설: A 그룹 평균 점수는 B그룹 평균 점수와 다르다.\n",
    "\n",
    "- 독립비교 t-검정 두가지 가정\n",
    " + 1) 각 그룹 데이터의 정규성을 검정\n",
    " + 2) 두 그룹의 분산이 같다 (= 등분산성 검정), levene 검정 시행"
   ]
  },
  {
   "cell_type": "code",
   "execution_count": 84,
   "id": "01acc741-a674-4fe3-8c5e-22ab433a7b83",
   "metadata": {},
   "outputs": [
    {
     "data": {
      "text/html": [
       "<div>\n",
       "<style scoped>\n",
       "    .dataframe tbody tr th:only-of-type {\n",
       "        vertical-align: middle;\n",
       "    }\n",
       "\n",
       "    .dataframe tbody tr th {\n",
       "        vertical-align: top;\n",
       "    }\n",
       "\n",
       "    .dataframe thead th {\n",
       "        text-align: right;\n",
       "    }\n",
       "</style>\n",
       "<table border=\"1\" class=\"dataframe\">\n",
       "  <thead>\n",
       "    <tr style=\"text-align: right;\">\n",
       "      <th></th>\n",
       "      <th>A</th>\n",
       "      <th>B</th>\n",
       "    </tr>\n",
       "  </thead>\n",
       "  <tbody>\n",
       "    <tr>\n",
       "      <th>0</th>\n",
       "      <td>47</td>\n",
       "      <td>49</td>\n",
       "    </tr>\n",
       "    <tr>\n",
       "      <th>1</th>\n",
       "      <td>50</td>\n",
       "      <td>52</td>\n",
       "    </tr>\n",
       "    <tr>\n",
       "      <th>2</th>\n",
       "      <td>37</td>\n",
       "      <td>54</td>\n",
       "    </tr>\n",
       "    <tr>\n",
       "      <th>3</th>\n",
       "      <td>60</td>\n",
       "      <td>48</td>\n",
       "    </tr>\n",
       "    <tr>\n",
       "      <th>4</th>\n",
       "      <td>39</td>\n",
       "      <td>51</td>\n",
       "    </tr>\n",
       "  </tbody>\n",
       "</table>\n",
       "</div>"
      ],
      "text/plain": [
       "    A   B\n",
       "0  47  49\n",
       "1  50  52\n",
       "2  37  54\n",
       "3  60  48\n",
       "4  39  51"
      ]
     },
     "execution_count": 84,
     "metadata": {},
     "output_type": "execute_result"
    }
   ],
   "source": [
    "training_ind = pd.read_csv('data/ch11_training_ind.csv')\n",
    "training_ind.head() # training_ind.shape"
   ]
  },
  {
   "cell_type": "code",
   "execution_count": 88,
   "id": "5c01ca62-4950-4b6b-af6b-0b214d29baec",
   "metadata": {},
   "outputs": [
    {
     "data": {
      "text/plain": [
       "(-1.761, 0.086)"
      ]
     },
     "execution_count": 88,
     "metadata": {},
     "output_type": "execute_result"
    }
   ],
   "source": [
    "# p.320\n",
    "t, p = stats.ttest_ind(training_ind['A'], training_ind['B'], equal_var = True) # 등분산성이 같다\n",
    "t, p"
   ]
  },
  {
   "cell_type": "code",
   "execution_count": null,
   "id": "23466d1a-fcac-408e-942c-f73754802cd3",
   "metadata": {},
   "outputs": [],
   "source": [
    "- 결론은 두 그룹의 평균 차이는 없더라, 귀무가설 채택"
   ]
  },
  {
   "cell_type": "code",
   "execution_count": 90,
   "id": "86995880-a465-4ab4-9793-bd6d4af0d08d",
   "metadata": {},
   "outputs": [
    {
     "data": {
      "text/plain": [
       "(-1.761, 0.087)"
      ]
     },
     "execution_count": 90,
     "metadata": {},
     "output_type": "execute_result"
    }
   ],
   "source": [
    "# Levene 검정 이후, 살펴봤더니 등분산성이 다르더라\n",
    "t, p = stats.ttest_ind(training_ind['A'], training_ind['B'], equal_var = False)\n",
    "t, p"
   ]
  },
  {
   "cell_type": "markdown",
   "id": "a641e640-90c3-4b72-a84d-101c084f8387",
   "metadata": {},
   "source": [
    "## 비모수 검정\n",
    "- 모수 검정에서 각 가정을 만족시키지 못할 때, 비모수 검정을 쓰더라"
   ]
  },
  {
   "cell_type": "markdown",
   "id": "3ca7f569-56af-4d9b-ad35-3c55d0ae4f99",
   "metadata": {},
   "source": [
    "### 윌콕슨의 부호순위검정\n",
    "- 대응표본에서 차이에 정규분포를 만족시키지 못할 때\n",
    "  + 평균 차이 (x)\n",
    "  + 중앙값 차이에 대한 검정 (o)\n",
    "  + 중앙값 = 50%에 해당하는 값을 의미"
   ]
  },
  {
   "cell_type": "code",
   "execution_count": 99,
   "id": "8d4d85be-3b53-4fb3-859a-b6dbca02dd55",
   "metadata": {},
   "outputs": [
    {
     "data": {
      "text/html": [
       "<div>\n",
       "<style scoped>\n",
       "    .dataframe tbody tr th:only-of-type {\n",
       "        vertical-align: middle;\n",
       "    }\n",
       "\n",
       "    .dataframe tbody tr th {\n",
       "        vertical-align: top;\n",
       "    }\n",
       "\n",
       "    .dataframe thead th {\n",
       "        text-align: right;\n",
       "    }\n",
       "</style>\n",
       "<table border=\"1\" class=\"dataframe\">\n",
       "  <thead>\n",
       "    <tr style=\"text-align: right;\">\n",
       "      <th></th>\n",
       "      <th>전</th>\n",
       "      <th>후</th>\n",
       "      <th>차</th>\n",
       "    </tr>\n",
       "  </thead>\n",
       "  <tbody>\n",
       "    <tr>\n",
       "      <th>0</th>\n",
       "      <td>59</td>\n",
       "      <td>41</td>\n",
       "      <td>-18</td>\n",
       "    </tr>\n",
       "    <tr>\n",
       "      <th>1</th>\n",
       "      <td>52</td>\n",
       "      <td>63</td>\n",
       "      <td>11</td>\n",
       "    </tr>\n",
       "    <tr>\n",
       "      <th>2</th>\n",
       "      <td>55</td>\n",
       "      <td>68</td>\n",
       "      <td>13</td>\n",
       "    </tr>\n",
       "    <tr>\n",
       "      <th>3</th>\n",
       "      <td>61</td>\n",
       "      <td>59</td>\n",
       "      <td>-2</td>\n",
       "    </tr>\n",
       "    <tr>\n",
       "      <th>4</th>\n",
       "      <td>59</td>\n",
       "      <td>84</td>\n",
       "      <td>25</td>\n",
       "    </tr>\n",
       "    <tr>\n",
       "      <th>5</th>\n",
       "      <td>45</td>\n",
       "      <td>37</td>\n",
       "      <td>-8</td>\n",
       "    </tr>\n",
       "  </tbody>\n",
       "</table>\n",
       "</div>"
      ],
      "text/plain": [
       "    전   후   차\n",
       "0  59  41 -18\n",
       "1  52  63  11\n",
       "2  55  68  13\n",
       "3  61  59  -2\n",
       "4  59  84  25\n",
       "5  45  37  -8"
      ]
     },
     "execution_count": 99,
     "metadata": {},
     "output_type": "execute_result"
    }
   ],
   "source": [
    "training_rel = pd.read_csv('data/ch11_training_rel.csv')\n",
    "toy_df = training_rel[:6].copy()\n",
    "toy_df['차'] = tody_df['후'] - toy_df['전']\n",
    "toy_df"
   ]
  },
  {
   "cell_type": "code",
   "execution_count": 100,
   "id": "202940fb-fce6-4d0b-8d75-b2818dc14ef7",
   "metadata": {},
   "outputs": [
    {
     "data": {
      "text/html": [
       "<div>\n",
       "<style scoped>\n",
       "    .dataframe tbody tr th:only-of-type {\n",
       "        vertical-align: middle;\n",
       "    }\n",
       "\n",
       "    .dataframe tbody tr th {\n",
       "        vertical-align: top;\n",
       "    }\n",
       "\n",
       "    .dataframe thead th {\n",
       "        text-align: right;\n",
       "    }\n",
       "</style>\n",
       "<table border=\"1\" class=\"dataframe\">\n",
       "  <thead>\n",
       "    <tr style=\"text-align: right;\">\n",
       "      <th></th>\n",
       "      <th>전</th>\n",
       "      <th>후</th>\n",
       "      <th>차</th>\n",
       "      <th>순위</th>\n",
       "    </tr>\n",
       "  </thead>\n",
       "  <tbody>\n",
       "    <tr>\n",
       "      <th>0</th>\n",
       "      <td>59</td>\n",
       "      <td>41</td>\n",
       "      <td>-18</td>\n",
       "      <td>5</td>\n",
       "    </tr>\n",
       "    <tr>\n",
       "      <th>1</th>\n",
       "      <td>52</td>\n",
       "      <td>63</td>\n",
       "      <td>11</td>\n",
       "      <td>3</td>\n",
       "    </tr>\n",
       "    <tr>\n",
       "      <th>2</th>\n",
       "      <td>55</td>\n",
       "      <td>68</td>\n",
       "      <td>13</td>\n",
       "      <td>4</td>\n",
       "    </tr>\n",
       "    <tr>\n",
       "      <th>3</th>\n",
       "      <td>61</td>\n",
       "      <td>59</td>\n",
       "      <td>-2</td>\n",
       "      <td>1</td>\n",
       "    </tr>\n",
       "    <tr>\n",
       "      <th>4</th>\n",
       "      <td>59</td>\n",
       "      <td>84</td>\n",
       "      <td>25</td>\n",
       "      <td>6</td>\n",
       "    </tr>\n",
       "    <tr>\n",
       "      <th>5</th>\n",
       "      <td>45</td>\n",
       "      <td>37</td>\n",
       "      <td>-8</td>\n",
       "      <td>2</td>\n",
       "    </tr>\n",
       "  </tbody>\n",
       "</table>\n",
       "</div>"
      ],
      "text/plain": [
       "    전   후   차  순위\n",
       "0  59  41 -18   5\n",
       "1  52  63  11   3\n",
       "2  55  68  13   4\n",
       "3  61  59  -2   1\n",
       "4  59  84  25   6\n",
       "5  45  37  -8   2"
      ]
     },
     "execution_count": 100,
     "metadata": {},
     "output_type": "execute_result"
    }
   ],
   "source": [
    "# 순위 적용\n",
    "diff = toy_df['후'] - toy_df['전']\n",
    "rank = stats.rankdata(abs(diff)).astype(int)\n",
    "toy_df['순위'] = rank\n",
    "toy_df"
   ]
  },
  {
   "cell_type": "code",
   "execution_count": 101,
   "id": "988e6310-4bfb-4125-9ce7-893594426d39",
   "metadata": {},
   "outputs": [
    {
     "data": {
      "text/plain": [
       "(8, 13)"
      ]
     },
     "execution_count": 101,
     "metadata": {},
     "output_type": "execute_result"
    }
   ],
   "source": [
    "import numpy as np\n",
    "\n",
    "r_minus = np.sum((diff < 0) * rank)\n",
    "r_plus = np.sum((diff > 0) * rank)\n",
    "\n",
    "r_minus, r_plus # 검정통계량 8"
   ]
  },
  {
   "cell_type": "code",
   "execution_count": 103,
   "id": "09aab06d-2efd-4469-81da-5c3f09d8bf0c",
   "metadata": {},
   "outputs": [
    {
     "data": {
      "text/plain": [
       "(0, 21)"
      ]
     },
     "execution_count": 103,
     "metadata": {},
     "output_type": "execute_result"
    }
   ],
   "source": [
    "toy_df['후'] = toy_df['전'] + np.arange(1, 7)\n",
    "diff = toy_df['후'] - toy_df['전']\n",
    "rank = stats.rankdata(abs(diff)).astype(int)\n",
    "toy_df['차'] = diff\n",
    "toy_df['순위'] = rank\n",
    "# toy_df\n",
    "\n",
    "r_minus = np.sum((diff < 0) * rank)\n",
    "r_plus = np.sum((diff > 0) * rank)\n",
    "\n",
    "r_minus, r_plus # 검정통계량 8"
   ]
  },
  {
   "cell_type": "code",
   "execution_count": 105,
   "id": "34a00e84-9b02-4116-bac1-75e2ef95e225",
   "metadata": {},
   "outputs": [
    {
     "data": {
      "text/html": [
       "<div>\n",
       "<style scoped>\n",
       "    .dataframe tbody tr th:only-of-type {\n",
       "        vertical-align: middle;\n",
       "    }\n",
       "\n",
       "    .dataframe tbody tr th {\n",
       "        vertical-align: top;\n",
       "    }\n",
       "\n",
       "    .dataframe thead th {\n",
       "        text-align: right;\n",
       "    }\n",
       "</style>\n",
       "<table border=\"1\" class=\"dataframe\">\n",
       "  <thead>\n",
       "    <tr style=\"text-align: right;\">\n",
       "      <th></th>\n",
       "      <th>전</th>\n",
       "      <th>후</th>\n",
       "      <th>차</th>\n",
       "      <th>순위</th>\n",
       "    </tr>\n",
       "  </thead>\n",
       "  <tbody>\n",
       "    <tr>\n",
       "      <th>0</th>\n",
       "      <td>59</td>\n",
       "      <td>60</td>\n",
       "      <td>1</td>\n",
       "      <td>1</td>\n",
       "    </tr>\n",
       "    <tr>\n",
       "      <th>1</th>\n",
       "      <td>52</td>\n",
       "      <td>50</td>\n",
       "      <td>-2</td>\n",
       "      <td>2</td>\n",
       "    </tr>\n",
       "    <tr>\n",
       "      <th>2</th>\n",
       "      <td>55</td>\n",
       "      <td>52</td>\n",
       "      <td>-3</td>\n",
       "      <td>3</td>\n",
       "    </tr>\n",
       "    <tr>\n",
       "      <th>3</th>\n",
       "      <td>61</td>\n",
       "      <td>65</td>\n",
       "      <td>4</td>\n",
       "      <td>4</td>\n",
       "    </tr>\n",
       "    <tr>\n",
       "      <th>4</th>\n",
       "      <td>59</td>\n",
       "      <td>64</td>\n",
       "      <td>5</td>\n",
       "      <td>5</td>\n",
       "    </tr>\n",
       "    <tr>\n",
       "      <th>5</th>\n",
       "      <td>45</td>\n",
       "      <td>39</td>\n",
       "      <td>-6</td>\n",
       "      <td>6</td>\n",
       "    </tr>\n",
       "  </tbody>\n",
       "</table>\n",
       "</div>"
      ],
      "text/plain": [
       "    전   후  차  순위\n",
       "0  59  60  1   1\n",
       "1  52  50 -2   2\n",
       "2  55  52 -3   3\n",
       "3  61  65  4   4\n",
       "4  59  64  5   5\n",
       "5  45  39 -6   6"
      ]
     },
     "execution_count": 105,
     "metadata": {},
     "output_type": "execute_result"
    }
   ],
   "source": [
    "toy_df['후'] = toy_df['전'] + [1, -2, -3, 4, 5, -6]\n",
    "diff = toy_df['후'] - toy_df['전']\n",
    "rank = stats.rankdata(abs(diff)).astype(int)\n",
    "toy_df['차'] = diff\n",
    "toy_df['순위'] = rank\n",
    "toy_df"
   ]
  },
  {
   "cell_type": "code",
   "execution_count": 106,
   "id": "08114fb3-102b-41f0-9084-16a59b71ad5b",
   "metadata": {},
   "outputs": [
    {
     "data": {
      "text/plain": [
       "(11, 10)"
      ]
     },
     "execution_count": 106,
     "metadata": {},
     "output_type": "execute_result"
    }
   ],
   "source": [
    "r_minus = np.sum((diff < 0) * rank)\n",
    "r_plus = np.sum((diff > 0) * rank)\n",
    "\n",
    "r_minus, r_plus # 검정통계량 10"
   ]
  }
 ],
 "metadata": {
  "kernelspec": {
   "display_name": "Python 3 (ipykernel)",
   "language": "python",
   "name": "python3"
  },
  "language_info": {
   "codemirror_mode": {
    "name": "ipython",
    "version": 3
   },
   "file_extension": ".py",
   "mimetype": "text/x-python",
   "name": "python",
   "nbconvert_exporter": "python",
   "pygments_lexer": "ipython3",
   "version": "3.11.5"
  }
 },
 "nbformat": 4,
 "nbformat_minor": 5
}

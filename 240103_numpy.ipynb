{
  "cells": [
    {
      "cell_type": "markdown",
      "metadata": {
        "id": "view-in-github",
        "colab_type": "text"
      },
      "source": [
        "<a href=\"https://colab.research.google.com/github/hyelin606/mulcamp34/blob/main/240103_numpy.ipynb\" target=\"_parent\"><img src=\"https://colab.research.google.com/assets/colab-badge.svg\" alt=\"Open In Colab\"/></a>"
      ]
    },
    {
      "cell_type": "markdown",
      "id": "3edcb0b1-7d41-45a4-a4cc-b66802fc310a",
      "metadata": {
        "id": "3edcb0b1-7d41-45a4-a4cc-b66802fc310a"
      },
      "source": [
        "## Numpy\n",
        "- 선형대수, 행렬 수치연산과 관련된 라이브러리리"
      ]
    },
    {
      "cell_type": "code",
      "execution_count": null,
      "id": "ef342adb-365d-4a00-8ccc-b9e82b96bc27",
      "metadata": {
        "tags": [],
        "id": "ef342adb-365d-4a00-8ccc-b9e82b96bc27",
        "outputId": "961e917a-ccc0-4b1c-f58d-32fe15a6d5a8"
      },
      "outputs": [
        {
          "name": "stdout",
          "output_type": "stream",
          "text": [
            "Requirement already satisfied: numpy in c:\\users\\imhye\\anaconda3\\lib\\site-packages (1.24.3)Note: you may need to restart the kernel to use updated packages.\n",
            "\n"
          ]
        }
      ],
      "source": [
        "pip install numpy"
      ]
    },
    {
      "cell_type": "code",
      "execution_count": null,
      "id": "d6c8af23-dd36-40b4-aa2d-14bc4f13f691",
      "metadata": {
        "tags": [],
        "id": "d6c8af23-dd36-40b4-aa2d-14bc4f13f691",
        "outputId": "0393449e-5275-49c8-8920-2e5443ee9a58"
      },
      "outputs": [
        {
          "name": "stdout",
          "output_type": "stream",
          "text": [
            "1.29.0\n"
          ]
        }
      ],
      "source": [
        "import streamlit as st\n",
        "\n",
        "print(st.__version__)"
      ]
    },
    {
      "cell_type": "code",
      "execution_count": null,
      "id": "a57038b9-a9ee-4504-81eb-e8a685d9e4c2",
      "metadata": {
        "tags": [],
        "id": "a57038b9-a9ee-4504-81eb-e8a685d9e4c2",
        "outputId": "47c1c06c-f460-4b36-b11a-3d43e3664767",
        "colab": {
          "base_uri": "https://localhost:8080/"
        }
      },
      "outputs": [
        {
          "output_type": "stream",
          "name": "stdout",
          "text": [
            "1.23.5\n"
          ]
        }
      ],
      "source": [
        "import numpy as np # Numpy 라이브러리 불러오기\n",
        "\n",
        "print(np.__version__)"
      ]
    },
    {
      "cell_type": "code",
      "execution_count": null,
      "id": "6b535cb6-3529-4fa5-9c28-3997afa70f14",
      "metadata": {
        "tags": [],
        "id": "6b535cb6-3529-4fa5-9c28-3997afa70f14",
        "outputId": "82870ac4-3517-4cd5-bedb-006855ed4738"
      },
      "outputs": [
        {
          "data": {
            "text/plain": [
              "[1, 2, 3, 4, 3, 4, 5, 6]"
            ]
          },
          "execution_count": 5,
          "metadata": {},
          "output_type": "execute_result"
        }
      ],
      "source": [
        "num1 = [1, 2, 3, 4]\n",
        "num2 = [3, 4, 5, 6]\n",
        "\n",
        "num1 + num2"
      ]
    },
    {
      "cell_type": "code",
      "execution_count": null,
      "id": "3936d795-a9ba-43fb-a614-d6a3ad6185f9",
      "metadata": {
        "tags": [],
        "id": "3936d795-a9ba-43fb-a614-d6a3ad6185f9"
      },
      "outputs": [],
      "source": [
        "arr1 = np.array(num1)\n",
        "arr2 = np.array(num2)"
      ]
    },
    {
      "cell_type": "code",
      "execution_count": null,
      "id": "6f4ed06b-e26b-406e-b5d7-a71098c11a5b",
      "metadata": {
        "tags": [],
        "id": "6f4ed06b-e26b-406e-b5d7-a71098c11a5b",
        "outputId": "d8f5d824-48e9-4c78-9860-68da84793197"
      },
      "outputs": [
        {
          "data": {
            "text/plain": [
              "array([1, 2, 3, 4])"
            ]
          },
          "execution_count": 7,
          "metadata": {},
          "output_type": "execute_result"
        }
      ],
      "source": [
        "arr1"
      ]
    },
    {
      "cell_type": "code",
      "execution_count": null,
      "id": "94aed26d-ff4c-4305-adf4-a2fa3875849d",
      "metadata": {
        "tags": [],
        "id": "94aed26d-ff4c-4305-adf4-a2fa3875849d",
        "outputId": "ea249789-bbce-4904-e2b7-e658868b9978"
      },
      "outputs": [
        {
          "data": {
            "text/plain": [
              "array([3, 4, 5, 6])"
            ]
          },
          "execution_count": 8,
          "metadata": {},
          "output_type": "execute_result"
        }
      ],
      "source": [
        "arr2"
      ]
    },
    {
      "cell_type": "code",
      "execution_count": null,
      "id": "ff1fef13-7022-42ac-a69c-5d5eb72a5078",
      "metadata": {
        "tags": [],
        "id": "ff1fef13-7022-42ac-a69c-5d5eb72a5078",
        "outputId": "b282f02e-443d-4400-f07f-4c3f9900300b"
      },
      "outputs": [
        {
          "data": {
            "text/plain": [
              "array([ 4,  6,  8, 10])"
            ]
          },
          "execution_count": 9,
          "metadata": {},
          "output_type": "execute_result"
        }
      ],
      "source": [
        "arr1 + arr2"
      ]
    },
    {
      "cell_type": "code",
      "execution_count": null,
      "id": "0c09a8a2-438e-4a6a-9c70-cd7ad748c81a",
      "metadata": {
        "tags": [],
        "id": "0c09a8a2-438e-4a6a-9c70-cd7ad748c81a",
        "outputId": "ebc8083a-5139-47fc-b26a-874082d1d737"
      },
      "outputs": [
        {
          "data": {
            "text/plain": [
              "array([0, 1, 2, 3, 4, 5])"
            ]
          },
          "execution_count": 10,
          "metadata": {},
          "output_type": "execute_result"
        }
      ],
      "source": [
        "data1 = [0, 1, 2, 3, 4, 5]\n",
        "a1 = np.array(data1)\n",
        "a1"
      ]
    },
    {
      "cell_type": "code",
      "execution_count": null,
      "id": "61d130b6-4e3a-4d3c-80da-0cdeae2a1e30",
      "metadata": {
        "tags": [],
        "id": "61d130b6-4e3a-4d3c-80da-0cdeae2a1e30",
        "outputId": "7ed1ea97-2476-4fe9-e78f-18e4fdb97dd9"
      },
      "outputs": [
        {
          "data": {
            "text/plain": [
              "dtype('int32')"
            ]
          },
          "execution_count": 13,
          "metadata": {},
          "output_type": "execute_result"
        }
      ],
      "source": [
        "a1.dtype # Python int # Numpy int8, int16, int 32, int64"
      ]
    },
    {
      "cell_type": "code",
      "execution_count": null,
      "id": "819d8ed9-5f03-4f97-b805-c157757a073f",
      "metadata": {
        "tags": [],
        "id": "819d8ed9-5f03-4f97-b805-c157757a073f",
        "outputId": "bc80a4e2-79b2-449e-89b4-d436160aa920"
      },
      "outputs": [
        {
          "data": {
            "text/plain": [
              "dtype('float64')"
            ]
          },
          "execution_count": 17,
          "metadata": {},
          "output_type": "execute_result"
        }
      ],
      "source": [
        "np.array([0.5, 2, 0.01, 8]).dtype"
      ]
    },
    {
      "cell_type": "code",
      "execution_count": null,
      "id": "c8120101-bf65-4d00-9b65-bbd14ee844a9",
      "metadata": {
        "tags": [],
        "id": "c8120101-bf65-4d00-9b65-bbd14ee844a9",
        "outputId": "e98adfeb-475f-4b38-eecb-7e447583c3b6"
      },
      "outputs": [
        {
          "data": {
            "text/plain": [
              "array([0, 2, 4, 6, 8])"
            ]
          },
          "execution_count": 20,
          "metadata": {},
          "output_type": "execute_result"
        }
      ],
      "source": [
        "np.arange(0, 10, 2)"
      ]
    },
    {
      "cell_type": "code",
      "execution_count": null,
      "id": "1c524d66-0294-464a-8dc3-5b24b763be9d",
      "metadata": {
        "tags": [],
        "id": "1c524d66-0294-464a-8dc3-5b24b763be9d",
        "outputId": "6bd11140-32e0-4c4b-ae6b-e536805f4d3b"
      },
      "outputs": [
        {
          "data": {
            "text/plain": [
              "array([1, 2, 3, 4, 5, 6, 7, 8, 9])"
            ]
          },
          "execution_count": 23,
          "metadata": {},
          "output_type": "execute_result"
        }
      ],
      "source": [
        "np.arange(1, 10)"
      ]
    },
    {
      "cell_type": "code",
      "execution_count": null,
      "id": "4b30513f-7b4c-4903-95f0-b02d4ba9b914",
      "metadata": {
        "tags": [],
        "id": "4b30513f-7b4c-4903-95f0-b02d4ba9b914",
        "outputId": "1c84ae60-f011-4e64-9176-4c2d94b3e96d"
      },
      "outputs": [
        {
          "data": {
            "text/plain": [
              "array([0, 1, 2, 3, 4, 5, 6, 7, 8, 9])"
            ]
          },
          "execution_count": 24,
          "metadata": {},
          "output_type": "execute_result"
        }
      ],
      "source": [
        "np.arange(10) # 1차원 배열, 2차원 또는 3차원으로 변경"
      ]
    },
    {
      "cell_type": "code",
      "execution_count": null,
      "id": "c8114d11-3e01-4171-acd2-d50022b817c2",
      "metadata": {
        "tags": [],
        "id": "c8114d11-3e01-4171-acd2-d50022b817c2",
        "outputId": "2678e540-8a37-4a6e-c124-52b317a8a003"
      },
      "outputs": [
        {
          "data": {
            "text/plain": [
              "array([[ 0,  1,  2],\n",
              "       [ 3,  4,  5],\n",
              "       [ 6,  7,  8],\n",
              "       [ 9, 10, 11]])"
            ]
          },
          "execution_count": 27,
          "metadata": {},
          "output_type": "execute_result"
        }
      ],
      "source": [
        "np.arange(12).reshape(4,3)"
      ]
    },
    {
      "cell_type": "code",
      "execution_count": null,
      "id": "65438286-43d9-4cb3-8261-284853e11d05",
      "metadata": {
        "tags": [],
        "id": "65438286-43d9-4cb3-8261-284853e11d05",
        "outputId": "8a555128-076d-4d3d-d3ac-c00e3de9b94f",
        "colab": {
          "base_uri": "https://localhost:8080/"
        }
      },
      "outputs": [
        {
          "output_type": "execute_result",
          "data": {
            "text/plain": [
              "array([[[ 0,  1,  2,  3],\n",
              "        [ 4,  5,  6,  7]],\n",
              "\n",
              "       [[ 8,  9, 10, 11],\n",
              "        [12, 13, 14, 15]],\n",
              "\n",
              "       [[16, 17, 18, 19],\n",
              "        [20, 21, 22, 23]]])"
            ]
          },
          "metadata": {},
          "execution_count": 4
        }
      ],
      "source": [
        "np.arange(24).reshape(3, 2, 4)"
      ]
    },
    {
      "cell_type": "code",
      "execution_count": null,
      "id": "cab6ef20-111b-4917-8114-791ced9e0d45",
      "metadata": {
        "tags": [],
        "id": "cab6ef20-111b-4917-8114-791ced9e0d45",
        "outputId": "44d66492-558a-41b6-c70a-0c43bf434ede"
      },
      "outputs": [
        {
          "data": {
            "text/plain": [
              "array([ 0,  1,  2,  3,  4,  5,  6,  7,  8,  9, 10, 11])"
            ]
          },
          "execution_count": 25,
          "metadata": {},
          "output_type": "execute_result"
        }
      ],
      "source": [
        "np.arange(12)"
      ]
    },
    {
      "cell_type": "code",
      "execution_count": null,
      "id": "267c40c3-71ff-479d-ab3a-eb7263435fd7",
      "metadata": {
        "tags": [],
        "id": "267c40c3-71ff-479d-ab3a-eb7263435fd7",
        "outputId": "87038629-2d32-46d5-d783-39bdbd965139"
      },
      "outputs": [
        {
          "data": {
            "text/plain": [
              "(4, 3)"
            ]
          },
          "execution_count": 35,
          "metadata": {},
          "output_type": "execute_result"
        }
      ],
      "source": [
        "b1 = np.arange(12).reshape(4, 3)\n",
        "b1.shape"
      ]
    },
    {
      "cell_type": "code",
      "execution_count": null,
      "id": "11053611-f92d-4801-ac3e-c663beab2c6a",
      "metadata": {
        "tags": [],
        "id": "11053611-f92d-4801-ac3e-c663beab2c6a",
        "outputId": "5e744a98-3082-4b6c-820d-21a6bf28412f"
      },
      "outputs": [
        {
          "data": {
            "text/plain": [
              "(5,)"
            ]
          },
          "execution_count": 36,
          "metadata": {},
          "output_type": "execute_result"
        }
      ],
      "source": [
        "b2 = np.arange(5)\n",
        "b2.shape"
      ]
    },
    {
      "cell_type": "code",
      "execution_count": null,
      "id": "a546b8e2-b174-40f1-89e1-c7092ee158d9",
      "metadata": {
        "tags": [],
        "id": "a546b8e2-b174-40f1-89e1-c7092ee158d9",
        "outputId": "f0b7bb17-0d6d-4860-b062-02c5806b46a3"
      },
      "outputs": [
        {
          "data": {
            "text/plain": [
              "array([ 3.  ,  4.75,  6.5 ,  8.25, 10.  ])"
            ]
          },
          "execution_count": 39,
          "metadata": {},
          "output_type": "execute_result"
        }
      ],
      "source": [
        "# 범위의 시작과 끝 정하기 배열 생성\n",
        "np.linspace(3, 10, 5)"
      ]
    },
    {
      "cell_type": "code",
      "execution_count": null,
      "id": "c4dba843-9573-4fc9-b737-0e4c9de650d9",
      "metadata": {
        "tags": [],
        "id": "c4dba843-9573-4fc9-b737-0e4c9de650d9",
        "outputId": "6f5ee870-c052-4abe-cd3f-a07003a0a18a"
      },
      "outputs": [
        {
          "data": {
            "text/plain": [
              "array([0.        , 0.16534698, 0.33069396, 0.49604095, 0.66138793,\n",
              "       0.82673491, 0.99208189, 1.15742887, 1.32277585, 1.48812284,\n",
              "       1.65346982, 1.8188168 , 1.98416378, 2.14951076, 2.31485774,\n",
              "       2.48020473, 2.64555171, 2.81089869, 2.97624567, 3.14159265])"
            ]
          },
          "execution_count": 41,
          "metadata": {},
          "output_type": "execute_result"
        }
      ],
      "source": [
        "np.linspace(0, np.pi, 20)"
      ]
    },
    {
      "cell_type": "code",
      "execution_count": null,
      "id": "666e8e79-0fbe-45a6-a92c-08f7311e0c80",
      "metadata": {
        "tags": [],
        "id": "666e8e79-0fbe-45a6-a92c-08f7311e0c80",
        "outputId": "2de88acb-8fcb-48de-af64-f159a4744cf9"
      },
      "outputs": [
        {
          "data": {
            "text/plain": [
              "array([0., 0., 0., 0., 0., 0., 0., 0., 0., 0.])"
            ]
          },
          "execution_count": 43,
          "metadata": {},
          "output_type": "execute_result"
        }
      ],
      "source": [
        "np.zeros(10)"
      ]
    },
    {
      "cell_type": "code",
      "execution_count": null,
      "id": "4318b2ac-0353-4505-b085-1c82ce0372f1",
      "metadata": {
        "tags": [],
        "id": "4318b2ac-0353-4505-b085-1c82ce0372f1",
        "outputId": "eef70eca-31a6-4f69-e506-f8a0404e58bb"
      },
      "outputs": [
        {
          "data": {
            "text/plain": [
              "array([[0., 0.],\n",
              "       [0., 0.]])"
            ]
          },
          "execution_count": 45,
          "metadata": {},
          "output_type": "execute_result"
        }
      ],
      "source": [
        "np.zeros((2, 2))"
      ]
    },
    {
      "cell_type": "code",
      "execution_count": null,
      "id": "3703a3dd-ed33-4157-b65c-f22d755cf9c0",
      "metadata": {
        "tags": [],
        "id": "3703a3dd-ed33-4157-b65c-f22d755cf9c0",
        "outputId": "cfe6a958-e29f-478d-8f8e-6e70d6cb7650"
      },
      "outputs": [
        {
          "data": {
            "text/plain": [
              "array([1., 1., 1., 1., 1., 1., 1., 1., 1., 1.])"
            ]
          },
          "execution_count": 47,
          "metadata": {},
          "output_type": "execute_result"
        }
      ],
      "source": [
        "np.ones(10)"
      ]
    },
    {
      "cell_type": "code",
      "execution_count": null,
      "id": "db371398-6425-41b5-979b-d7d92269cc2a",
      "metadata": {
        "tags": [],
        "id": "db371398-6425-41b5-979b-d7d92269cc2a",
        "outputId": "2f8fc83d-f183-4f52-feb3-ea8c50a96eed"
      },
      "outputs": [
        {
          "data": {
            "text/plain": [
              "array([[1., 1.],\n",
              "       [1., 1.]])"
            ]
          },
          "execution_count": 49,
          "metadata": {},
          "output_type": "execute_result"
        }
      ],
      "source": [
        "np.ones((2, 2))"
      ]
    },
    {
      "cell_type": "code",
      "execution_count": null,
      "id": "0a59ddfc-8128-4ae3-8e58-7e5f5a270f77",
      "metadata": {
        "tags": [],
        "id": "0a59ddfc-8128-4ae3-8e58-7e5f5a270f77",
        "outputId": "062d9478-aea8-4843-914d-3348da4125e9"
      },
      "outputs": [
        {
          "data": {
            "text/plain": [
              "array([[1., 0., 0.],\n",
              "       [0., 1., 0.],\n",
              "       [0., 0., 1.]])"
            ]
          },
          "execution_count": 51,
          "metadata": {},
          "output_type": "execute_result"
        }
      ],
      "source": [
        "# 단위행렬\n",
        "arr_I = np.eye(3)\n",
        "arr_I"
      ]
    },
    {
      "cell_type": "code",
      "execution_count": null,
      "id": "f3d78dd1-3b8b-4a14-9411-a6d9fc09aaad",
      "metadata": {
        "tags": [],
        "id": "f3d78dd1-3b8b-4a14-9411-a6d9fc09aaad",
        "outputId": "8b5d99b5-528b-43f0-f825-0df83d3c56b7"
      },
      "outputs": [
        {
          "data": {
            "text/plain": [
              "(3, 3)"
            ]
          },
          "execution_count": 53,
          "metadata": {},
          "output_type": "execute_result"
        }
      ],
      "source": [
        "arr_I.shape"
      ]
    },
    {
      "cell_type": "code",
      "execution_count": null,
      "id": "19c961e6-99db-49ed-ae97-f37a5142f229",
      "metadata": {
        "tags": [],
        "id": "19c961e6-99db-49ed-ae97-f37a5142f229",
        "outputId": "c4e86883-92a7-4ec4-90b5-37f907a94824"
      },
      "outputs": [
        {
          "data": {
            "text/plain": [
              "array(['1.5', '0.62'], dtype='<U4')"
            ]
          },
          "execution_count": 56,
          "metadata": {},
          "output_type": "execute_result"
        }
      ],
      "source": [
        "np.array(['1.5', '0.62']) # 데이터 형변환"
      ]
    },
    {
      "cell_type": "code",
      "execution_count": null,
      "id": "96fbe885-a783-4127-8b49-2420aa0e98aa",
      "metadata": {
        "tags": [],
        "id": "96fbe885-a783-4127-8b49-2420aa0e98aa",
        "outputId": "342a4895-f997-4b57-d728-105e7dbd1bd5"
      },
      "outputs": [
        {
          "data": {
            "text/plain": [
              "dtype('float64')"
            ]
          },
          "execution_count": 60,
          "metadata": {},
          "output_type": "execute_result"
        }
      ],
      "source": [
        "# astype() # pandas에서도 사용 가능\n",
        "arr = np.array(['1.5', '0.62'])\n",
        "num_arr = arr.astype(float)\n",
        "num_arr.dtype"
      ]
    },
    {
      "cell_type": "code",
      "execution_count": null,
      "id": "f3833999-4120-446a-a90d-63dece297762",
      "metadata": {
        "tags": [],
        "id": "f3833999-4120-446a-a90d-63dece297762",
        "outputId": "df049016-6cdf-4030-da15-f864d0ab593c"
      },
      "outputs": [
        {
          "data": {
            "text/plain": [
              "array([10, 21,  0,  4,  5])"
            ]
          },
          "execution_count": 62,
          "metadata": {},
          "output_type": "execute_result"
        }
      ],
      "source": [
        "num_f1 = np.array([10, 21, 0.549, 4.75, 5.98])\n",
        "num_f1 = num_f1.astype(int)\n",
        "num_f1"
      ]
    },
    {
      "cell_type": "code",
      "execution_count": null,
      "id": "1ea29b1a-8f69-45de-a4b7-13e79ee97248",
      "metadata": {
        "tags": [],
        "id": "1ea29b1a-8f69-45de-a4b7-13e79ee97248",
        "outputId": "7a3f65d5-ddef-43dd-dbd5-0ced60c83ef6"
      },
      "outputs": [
        {
          "data": {
            "text/plain": [
              "array([10.   , 21.   ,  0.549,  4.75 ,  5.98 ])"
            ]
          },
          "execution_count": 64,
          "metadata": {},
          "output_type": "execute_result"
        }
      ],
      "source": [
        "num_f1 = np.array([10, 21, 0.549, 4.75, 5.98])\n",
        "num_f1 = num_f1.astype(float)\n",
        "num_f1"
      ]
    },
    {
      "cell_type": "code",
      "execution_count": null,
      "id": "fec09e7b-6404-482c-bddc-c658c4dd0989",
      "metadata": {
        "tags": [],
        "id": "fec09e7b-6404-482c-bddc-c658c4dd0989",
        "outputId": "166521d9-5c29-4143-94c5-093c2c19bc3c"
      },
      "outputs": [
        {
          "data": {
            "text/plain": [
              "array([[0.47292595, 0.57392055, 0.57216566],\n",
              "       [0.07749174, 0.95906272, 0.18439392]])"
            ]
          },
          "execution_count": 66,
          "metadata": {},
          "output_type": "execute_result"
        }
      ],
      "source": [
        "# p. 224\n",
        "# 난수란 무작위로 추출한 수를 의미함\n",
        "\n",
        "np.random.rand(2, 3) # 2x3 배열로 생성 # rand는 0~1 사이의 실수 난수를 갖음"
      ]
    },
    {
      "cell_type": "code",
      "execution_count": null,
      "id": "0fbaed45-dd86-4660-b559-aa72f8716692",
      "metadata": {
        "tags": [],
        "id": "0fbaed45-dd86-4660-b559-aa72f8716692",
        "outputId": "f70a3dbd-c7b1-4faf-8a35-f7218843e799"
      },
      "outputs": [
        {
          "data": {
            "text/plain": [
              "array([25, 11, 40, 18, 25,  2, 29, 56, 72, 56])"
            ]
          },
          "execution_count": 69,
          "metadata": {},
          "output_type": "execute_result"
        }
      ],
      "source": [
        "np.random.randint(1, 100, 10) # randit는 1과 100사이의 정수 10개 추출로 설정했음"
      ]
    },
    {
      "cell_type": "code",
      "execution_count": null,
      "id": "bcb938c5-a9a5-480c-8ba2-573231a4cb80",
      "metadata": {
        "tags": [],
        "id": "bcb938c5-a9a5-480c-8ba2-573231a4cb80",
        "outputId": "0ece388d-b2a2-42e1-d27e-1bdcec53dd9c"
      },
      "outputs": [
        {
          "name": "stdout",
          "output_type": "stream",
          "text": [
            "로또번호: [35, 18, 39, 45, 11, 44]\n"
          ]
        }
      ],
      "source": [
        "# 로또번호 생성하기\n",
        "import random\n",
        "\n",
        "lotto = random.sample(range(1, 46), 6)\n",
        "print(\"로또번호: {}\".format(lotto)) # print(\"로또번호는 :\", lotto,\"입니다\")"
      ]
    },
    {
      "cell_type": "markdown",
      "id": "194976db-6268-463e-95c4-b7f3a12c1a44",
      "metadata": {
        "id": "194976db-6268-463e-95c4-b7f3a12c1a44"
      },
      "source": [
        "## 배열의 연산\n",
        "- p.225"
      ]
    },
    {
      "cell_type": "code",
      "execution_count": null,
      "id": "48c27f0f-640b-443a-b8a7-d37b719eb67a",
      "metadata": {
        "tags": [],
        "id": "48c27f0f-640b-443a-b8a7-d37b719eb67a",
        "outputId": "88e625c2-90e0-453e-fe88-5d250da720a4"
      },
      "outputs": [
        {
          "name": "stdout",
          "output_type": "stream",
          "text": [
            "[11 22 33 44]\n",
            "[ 9 18 27 36]\n",
            "[ 10  40  90 160]\n",
            "[10. 10. 10. 10.]\n"
          ]
        }
      ],
      "source": [
        "arr1 = np.array([10, 20, 30, 40])\n",
        "arr2 = np.array([1, 2, 3, 4])\n",
        "\n",
        "print(arr1 + arr2)\n",
        "print(arr1 - arr2)\n",
        "print(arr1 * arr2)\n",
        "print(arr1 / arr2)"
      ]
    },
    {
      "cell_type": "markdown",
      "id": "faaed0d6-93b3-4475-a682-8ad19cf0c519",
      "metadata": {
        "id": "faaed0d6-93b3-4475-a682-8ad19cf0c519"
      },
      "source": [
        "## 비교연산"
      ]
    },
    {
      "cell_type": "code",
      "execution_count": null,
      "id": "8ed35268-e417-47b3-96de-5224114b7270",
      "metadata": {
        "tags": [],
        "id": "8ed35268-e417-47b3-96de-5224114b7270",
        "outputId": "86e803e9-8f8b-41bc-d135-9d9df1fe86af"
      },
      "outputs": [
        {
          "data": {
            "text/plain": [
              "array([False, False,  True,  True])"
            ]
          },
          "execution_count": 122,
          "metadata": {},
          "output_type": "execute_result"
        }
      ],
      "source": [
        "arr1 > 20"
      ]
    },
    {
      "cell_type": "markdown",
      "id": "49e5ad46-bd62-42b4-9a89-89160ba98fb5",
      "metadata": {
        "id": "49e5ad46-bd62-42b4-9a89-89160ba98fb5"
      },
      "source": [
        "## 통계 연산\n",
        "- Numpy, 합, 평균, 표준편차, 최솟값, 최댓값, 누적합, 누적곱 메서드가 존재한다.\n",
        " +기술통계량 (Descriptive Statistics) : 현재 데이터 상태를 표현(묘사)한다.\n",
        "- 통계 : 평균이 전부다! (Mean is everything)"
      ]
    },
    {
      "cell_type": "code",
      "execution_count": null,
      "id": "cbc31d88-a1d3-4178-8faf-0830751e2f15",
      "metadata": {
        "tags": [],
        "id": "cbc31d88-a1d3-4178-8faf-0830751e2f15",
        "outputId": "0715ac58-8967-4d67-ef13-ca4d5c30cf8e"
      },
      "outputs": [
        {
          "data": {
            "text/plain": [
              "array(['1.5', '0.62'], dtype='<U4')"
            ]
          },
          "execution_count": 134,
          "metadata": {},
          "output_type": "execute_result"
        }
      ],
      "source": [
        "arr3 = np.arange(5)\n",
        "arr"
      ]
    },
    {
      "cell_type": "code",
      "execution_count": null,
      "id": "c1112d3d-40ba-402d-9970-ae8328851000",
      "metadata": {
        "tags": [],
        "id": "c1112d3d-40ba-402d-9970-ae8328851000",
        "outputId": "b326874b-8af9-49ed-aecf-33e397533ea3"
      },
      "outputs": [
        {
          "data": {
            "text/plain": [
              "10"
            ]
          },
          "execution_count": 126,
          "metadata": {},
          "output_type": "execute_result"
        }
      ],
      "source": [
        "arr3.sum() # 합"
      ]
    },
    {
      "cell_type": "code",
      "execution_count": null,
      "id": "0d7b45e3-6487-479c-8642-c1910474995e",
      "metadata": {
        "tags": [],
        "id": "0d7b45e3-6487-479c-8642-c1910474995e",
        "outputId": "28fe07dc-fb1c-4d66-c315-0e49395f2bb3"
      },
      "outputs": [
        {
          "data": {
            "text/plain": [
              "2.0"
            ]
          },
          "execution_count": 129,
          "metadata": {},
          "output_type": "execute_result"
        }
      ],
      "source": [
        "arr3.mean() # 평균"
      ]
    },
    {
      "cell_type": "code",
      "execution_count": null,
      "id": "bf45b81d-58ca-4e27-b2b1-c54bcc299677",
      "metadata": {
        "tags": [],
        "id": "bf45b81d-58ca-4e27-b2b1-c54bcc299677",
        "outputId": "0554fc48-ee91-4092-e39e-b36f2d79006c"
      },
      "outputs": [
        {
          "data": {
            "text/plain": [
              "2.0"
            ]
          },
          "execution_count": 132,
          "metadata": {},
          "output_type": "execute_result"
        }
      ],
      "source": [
        "arr3.var() # 분산"
      ]
    },
    {
      "cell_type": "code",
      "execution_count": null,
      "id": "fb064757-0995-46f9-a069-ee98d9550c43",
      "metadata": {
        "tags": [],
        "id": "fb064757-0995-46f9-a069-ee98d9550c43",
        "outputId": "70eb5e5b-744e-48eb-dc71-66bcc5f09f9d"
      },
      "outputs": [
        {
          "data": {
            "text/plain": [
              "1.4142135623730951"
            ]
          },
          "execution_count": 131,
          "metadata": {},
          "output_type": "execute_result"
        }
      ],
      "source": [
        "arr3.std() # 표준편차"
      ]
    },
    {
      "cell_type": "markdown",
      "id": "7669c491-cafb-4bfe-84d5-e5b32095f31c",
      "metadata": {
        "id": "7669c491-cafb-4bfe-84d5-e5b32095f31c"
      },
      "source": [
        "## 누적합과 누적곱\n",
        "- cumsum(): 누적합\n",
        "- cumprod(): 누적곱"
      ]
    },
    {
      "cell_type": "code",
      "execution_count": null,
      "id": "207c71de-c579-4e0f-9233-087f6a6c7792",
      "metadata": {
        "tags": [],
        "id": "207c71de-c579-4e0f-9233-087f6a6c7792",
        "outputId": "fa3ad7d8-b0eb-451c-9257-bd58ee62a989"
      },
      "outputs": [
        {
          "data": {
            "text/plain": [
              "array([0, 1, 2, 3, 4])"
            ]
          },
          "execution_count": 136,
          "metadata": {},
          "output_type": "execute_result"
        }
      ],
      "source": [
        "arr = np.arange(1, 5)\n",
        "arr4"
      ]
    },
    {
      "cell_type": "markdown",
      "id": "d48f5a1d-1774-46ee-9ec6-69d9b6540cc4",
      "metadata": {
        "id": "d48f5a1d-1774-46ee-9ec6-69d9b6540cc4"
      },
      "source": [
        "## 행렬연산\n",
        "- 선형 대수(Linear Algebra)를 위한 2차원 배열 연산도 지원\n",
        "- p229, 행렬곱, 전치행렬, 역행렬, 행렬식 사용 예시"
      ]
    },
    {
      "cell_type": "code",
      "execution_count": null,
      "id": "002acdc5-9340-4de0-af36-2115c0c1b952",
      "metadata": {
        "tags": [],
        "id": "002acdc5-9340-4de0-af36-2115c0c1b952",
        "outputId": "72161802-2789-428d-e19b-1e6aa82e2965"
      },
      "outputs": [
        {
          "data": {
            "text/plain": [
              "array([[0, 1],\n",
              "       [2, 3]])"
            ]
          },
          "execution_count": 139,
          "metadata": {},
          "output_type": "execute_result"
        }
      ],
      "source": [
        "A = np.array([0, 1, 2, 3]).reshape(2,2)\n",
        "A"
      ]
    },
    {
      "cell_type": "code",
      "execution_count": null,
      "id": "ef41a83f-9a28-48fe-995a-54245156c0f0",
      "metadata": {
        "tags": [],
        "id": "ef41a83f-9a28-48fe-995a-54245156c0f0",
        "outputId": "74b4f5a8-c0af-47f5-f7d3-6554ccc30eb3"
      },
      "outputs": [
        {
          "data": {
            "text/plain": [
              "array([[3, 2],\n",
              "       [0, 1]])"
            ]
          },
          "execution_count": 145,
          "metadata": {},
          "output_type": "execute_result"
        }
      ],
      "source": [
        "B = np.array([3, 2, 0, 1]).reshape(2, 2)\n",
        "B"
      ]
    },
    {
      "cell_type": "code",
      "execution_count": null,
      "id": "b3cabfaf-2ec6-4d86-8e7e-d5c10b30205c",
      "metadata": {
        "tags": [],
        "id": "b3cabfaf-2ec6-4d86-8e7e-d5c10b30205c",
        "outputId": "cf5d10cf-1093-40ec-fa26-cd1a94c7534c"
      },
      "outputs": [
        {
          "data": {
            "text/plain": [
              "array([[0, 1],\n",
              "       [6, 7]])"
            ]
          },
          "execution_count": 147,
          "metadata": {},
          "output_type": "execute_result"
        }
      ],
      "source": [
        "A.dot(B)"
      ]
    },
    {
      "cell_type": "code",
      "execution_count": null,
      "id": "175bfc37-fdf9-40cd-89e6-9c916d70b545",
      "metadata": {
        "tags": [],
        "id": "175bfc37-fdf9-40cd-89e6-9c916d70b545",
        "outputId": "8aebb9d7-0a21-4895-abd7-e6bb93bb1bbe"
      },
      "outputs": [
        {
          "data": {
            "text/plain": [
              "array([[0, 2],\n",
              "       [1, 3]])"
            ]
          },
          "execution_count": 149,
          "metadata": {},
          "output_type": "execute_result"
        }
      ],
      "source": [
        "A.transpose() # 전치행렬"
      ]
    },
    {
      "cell_type": "code",
      "execution_count": null,
      "id": "d7ebdcdd-da54-46f5-8910-b6a9c289cf73",
      "metadata": {
        "tags": [],
        "id": "d7ebdcdd-da54-46f5-8910-b6a9c289cf73",
        "outputId": "cfa3715f-3c3c-464b-ee4b-ba7d9f87fedd"
      },
      "outputs": [
        {
          "data": {
            "text/plain": [
              "array([[-1.5,  0.5],\n",
              "       [ 1. ,  0. ]])"
            ]
          },
          "execution_count": 151,
          "metadata": {},
          "output_type": "execute_result"
        }
      ],
      "source": [
        "np.linalg.inv(A) # 역행렬"
      ]
    },
    {
      "cell_type": "markdown",
      "id": "5fda8bca-894e-4167-8611-cd77a2d97082",
      "metadata": {
        "id": "5fda8bca-894e-4167-8611-cd77a2d97082"
      },
      "source": [
        "## 배열의 인덱싱과 슬라이싱(p.230)\n",
        "- string, list, tuple과 동일한 방법으로 접근"
      ]
    },
    {
      "cell_type": "code",
      "execution_count": null,
      "id": "0103a679-7fcb-4744-a4a0-641a3693786e",
      "metadata": {
        "tags": [],
        "id": "0103a679-7fcb-4744-a4a0-641a3693786e",
        "outputId": "0834ddc9-d2db-43bc-dce4-bb06f7a88cb5"
      },
      "outputs": [
        {
          "data": {
            "text/plain": [
              "array([ 0, 10, 20, 30, 40, 50])"
            ]
          },
          "execution_count": 153,
          "metadata": {},
          "output_type": "execute_result"
        }
      ],
      "source": [
        "a1 = np.array([0,10, 20, 30, 40, 50])\n",
        "a1"
      ]
    },
    {
      "cell_type": "code",
      "execution_count": null,
      "id": "735cd00d-e3f1-4daa-82ab-a0624b9d9a44",
      "metadata": {
        "tags": [],
        "id": "735cd00d-e3f1-4daa-82ab-a0624b9d9a44",
        "outputId": "a9893b6d-91c5-448c-d7ef-9a2d34543ed7"
      },
      "outputs": [
        {
          "data": {
            "text/plain": [
              "40"
            ]
          },
          "execution_count": 156,
          "metadata": {},
          "output_type": "execute_result"
        }
      ],
      "source": [
        "a1[4]"
      ]
    },
    {
      "cell_type": "code",
      "execution_count": null,
      "id": "a0a7ba91-53bd-4fff-a7bb-87fa9c75c7d9",
      "metadata": {
        "tags": [],
        "id": "a0a7ba91-53bd-4fff-a7bb-87fa9c75c7d9",
        "outputId": "eb0952b8-636a-47e6-fac7-1361dd263cec"
      },
      "outputs": [
        {
          "data": {
            "text/plain": [
              "array([ 0, 10, 20, 30, 40, 70])"
            ]
          },
          "execution_count": 162,
          "metadata": {},
          "output_type": "execute_result"
        }
      ],
      "source": [
        "# 50을 70으로 변경하고 싶음\n",
        "a1[5] = 70\n",
        "a1"
      ]
    },
    {
      "cell_type": "code",
      "execution_count": null,
      "id": "1fed9cad-8d36-4de6-b989-37b14d8d174f",
      "metadata": {
        "tags": [],
        "id": "1fed9cad-8d36-4de6-b989-37b14d8d174f",
        "outputId": "8d63afb8-debb-4b76-8db7-9f1b0432abd6"
      },
      "outputs": [
        {
          "data": {
            "text/plain": [
              "array([ 0, 20, 40])"
            ]
          },
          "execution_count": 165,
          "metadata": {},
          "output_type": "execute_result"
        }
      ],
      "source": [
        "# 리스트를 통해서 추출\n",
        "a1[[0, 2, 4]]"
      ]
    },
    {
      "cell_type": "code",
      "execution_count": null,
      "id": "6b065cd6-ab85-460c-8072-d79d328a36db",
      "metadata": {
        "tags": [],
        "id": "6b065cd6-ab85-460c-8072-d79d328a36db",
        "outputId": "0c24b48a-edb9-4e1f-d51e-70c29a5a7e91"
      },
      "outputs": [
        {
          "data": {
            "text/plain": [
              "array([ 0, 20, 40])"
            ]
          },
          "execution_count": 167,
          "metadata": {},
          "output_type": "execute_result"
        }
      ],
      "source": [
        "idx_list = [0, 2, 4]\n",
        "a1[idx_list]"
      ]
    },
    {
      "cell_type": "code",
      "execution_count": null,
      "id": "006c41ae-f7c0-4fd9-bcdd-979b979dac4c",
      "metadata": {
        "tags": [],
        "id": "006c41ae-f7c0-4fd9-bcdd-979b979dac4c",
        "outputId": "5f9052a5-a4ed-4547-c83f-f91d4c3f5f83",
        "colab": {
          "base_uri": "https://localhost:8080/"
        }
      },
      "outputs": [
        {
          "output_type": "execute_result",
          "data": {
            "text/plain": [
              "array([[10, 20, 30],\n",
              "       [40, 50, 60],\n",
              "       [70, 80, 90]])"
            ]
          },
          "metadata": {},
          "execution_count": 6
        }
      ],
      "source": [
        "a2 = np.arange(10, 100, 10).reshape(3, 3)\n",
        "a2"
      ]
    },
    {
      "cell_type": "code",
      "execution_count": null,
      "id": "645ed99c-93a7-4379-8394-e70fbf8973b8",
      "metadata": {
        "tags": [],
        "id": "645ed99c-93a7-4379-8394-e70fbf8973b8",
        "outputId": "a815cc0e-01c3-495b-812f-e315a8232644"
      },
      "outputs": [
        {
          "data": {
            "text/plain": [
              "20"
            ]
          },
          "execution_count": 170,
          "metadata": {},
          "output_type": "execute_result"
        }
      ],
      "source": [
        "a2[0,1]"
      ]
    },
    {
      "cell_type": "code",
      "execution_count": null,
      "id": "22b3f31d-49f1-45a5-840b-ac749683ac13",
      "metadata": {
        "tags": [],
        "id": "22b3f31d-49f1-45a5-840b-ac749683ac13",
        "outputId": "f25581d1-b466-4138-ab1c-40ed21d3fd14"
      },
      "outputs": [
        {
          "data": {
            "text/plain": [
              "90"
            ]
          },
          "execution_count": 172,
          "metadata": {},
          "output_type": "execute_result"
        }
      ],
      "source": [
        "a2[2,2]"
      ]
    },
    {
      "cell_type": "code",
      "execution_count": null,
      "id": "51d14201-8d2a-4e9e-9e6b-ab5d6b75dadd",
      "metadata": {
        "tags": [],
        "id": "51d14201-8d2a-4e9e-9e6b-ab5d6b75dadd",
        "outputId": "c14e84c5-8f31-4013-edb6-8683f3eb4419"
      },
      "outputs": [
        {
          "data": {
            "text/plain": [
              "array([[10, 20, 30],\n",
              "       [40, 50, 60],\n",
              "       [70, 80, 95]])"
            ]
          },
          "execution_count": 174,
          "metadata": {},
          "output_type": "execute_result"
        }
      ],
      "source": [
        "# 90을 95로 변경\n",
        "a2[2,2] = 95\n",
        "a2"
      ]
    },
    {
      "cell_type": "code",
      "execution_count": null,
      "id": "7b221972-7666-4f10-a2f6-51f603f27af1",
      "metadata": {
        "tags": [],
        "id": "7b221972-7666-4f10-a2f6-51f603f27af1",
        "outputId": "d5920f80-a1f2-491a-8c2f-48d178bb9d55"
      },
      "outputs": [
        {
          "data": {
            "text/plain": [
              "array([[ 1,  2,  3],\n",
              "       [40, 50, 60],\n",
              "       [ 1,  2, 95]])"
            ]
          },
          "execution_count": 184,
          "metadata": {},
          "output_type": "execute_result"
        }
      ],
      "source": [
        "a2[2,2] = 95\n",
        "a2"
      ]
    },
    {
      "cell_type": "code",
      "execution_count": null,
      "id": "06006e6a-6eac-4e1c-a6b8-228bdf5d2fde",
      "metadata": {
        "tags": [],
        "id": "06006e6a-6eac-4e1c-a6b8-228bdf5d2fde",
        "outputId": "bfc746ee-68e9-48af-85e5-865eee4811a7"
      },
      "outputs": [
        {
          "data": {
            "text/plain": [
              "array([1, 2, 3])"
            ]
          },
          "execution_count": 185,
          "metadata": {},
          "output_type": "execute_result"
        }
      ],
      "source": [
        "a2[0]"
      ]
    },
    {
      "cell_type": "code",
      "execution_count": null,
      "id": "3e89ec58-7332-4c06-9c1b-cec30c0ecb57",
      "metadata": {
        "tags": [],
        "id": "3e89ec58-7332-4c06-9c1b-cec30c0ecb57",
        "outputId": "284e8203-e282-4f3e-8e94-df33f206b214"
      },
      "outputs": [
        {
          "data": {
            "text/plain": [
              "array([[ 1,  2,  3],\n",
              "       [40, 50, 60],\n",
              "       [ 1,  2, 95]])"
            ]
          },
          "execution_count": 187,
          "metadata": {},
          "output_type": "execute_result"
        }
      ],
      "source": [
        "a2[0] = [1, 2, 3]\n",
        "a2"
      ]
    },
    {
      "cell_type": "code",
      "execution_count": null,
      "id": "3241c2a7-70e1-41c0-a237-1278c9632cb2",
      "metadata": {
        "tags": [],
        "id": "3241c2a7-70e1-41c0-a237-1278c9632cb2",
        "outputId": "3ba78c97-ed64-4ea4-a85c-e95d25d23ec2"
      },
      "outputs": [
        {
          "data": {
            "text/plain": [
              "array([[ 1,  2,  3],\n",
              "       [40, 50, 60],\n",
              "       [ 1,  2, 95]])"
            ]
          },
          "execution_count": 190,
          "metadata": {},
          "output_type": "execute_result"
        }
      ],
      "source": [
        "a2[0] = np.array([1, 2, 3]) # 정석\n",
        "a2"
      ]
    },
    {
      "cell_type": "code",
      "execution_count": null,
      "id": "7dc19310-ee49-4cb4-b366-f9faf2979678",
      "metadata": {
        "tags": [],
        "id": "7dc19310-ee49-4cb4-b366-f9faf2979678",
        "outputId": "3065b513-8b7d-4d54-9d7a-79f4f666d754"
      },
      "outputs": [
        {
          "ename": "ValueError",
          "evalue": "could not broadcast input array from shape (4,) into shape (3,)",
          "output_type": "error",
          "traceback": [
            "\u001b[1;31m---------------------------------------------------------------------------\u001b[0m",
            "\u001b[1;31mValueError\u001b[0m                                Traceback (most recent call last)",
            "Cell \u001b[1;32mIn[191], line 1\u001b[0m\n\u001b[1;32m----> 1\u001b[0m a2[\u001b[38;5;241m0\u001b[39m] \u001b[38;5;241m=\u001b[39m np\u001b[38;5;241m.\u001b[39marray([\u001b[38;5;241m1\u001b[39m, \u001b[38;5;241m2\u001b[39m, \u001b[38;5;241m3\u001b[39m,\u001b[38;5;241m4\u001b[39m]) \u001b[38;5;66;03m# 정석\u001b[39;00m\n\u001b[0;32m      2\u001b[0m a2\n",
            "\u001b[1;31mValueError\u001b[0m: could not broadcast input array from shape (4,) into shape (3,)"
          ]
        }
      ],
      "source": [
        "a2[0] = np.array([1, 2, 3,4]) # 에러! 배열의 사이즈 안 맞음\n",
        "a2"
      ]
    },
    {
      "cell_type": "markdown",
      "id": "2a8f7a54-7f97-4395-bdf2-065651a2e053",
      "metadata": {
        "id": "2a8f7a54-7f97-4395-bdf2-065651a2e053"
      },
      "source": [
        "- 2차원 배열의 행과 열 위치 지정해서 원소 추출\n",
        " +(행의 위치1, 열의 위치1)/(행의 위치2, 열의 위치2)"
      ]
    },
    {
      "cell_type": "code",
      "execution_count": null,
      "id": "bbca86c2-8e04-425c-916c-9efc01f26cfa",
      "metadata": {
        "tags": [],
        "id": "bbca86c2-8e04-425c-916c-9efc01f26cfa",
        "outputId": "e87df519-079b-4d7b-deb2-fc4bb59ea8db",
        "colab": {
          "base_uri": "https://localhost:8080/"
        }
      },
      "outputs": [
        {
          "output_type": "execute_result",
          "data": {
            "text/plain": [
              "array([[10, 20, 30],\n",
              "       [40, 50, 60],\n",
              "       [70, 80, 90]])"
            ]
          },
          "metadata": {},
          "execution_count": 7
        }
      ],
      "source": [
        "a2"
      ]
    },
    {
      "cell_type": "code",
      "execution_count": null,
      "id": "1de1fbf3-3861-4e25-be28-6a79fee21dd6",
      "metadata": {
        "tags": [],
        "id": "1de1fbf3-3861-4e25-be28-6a79fee21dd6",
        "outputId": "c2cda5f4-49be-456d-e240-e9dc707af8bd",
        "colab": {
          "base_uri": "https://localhost:8080/"
        }
      },
      "outputs": [
        {
          "output_type": "execute_result",
          "data": {
            "text/plain": [
              "array([10, 80])"
            ]
          },
          "metadata": {},
          "execution_count": 8
        }
      ],
      "source": [
        "a2[[0,2],[0,1]]"
      ]
    },
    {
      "cell_type": "code",
      "execution_count": null,
      "id": "1d9b8922-48b3-45fe-8fd3-27453c867c53",
      "metadata": {
        "tags": [],
        "id": "1d9b8922-48b3-45fe-8fd3-27453c867c53",
        "outputId": "d11826cf-97a1-4fa3-e4ae-5fbe76c723ce",
        "colab": {
          "base_uri": "https://localhost:8080/"
        }
      },
      "outputs": [
        {
          "output_type": "execute_result",
          "data": {
            "text/plain": [
              "array([10, 80])"
            ]
          },
          "metadata": {},
          "execution_count": 9
        }
      ],
      "source": [
        "a2[[0,2], [0,1]]"
      ]
    },
    {
      "cell_type": "markdown",
      "id": "01a199b2-c8ed-4d01-b693-71a6adc1ac49",
      "metadata": {
        "id": "01a199b2-c8ed-4d01-b693-71a6adc1ac49"
      },
      "source": [
        "## 베열의 조건문\n",
        "- pandas 문법과 유사"
      ]
    },
    {
      "cell_type": "code",
      "execution_count": null,
      "id": "1003255c-ff63-41cd-9d76-3fb974fea48b",
      "metadata": {
        "tags": [],
        "id": "1003255c-ff63-41cd-9d76-3fb974fea48b",
        "outputId": "8375757a-421f-4d06-9f36-f514551f4039"
      },
      "outputs": [
        {
          "data": {
            "text/plain": [
              "array([1, 2, 3, 4, 5, 6])"
            ]
          },
          "execution_count": 203,
          "metadata": {},
          "output_type": "execute_result"
        }
      ],
      "source": [
        "a = np.array([1,2,3,4,5,6])\n",
        "a"
      ]
    },
    {
      "cell_type": "code",
      "execution_count": null,
      "id": "65499f84-39da-490f-89c2-df0f42b77340",
      "metadata": {
        "tags": [],
        "id": "65499f84-39da-490f-89c2-df0f42b77340",
        "outputId": "abb6a259-fae8-4516-9804-b113505c40c6"
      },
      "outputs": [
        {
          "data": {
            "text/plain": [
              "[array([False, False, False,  True,  True,  True])]"
            ]
          },
          "execution_count": 204,
          "metadata": {},
          "output_type": "execute_result"
        }
      ],
      "source": [
        "[a>3]"
      ]
    },
    {
      "cell_type": "code",
      "execution_count": null,
      "id": "8c09420e-b5de-4b21-a8c2-c3f0eede7d90",
      "metadata": {
        "tags": [],
        "id": "8c09420e-b5de-4b21-a8c2-c3f0eede7d90",
        "outputId": "2f305227-0750-4842-8679-392ae6e777a4"
      },
      "outputs": [
        {
          "data": {
            "text/plain": [
              "array([4, 5, 6])"
            ]
          },
          "execution_count": 206,
          "metadata": {},
          "output_type": "execute_result"
        }
      ],
      "source": [
        "a[a>3]"
      ]
    },
    {
      "cell_type": "code",
      "execution_count": null,
      "id": "8926ee9c-d8dd-4b20-a439-dac472e19171",
      "metadata": {
        "tags": [],
        "id": "8926ee9c-d8dd-4b20-a439-dac472e19171",
        "outputId": "ed3e6a30-afd9-426b-bd0b-435b80202eac"
      },
      "outputs": [
        {
          "data": {
            "text/plain": [
              "array([False,  True, False,  True, False,  True])"
            ]
          },
          "execution_count": 208,
          "metadata": {},
          "output_type": "execute_result"
        }
      ],
      "source": [
        "a % 2 == 0"
      ]
    },
    {
      "cell_type": "markdown",
      "id": "c0acaedd-883e-4ce2-8869-b26f1186c109",
      "metadata": {
        "id": "c0acaedd-883e-4ce2-8869-b26f1186c109"
      },
      "source": [
        "## 배열의 슬라이싱"
      ]
    },
    {
      "cell_type": "code",
      "execution_count": null,
      "id": "b9e7f9fa-5c13-41f2-8f8e-724a9d81bf43",
      "metadata": {
        "tags": [],
        "id": "b9e7f9fa-5c13-41f2-8f8e-724a9d81bf43",
        "outputId": "ba9a7e50-a10c-4fab-b908-081c90700d4c"
      },
      "outputs": [
        {
          "data": {
            "text/plain": [
              "array([1, 2, 3])"
            ]
          },
          "execution_count": 210,
          "metadata": {},
          "output_type": "execute_result"
        }
      ],
      "source": [
        "# p.234\n",
        "b1 = np.array([0,1,2,3,4,5])\n",
        "b1[1:4]"
      ]
    },
    {
      "cell_type": "code",
      "execution_count": null,
      "id": "a0789703-0b6d-4a46-8f9d-de64999a09a3",
      "metadata": {
        "tags": [],
        "id": "a0789703-0b6d-4a46-8f9d-de64999a09a3",
        "outputId": "ed578c4b-bd76-454f-b331-dcd18317ae98"
      },
      "outputs": [
        {
          "data": {
            "text/plain": [
              "array([0, 1, 2])"
            ]
          },
          "execution_count": 212,
          "metadata": {},
          "output_type": "execute_result"
        }
      ],
      "source": [
        "b1[:3]"
      ]
    },
    {
      "cell_type": "code",
      "execution_count": null,
      "id": "41a404bc-3292-455b-900d-f9f4b2da4019",
      "metadata": {
        "tags": [],
        "id": "41a404bc-3292-455b-900d-f9f4b2da4019",
        "outputId": "48e3a997-edb7-4494-f417-5c464344b9aa"
      },
      "outputs": [
        {
          "data": {
            "text/plain": [
              "array([2, 3, 4, 5])"
            ]
          },
          "execution_count": 214,
          "metadata": {},
          "output_type": "execute_result"
        }
      ],
      "source": [
        "b1[2:]"
      ]
    },
    {
      "cell_type": "code",
      "execution_count": null,
      "id": "14752d3a-ab23-45c8-aefc-28ea2b0f6b61",
      "metadata": {
        "tags": [],
        "id": "14752d3a-ab23-45c8-aefc-28ea2b0f6b61",
        "outputId": "92674887-2c62-482a-9291-ff63245f5538"
      },
      "outputs": [
        {
          "data": {
            "text/plain": [
              "array([0, 2])"
            ]
          },
          "execution_count": 216,
          "metadata": {},
          "output_type": "execute_result"
        }
      ],
      "source": [
        "b1[0:4:2]"
      ]
    },
    {
      "cell_type": "code",
      "execution_count": null,
      "id": "2b29f4f3-3a50-4dff-911b-a6d77d0c0d38",
      "metadata": {
        "tags": [],
        "id": "2b29f4f3-3a50-4dff-911b-a6d77d0c0d38",
        "outputId": "ba5ee210-a231-4ce1-9526-82d920aefc31"
      },
      "outputs": [
        {
          "data": {
            "text/plain": [
              "array([ 0,  1, 25, 35, 45,  5])"
            ]
          },
          "execution_count": 218,
          "metadata": {},
          "output_type": "execute_result"
        }
      ],
      "source": [
        "b1[2:5] = np.array([25,35,45])\n",
        "b1"
      ]
    },
    {
      "cell_type": "code",
      "execution_count": null,
      "id": "c58d940a-15dd-49e3-b443-309276da64fc",
      "metadata": {
        "tags": [],
        "id": "c58d940a-15dd-49e3-b443-309276da64fc",
        "outputId": "56e174ef-41cf-4c6a-ba79-24ccb4700f39"
      },
      "outputs": [
        {
          "data": {
            "text/plain": [
              "array([ 0,  1, 25, 60, 60, 60])"
            ]
          },
          "execution_count": 220,
          "metadata": {},
          "output_type": "execute_result"
        }
      ],
      "source": [
        "b1[3:6] = 60\n",
        "b1"
      ]
    },
    {
      "cell_type": "code",
      "execution_count": null,
      "id": "116e94d5-befa-4b63-9db4-34f2b9be3fed",
      "metadata": {
        "tags": [],
        "id": "116e94d5-befa-4b63-9db4-34f2b9be3fed",
        "outputId": "63417149-6847-4aae-c127-a0ee34225c39"
      },
      "outputs": [
        {
          "data": {
            "text/plain": [
              "array([[10, 20, 30],\n",
              "       [40, 50, 60],\n",
              "       [70, 80, 90]])"
            ]
          },
          "execution_count": 223,
          "metadata": {},
          "output_type": "execute_result"
        }
      ],
      "source": [
        "b2 = np.arange(10,100,10).reshape(3,3)\n",
        "b2"
      ]
    },
    {
      "cell_type": "code",
      "execution_count": null,
      "id": "29e0680a-178d-49c9-ab5c-11c89a881b65",
      "metadata": {
        "tags": [],
        "id": "29e0680a-178d-49c9-ab5c-11c89a881b65",
        "outputId": "a3c4ba9d-2178-4fb5-a791-227977d59b2e"
      },
      "outputs": [
        {
          "data": {
            "text/plain": [
              "array([[50, 60],\n",
              "       [80, 90]])"
            ]
          },
          "execution_count": 225,
          "metadata": {},
          "output_type": "execute_result"
        }
      ],
      "source": [
        "b2[1:3,1:3]"
      ]
    },
    {
      "cell_type": "code",
      "execution_count": null,
      "id": "77467b0e-908f-4733-86ef-80e9b86d90df",
      "metadata": {
        "tags": [],
        "id": "77467b0e-908f-4733-86ef-80e9b86d90df",
        "outputId": "af2838fd-5566-4ba9-d9fe-b4fb248d8024"
      },
      "outputs": [
        {
          "data": {
            "text/plain": [
              "array([[50, 60],\n",
              "       [80, 90]])"
            ]
          },
          "execution_count": 227,
          "metadata": {},
          "output_type": "execute_result"
        }
      ],
      "source": [
        "b2[1:,1:]"
      ]
    },
    {
      "cell_type": "code",
      "execution_count": null,
      "id": "be06fe7b-59f9-4e43-a776-316eb0949919",
      "metadata": {
        "tags": [],
        "id": "be06fe7b-59f9-4e43-a776-316eb0949919",
        "outputId": "28893049-1aea-498e-fc00-8df4866eabcf"
      },
      "outputs": [
        {
          "data": {
            "text/plain": [
              "array([50, 60])"
            ]
          },
          "execution_count": 233,
          "metadata": {},
          "output_type": "execute_result"
        }
      ],
      "source": [
        "b2[1][1:3]"
      ]
    },
    {
      "cell_type": "markdown",
      "id": "2ef401d8-ba85-4994-96c8-729f557350c9",
      "metadata": {
        "id": "2ef401d8-ba85-4994-96c8-729f557350c9"
      },
      "source": [
        "## NumPy 조건문\n",
        "- np.where : 단일 조건문\n",
        "- np.select : 다중 조건문"
      ]
    },
    {
      "cell_type": "code",
      "execution_count": null,
      "id": "4f5231e3-40be-4a12-88b8-0878714ace90",
      "metadata": {
        "tags": [],
        "id": "4f5231e3-40be-4a12-88b8-0878714ace90",
        "outputId": "b354e852-d70a-4142-beac-29ac7f2a625f"
      },
      "outputs": [
        {
          "data": {
            "text/plain": [
              "array([0, 1, 2, 3, 4, 5, 6, 7, 8, 9])"
            ]
          },
          "execution_count": 237,
          "metadata": {},
          "output_type": "execute_result"
        }
      ],
      "source": [
        "arr = np.arange(10)\n",
        "arr"
      ]
    },
    {
      "cell_type": "code",
      "execution_count": null,
      "id": "d935ced7-85d5-4591-93db-f1701a1877f1",
      "metadata": {
        "tags": [],
        "id": "d935ced7-85d5-4591-93db-f1701a1877f1",
        "outputId": "524a1c91-f086-4a15-b1b6-642a5f3b801f"
      },
      "outputs": [
        {
          "data": {
            "text/plain": [
              "array([ 0,  1,  2,  3,  4, 50, 60, 70, 80, 90])"
            ]
          },
          "execution_count": 236,
          "metadata": {},
          "output_type": "execute_result"
        }
      ],
      "source": [
        "# 0, 1, 2, 3, 4, 50, 60, 70, 80, 90\n",
        "np.where(arr < 5, arr, arr*10)"
      ]
    },
    {
      "cell_type": "code",
      "execution_count": null,
      "id": "56528a96-e295-454c-ba01-5033fee465b0",
      "metadata": {
        "tags": [],
        "id": "56528a96-e295-454c-ba01-5033fee465b0",
        "outputId": "9a6047e3-dc2d-42fc-f9d7-85f4f9cccc4e"
      },
      "outputs": [
        {
          "data": {
            "text/plain": [
              "array([0, 1, 2, 3, 4, 5, 6, 7, 8, 9])"
            ]
          },
          "execution_count": 238,
          "metadata": {},
          "output_type": "execute_result"
        }
      ],
      "source": [
        "arr = np.arange(10)\n",
        "arr"
      ]
    },
    {
      "cell_type": "code",
      "execution_count": null,
      "id": "f8080416-f981-4a8f-a3ed-aaab42a68da9",
      "metadata": {
        "tags": [],
        "id": "f8080416-f981-4a8f-a3ed-aaab42a68da9",
        "outputId": "f8c9af39-3cfe-4f53-d008-70d4985fd277"
      },
      "outputs": [
        {
          "data": {
            "text/plain": [
              "array([100, 101,   2,   3,   4,   5,  12,  14,  16,  18])"
            ]
          },
          "execution_count": 240,
          "metadata": {},
          "output_type": "execute_result"
        }
      ],
      "source": [
        "# 100, 101, 2, 3, 4, 5, 12, 14, 16, 18\n",
        "# 2미만일 때는 100을 더해라\n",
        "# 5초과일 때는 곱하기 2를 하라\n",
        "\n",
        "# 조건식과 대응되는 결과를 리스트로 만들기\n",
        "cond_list = [arr>5, arr<2]\n",
        "choice_list = [arr*2, arr +100]\n",
        "\n",
        "np.select(cond_list, choice_list, default=arr)"
      ]
    }
  ],
  "metadata": {
    "kernelspec": {
      "display_name": "Python 3 (ipykernel)",
      "language": "python",
      "name": "python3"
    },
    "language_info": {
      "codemirror_mode": {
        "name": "ipython",
        "version": 3
      },
      "file_extension": ".py",
      "mimetype": "text/x-python",
      "name": "python",
      "nbconvert_exporter": "python",
      "pygments_lexer": "ipython3",
      "version": "3.11.5"
    },
    "colab": {
      "provenance": [],
      "include_colab_link": true
    }
  },
  "nbformat": 4,
  "nbformat_minor": 5
}